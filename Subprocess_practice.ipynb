{
 "cells": [
  {
   "cell_type": "code",
   "execution_count": 3,
   "id": "3267dadb",
   "metadata": {},
   "outputs": [],
   "source": [
    "import subprocess"
   ]
  },
  {
   "cell_type": "code",
   "execution_count": null,
   "id": "c275a9a7",
   "metadata": {},
   "outputs": [],
   "source": [
    "subprocess.run(args, *, stdin=None, input=None, stdout=None, stderr=None,\n",
    "               capture_output=False, shell=False, cwd=None, timeout=None, \n",
    "               check=False, encoding=None, errors=None, text=None, env=None, \n",
    "               universal_newlines=None, **other_popen_kwargs)"
   ]
  },
  {
   "cell_type": "code",
   "execution_count": null,
   "id": "102178ec",
   "metadata": {},
   "outputs": [],
   "source": []
  }
 ],
 "metadata": {
  "kernelspec": {
   "display_name": "Python 3 (ipykernel)",
   "language": "python",
   "name": "python3"
  },
  "language_info": {
   "codemirror_mode": {
    "name": "ipython",
    "version": 3
   },
   "file_extension": ".py",
   "mimetype": "text/x-python",
   "name": "python",
   "nbconvert_exporter": "python",
   "pygments_lexer": "ipython3",
   "version": "3.9.12"
  }
 },
 "nbformat": 4,
 "nbformat_minor": 5
}
