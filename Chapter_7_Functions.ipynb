{
 "cells": [
  {
   "cell_type": "code",
   "execution_count": 1,
   "id": "1704dc9a",
   "metadata": {},
   "outputs": [
    {
     "data": {
      "text/plain": [
       "45.0"
      ]
     },
     "execution_count": 1,
     "metadata": {},
     "output_type": "execute_result"
    }
   ],
   "source": [
    "#7.1 Writing Functions That Accept Any Number of Arguments\n",
    "\n",
    "def avg(first, *rest):\n",
    "    return (first + sum(rest)) / (1 + len(rest))\n",
    "\n",
    "avg(12, 34, 56, 78)"
   ]
  },
  {
   "cell_type": "code",
   "execution_count": 3,
   "id": "64e281c2",
   "metadata": {},
   "outputs": [
    {
     "data": {
      "text/plain": [
       "'<playerage=\"33\"rating=\"93\">Robert Lewandowski</player>'"
      ]
     },
     "execution_count": 3,
     "metadata": {},
     "output_type": "execute_result"
    }
   ],
   "source": [
    "import html\n",
    "\n",
    "def make_element(name, value, **attrs):\n",
    "    keyvals = ['%s=\"%s\"' % item for item in attrs.items()]\n",
    "    attr_str = ''.join(keyvals)\n",
    "    element = '<{name}{attrs}>{value}</{name}>'.format(\n",
    "                  name=name,\n",
    "                  attrs=attr_str,\n",
    "                  value=html.escape(value)\n",
    "    )\n",
    "    return element\n",
    "\n",
    "make_element('player', 'Robert Lewandowski', age='33', rating='93' )"
   ]
  },
  {
   "cell_type": "code",
   "execution_count": 4,
   "id": "926a9379",
   "metadata": {},
   "outputs": [
    {
     "data": {
      "text/plain": [
       "199"
      ]
     },
     "execution_count": 4,
     "metadata": {},
     "output_type": "execute_result"
    }
   ],
   "source": [
    "#7.2 Writing Functions That Only Accept Keyword Arguments\n",
    "\n",
    "def maximum(*values, clip=None):\n",
    "    m = max(values)\n",
    "    if clip is not None:\n",
    "        m= clip if clip < m else m\n",
    "    return m\n",
    "\n",
    "maximum(65, 199, 45, 98, 17)"
   ]
  },
  {
   "cell_type": "code",
   "execution_count": 11,
   "id": "d32b0f7d",
   "metadata": {},
   "outputs": [
    {
     "name": "stdout",
     "output_type": "stream",
     "text": [
      "Help on function avg in module __main__:\n",
      "\n",
      "avg(first: int, *rest: int) -> int\n",
      "\n"
     ]
    }
   ],
   "source": [
    "#7.3 Attaching Informational Metadata to Function Arguments\n",
    "\n",
    "def avg(first:int, *rest:int) -> int:\n",
    "    return (first + sum(rest)) / (1 + len(rest))\n",
    "\n",
    "help(avg)"
   ]
  },
  {
   "cell_type": "code",
   "execution_count": 10,
   "id": "5bd984b0",
   "metadata": {},
   "outputs": [
    {
     "data": {
      "text/plain": [
       "{}"
      ]
     },
     "execution_count": 10,
     "metadata": {},
     "output_type": "execute_result"
    }
   ],
   "source": [
    "avg.__annotations__"
   ]
  },
  {
   "cell_type": "code",
   "execution_count": 16,
   "id": "9ae406f1",
   "metadata": {},
   "outputs": [],
   "source": [
    "#7.4 Returning Multiple Values from a Function\n",
    "\n",
    "def myplayers():\n",
    "    return 'Derek Carr', 'Hunter Renfrow', 'Darren Waller', 'Davante Adams'"
   ]
  },
  {
   "cell_type": "code",
   "execution_count": 19,
   "id": "8322413f",
   "metadata": {},
   "outputs": [
    {
     "name": "stdout",
     "output_type": "stream",
     "text": [
      "Derek Carr\n"
     ]
    }
   ],
   "source": [
    "a, b, c, d = myplayers()\n",
    "print(a)"
   ]
  },
  {
   "cell_type": "code",
   "execution_count": 21,
   "id": "b2b585a2",
   "metadata": {},
   "outputs": [],
   "source": [
    "#7.5 Defining Functions with Default Arguments\n",
    "\n",
    "no_value = object()\n",
    "\n",
    "def add(a, b=no_value):\n",
    "    if b is no_value:\n",
    "        return a\n",
    "    else:\n",
    "        return(a + b)"
   ]
  },
  {
   "cell_type": "code",
   "execution_count": 22,
   "id": "ec0fb39a",
   "metadata": {},
   "outputs": [
    {
     "data": {
      "text/plain": [
       "5"
      ]
     },
     "execution_count": 22,
     "metadata": {},
     "output_type": "execute_result"
    }
   ],
   "source": [
    "add(5)"
   ]
  },
  {
   "cell_type": "code",
   "execution_count": 23,
   "id": "d7ff2191",
   "metadata": {},
   "outputs": [
    {
     "data": {
      "text/plain": [
       "12"
      ]
     },
     "execution_count": 23,
     "metadata": {},
     "output_type": "execute_result"
    }
   ],
   "source": [
    "add(5,7)"
   ]
  },
  {
   "cell_type": "code",
   "execution_count": 7,
   "id": "e1150c63",
   "metadata": {},
   "outputs": [
    {
     "data": {
      "text/plain": [
       "30"
      ]
     },
     "execution_count": 7,
     "metadata": {},
     "output_type": "execute_result"
    }
   ],
   "source": [
    "def multiply(a, b=None):\n",
    "    if b is None:\n",
    "        return a\n",
    "    else:\n",
    "        return(a * b)\n",
    "\n",
    "multiply(5,6)"
   ]
  },
  {
   "cell_type": "code",
   "execution_count": 8,
   "id": "417a26f4",
   "metadata": {},
   "outputs": [
    {
     "data": {
      "text/plain": [
       "5"
      ]
     },
     "execution_count": 8,
     "metadata": {},
     "output_type": "execute_result"
    }
   ],
   "source": [
    "multiply(5)"
   ]
  },
  {
   "cell_type": "code",
   "execution_count": 10,
   "id": "eaafc67f",
   "metadata": {},
   "outputs": [
    {
     "data": {
      "text/plain": [
       "56"
      ]
     },
     "execution_count": 10,
     "metadata": {},
     "output_type": "execute_result"
    }
   ],
   "source": [
    "#7.6 Defining Anonymous or Inline Functions\n",
    "\n",
    "add = lambda a, b: a + b\n",
    "add(11,45)"
   ]
  },
  {
   "cell_type": "code",
   "execution_count": 15,
   "id": "c3186c4e",
   "metadata": {},
   "outputs": [
    {
     "data": {
      "text/plain": [
       "['Apple', 'Lettuce', 'Tomatos', 'Turkey']"
      ]
     },
     "execution_count": 15,
     "metadata": {},
     "output_type": "execute_result"
    }
   ],
   "source": [
    "grocery_list = [\n",
    "    'Apple',\n",
    "    'Turkey',\n",
    "    'Lettuce',\n",
    "    'Tomatos'\n",
    "]\n",
    "\n",
    "sorted(grocery_list, key=lambda list: list.split()[0].upper())"
   ]
  },
  {
   "cell_type": "code",
   "execution_count": 17,
   "id": "98c53f3f",
   "metadata": {},
   "outputs": [
    {
     "data": {
      "text/plain": [
       "30"
      ]
     },
     "execution_count": 17,
     "metadata": {},
     "output_type": "execute_result"
    }
   ],
   "source": [
    "#7.7 Capturing Variable in Anonymous Functions\n",
    "\n",
    "x = 20\n",
    "a = lambda y, x=x: x+y\n",
    "a(10)"
   ]
  },
  {
   "cell_type": "code",
   "execution_count": 20,
   "id": "752f7475",
   "metadata": {},
   "outputs": [
    {
     "data": {
      "text/plain": [
       "55"
      ]
     },
     "execution_count": 20,
     "metadata": {},
     "output_type": "execute_result"
    }
   ],
   "source": [
    "x=25\n",
    "b = lambda y, x=x: x+y\n",
    "b(30)"
   ]
  },
  {
   "cell_type": "code",
   "execution_count": 21,
   "id": "55ce7bdc",
   "metadata": {},
   "outputs": [
    {
     "name": "stdout",
     "output_type": "stream",
     "text": [
      "1\n",
      "2\n",
      "3\n",
      "4\n",
      "5\n",
      "6\n",
      "7\n",
      "8\n",
      "9\n",
      "10\n"
     ]
    }
   ],
   "source": [
    "funcs = [lambda x, n=n: x+n for n in range(10)]\n",
    "for f in funcs:\n",
    "    print(f(1)) #start from 1\n"
   ]
  },
  {
   "cell_type": "code",
   "execution_count": 27,
   "id": "d599be32",
   "metadata": {},
   "outputs": [
    {
     "name": "stdout",
     "output_type": "stream",
     "text": [
      "66 2 3 4\n"
     ]
    }
   ],
   "source": [
    "#7.8 Making an N-Argument Callable Work As a Callable with Fewer Arguments\n",
    "\n",
    "from functools import partial\n",
    "\n",
    "def bar(w, x, y, z):\n",
    "    print(w, x, y, z)\n",
    "    \n",
    "s1 = partial(bar, 66) #fix argument value w=66\n",
    "s1(2, 3, 4)"
   ]
  },
  {
   "cell_type": "code",
   "execution_count": 25,
   "id": "8827876b",
   "metadata": {},
   "outputs": [
    {
     "name": "stdout",
     "output_type": "stream",
     "text": [
      "66 4 5 6\n"
     ]
    }
   ],
   "source": [
    "s1(4, 5, 6)"
   ]
  },
  {
   "cell_type": "code",
   "execution_count": 28,
   "id": "cdfda95c",
   "metadata": {},
   "outputs": [
    {
     "name": "stdout",
     "output_type": "stream",
     "text": [
      "1 2 3 99\n"
     ]
    }
   ],
   "source": [
    "s2 = partial(bar, z=99)\n",
    "s2(1, 2, 3)"
   ]
  },
  {
   "cell_type": "code",
   "execution_count": 30,
   "id": "bd430aba",
   "metadata": {},
   "outputs": [
    {
     "name": "stdout",
     "output_type": "stream",
     "text": [
      "3 6 5 22\n"
     ]
    }
   ],
   "source": [
    "s3 = partial(bar, 3, 6, z=22)\n",
    "s3(5)"
   ]
  },
  {
   "cell_type": "code",
   "execution_count": null,
   "id": "83475981",
   "metadata": {},
   "outputs": [],
   "source": [
    "#7.9 Replacing Single Method Classes with Functions\n",
    "\n",
    "from urllib.request import urlopen\n",
    "\n",
    "class UrlTemplate:\n",
    "    def __init__(self, template):\n",
    "        self.template = template\n",
    "    def open(self, **kwargs):\n",
    "        return urlopen(self.template.format_map(kwargs))\n",
    "    \n"
   ]
  },
  {
   "cell_type": "code",
   "execution_count": null,
   "id": "515d9815",
   "metadata": {},
   "outputs": [],
   "source": []
  },
  {
   "cell_type": "code",
   "execution_count": 31,
   "id": "7918333d",
   "metadata": {},
   "outputs": [
    {
     "name": "stdout",
     "output_type": "stream",
     "text": [
      "Generated: 77\n"
     ]
    }
   ],
   "source": [
    "#7.10 Carrying Extra State with Callback Functions\n",
    "\n",
    "def apply_async(func, args, *, callback): #example of asynchronous processing\n",
    "    result = func(*args) #compute the result\n",
    "    callback(result) #Invoke the callback with the result\n",
    "    \n",
    "def print_result(result):\n",
    "    print('Generated:', result)\n",
    "    \n",
    "def multuply(x, y):\n",
    "    return x * y\n",
    "\n",
    "apply_async(multiply, (7, 11), callback=print_result)"
   ]
  },
  {
   "cell_type": "code",
   "execution_count": 33,
   "id": "a6cbc422",
   "metadata": {},
   "outputs": [
    {
     "name": "stdout",
     "output_type": "stream",
     "text": [
      "Generated: Python is awesome!\n"
     ]
    }
   ],
   "source": [
    "def add(x, y):\n",
    "    return x + y\n",
    "\n",
    "apply_async(add, ('Python', ' is awesome!'), callback=print_result)"
   ]
  },
  {
   "cell_type": "code",
   "execution_count": 34,
   "id": "e385973b",
   "metadata": {},
   "outputs": [
    {
     "name": "stdout",
     "output_type": "stream",
     "text": [
      "Test [1] Generated: 77\n"
     ]
    }
   ],
   "source": [
    "class ResultHandler:\n",
    "    def __init__(self):\n",
    "        self.sequence = 0\n",
    "    def handler(self, result):\n",
    "        self.sequence += 1\n",
    "        print('Test [{}] Generated: {}'.format(self.sequence, result))\n",
    "        \n",
    "outcome = ResultHandler()\n",
    "\n",
    "apply_async(multiply, (7,11), callback=outcome.handler)"
   ]
  },
  {
   "cell_type": "code",
   "execution_count": 35,
   "id": "31bc8345",
   "metadata": {},
   "outputs": [
    {
     "name": "stdout",
     "output_type": "stream",
     "text": [
      "Test [2] Generated: Python is awesome!\n"
     ]
    }
   ],
   "source": [
    "apply_async(add, ('Python', ' is awesome!'), callback=outcome.handler)"
   ]
  },
  {
   "cell_type": "code",
   "execution_count": 37,
   "id": "bb95818c",
   "metadata": {},
   "outputs": [
    {
     "ename": "SyntaxError",
     "evalue": "'break' outside loop (3545073517.py, line 21)",
     "output_type": "error",
     "traceback": [
      "\u001b[1;36m  Input \u001b[1;32mIn [37]\u001b[1;36m\u001b[0m\n\u001b[1;33m    break\u001b[0m\n\u001b[1;37m    ^\u001b[0m\n\u001b[1;31mSyntaxError\u001b[0m\u001b[1;31m:\u001b[0m 'break' outside loop\n"
     ]
    }
   ],
   "source": [
    "#7.11 Inlining Callback Functions\n",
    "\n",
    "from queue import Queue\n",
    "from functools import wraps\n",
    "\n",
    "class Async:\n",
    "    def __init__(self, func, args):\n",
    "        self.func = func\n",
    "        self.args = args\n",
    "        \n",
    "def inlined_async(func):\n",
    "    @wraps(func)\n",
    "    def wrapper(*args):\n",
    "        f= func(*args)\n",
    "        result_queue = Queue\n",
    "        result_queue.put(None)\n",
    "        try:\n",
    "            a = f.send(result)\n",
    "            apply_async(a.func, a.args, callback=result_queue.put)\n",
    "        except StopIteration:\n",
    "            break\n",
    "    return wrapper\n",
    "\n"
   ]
  },
  {
   "cell_type": "code",
   "execution_count": 38,
   "id": "120d89ce",
   "metadata": {},
   "outputs": [
    {
     "data": {
      "text/plain": [
       "<generator object test_1 at 0x0000014F6AA95EB0>"
      ]
     },
     "execution_count": 38,
     "metadata": {},
     "output_type": "execute_result"
    }
   ],
   "source": [
    "def test_1():\n",
    "    result = yield Async(multiply, (7, 11))\n",
    "    print(result)\n",
    "    result = yield Async(add, ('Python is', 'awesome!'))\n",
    "    print(result)\n",
    "    for n in range(10):\n",
    "        r = yield Async(add, (n, n))\n",
    "        print(result)\n",
    "    print('See ya later!')\n",
    "    \n",
    "test_1()"
   ]
  },
  {
   "cell_type": "code",
   "execution_count": 41,
   "id": "f87ff656",
   "metadata": {},
   "outputs": [],
   "source": [
    "# 7.12 Accessing Variable Defined Inside a Closure\n",
    "\n",
    "def sample():\n",
    "    number = 0\n",
    "    \n",
    "    def function(): #closure function\n",
    "        print('n=', number)\n",
    "        \n",
    "    def get_n(): #accessor methods for 'number'\n",
    "        return number\n",
    "    \n",
    "    def set_n(value):\n",
    "        nonlocal number\n",
    "        number=value\n",
    "        \n",
    "    #attach as function attributes\n",
    "    \n",
    "    function.get_n = get_n\n",
    "    function.set_n = set_n\n",
    "    return function"
   ]
  },
  {
   "cell_type": "code",
   "execution_count": 43,
   "id": "d87d6d1b",
   "metadata": {},
   "outputs": [],
   "source": [
    "f = sample() #global assignment"
   ]
  },
  {
   "cell_type": "code",
   "execution_count": 44,
   "id": "9c7ab26c",
   "metadata": {},
   "outputs": [
    {
     "name": "stdout",
     "output_type": "stream",
     "text": [
      "n= 0\n"
     ]
    }
   ],
   "source": [
    "f()"
   ]
  },
  {
   "cell_type": "code",
   "execution_count": 46,
   "id": "e3520f78",
   "metadata": {},
   "outputs": [
    {
     "name": "stdout",
     "output_type": "stream",
     "text": [
      "n= 24\n"
     ]
    }
   ],
   "source": [
    "f.set_n(24)\n",
    "f()"
   ]
  },
  {
   "cell_type": "code",
   "execution_count": 47,
   "id": "cb29b112",
   "metadata": {},
   "outputs": [
    {
     "name": "stdout",
     "output_type": "stream",
     "text": [
      "n= 24\n"
     ]
    }
   ],
   "source": [
    "f.get_n()\n",
    "f()"
   ]
  }
 ],
 "metadata": {
  "kernelspec": {
   "display_name": "Python 3 (ipykernel)",
   "language": "python",
   "name": "python3"
  },
  "language_info": {
   "codemirror_mode": {
    "name": "ipython",
    "version": 3
   },
   "file_extension": ".py",
   "mimetype": "text/x-python",
   "name": "python",
   "nbconvert_exporter": "python",
   "pygments_lexer": "ipython3",
   "version": "3.9.12"
  }
 },
 "nbformat": 4,
 "nbformat_minor": 5
}
