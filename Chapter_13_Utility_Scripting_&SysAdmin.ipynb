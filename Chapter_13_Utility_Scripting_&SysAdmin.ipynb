{
 "cells": [
  {
   "cell_type": "markdown",
   "id": "48092074",
   "metadata": {},
   "source": [
    "###13.3 Parsing Command-Line Options"
   ]
  },
  {
   "cell_type": "code",
   "execution_count": 1,
   "id": "d9e56565",
   "metadata": {},
   "outputs": [],
   "source": [
    "import argparse"
   ]
  },
  {
   "cell_type": "code",
   "execution_count": 17,
   "id": "3f774f18",
   "metadata": {},
   "outputs": [],
   "source": [
    "parser = argparse.ArgumentParser(description='Search some files')"
   ]
  },
  {
   "cell_type": "code",
   "execution_count": 28,
   "id": "327d9855",
   "metadata": {},
   "outputs": [
    {
     "data": {
      "text/plain": [
       "_StoreAction(option_strings=[], dest='filenames', nargs='*', const=None, default=None, type=None, choices=None, help=None, metavar='filename')"
      ]
     },
     "execution_count": 28,
     "metadata": {},
     "output_type": "execute_result"
    }
   ],
   "source": [
    "parser.add_argument(dest='filenames',metavar='filename', nargs='*')"
   ]
  },
  {
   "cell_type": "code",
   "execution_count": 29,
   "id": "7bc3c836",
   "metadata": {},
   "outputs": [
    {
     "ename": "ArgumentError",
     "evalue": "argument -p/--pat: conflicting option strings: -p, --pat",
     "output_type": "error",
     "traceback": [
      "\u001b[1;31m---------------------------------------------------------------------------\u001b[0m",
      "\u001b[1;31mArgumentError\u001b[0m                             Traceback (most recent call last)",
      "Input \u001b[1;32mIn [29]\u001b[0m, in \u001b[0;36m<cell line: 1>\u001b[1;34m()\u001b[0m\n\u001b[1;32m----> 1\u001b[0m \u001b[43mparser\u001b[49m\u001b[38;5;241;43m.\u001b[39;49m\u001b[43madd_argument\u001b[49m\u001b[43m(\u001b[49m\u001b[38;5;124;43m'\u001b[39;49m\u001b[38;5;124;43m-p\u001b[39;49m\u001b[38;5;124;43m'\u001b[39;49m\u001b[43m,\u001b[49m\u001b[43m \u001b[49m\u001b[38;5;124;43m'\u001b[39;49m\u001b[38;5;124;43m--pat\u001b[39;49m\u001b[38;5;124;43m'\u001b[39;49m\u001b[43m,\u001b[49m\u001b[43mmetavar\u001b[49m\u001b[38;5;241;43m=\u001b[39;49m\u001b[38;5;124;43m'\u001b[39;49m\u001b[38;5;124;43mpattern\u001b[39;49m\u001b[38;5;124;43m'\u001b[39;49m\u001b[43m,\u001b[49m\u001b[43m \u001b[49m\u001b[43mrequired\u001b[49m\u001b[38;5;241;43m=\u001b[39;49m\u001b[38;5;28;43;01mTrue\u001b[39;49;00m\u001b[43m,\u001b[49m\n\u001b[0;32m      2\u001b[0m \u001b[43m                    \u001b[49m\u001b[43mdest\u001b[49m\u001b[38;5;241;43m=\u001b[39;49m\u001b[38;5;124;43m'\u001b[39;49m\u001b[38;5;124;43mpatterns\u001b[39;49m\u001b[38;5;124;43m'\u001b[39;49m\u001b[43m,\u001b[49m\u001b[43m \u001b[49m\u001b[43maction\u001b[49m\u001b[38;5;241;43m=\u001b[39;49m\u001b[38;5;124;43m'\u001b[39;49m\u001b[38;5;124;43mappend\u001b[39;49m\u001b[38;5;124;43m'\u001b[39;49m\u001b[43m,\u001b[49m\n\u001b[0;32m      3\u001b[0m \u001b[43m                    \u001b[49m\u001b[43mhelp\u001b[49m\u001b[38;5;241;43m=\u001b[39;49m\u001b[38;5;124;43m'\u001b[39;49m\u001b[38;5;124;43mtext pattern to search for\u001b[39;49m\u001b[38;5;124;43m'\u001b[39;49m\u001b[43m)\u001b[49m\n",
      "File \u001b[1;32m~\\anaconda3\\lib\\argparse.py:1440\u001b[0m, in \u001b[0;36m_ActionsContainer.add_argument\u001b[1;34m(self, *args, **kwargs)\u001b[0m\n\u001b[0;32m   1437\u001b[0m     \u001b[38;5;28;01mexcept\u001b[39;00m \u001b[38;5;167;01mTypeError\u001b[39;00m:\n\u001b[0;32m   1438\u001b[0m         \u001b[38;5;28;01mraise\u001b[39;00m \u001b[38;5;167;01mValueError\u001b[39;00m(\u001b[38;5;124m\"\u001b[39m\u001b[38;5;124mlength of metavar tuple does not match nargs\u001b[39m\u001b[38;5;124m\"\u001b[39m)\n\u001b[1;32m-> 1440\u001b[0m \u001b[38;5;28;01mreturn\u001b[39;00m \u001b[38;5;28;43mself\u001b[39;49m\u001b[38;5;241;43m.\u001b[39;49m\u001b[43m_add_action\u001b[49m\u001b[43m(\u001b[49m\u001b[43maction\u001b[49m\u001b[43m)\u001b[49m\n",
      "File \u001b[1;32m~\\anaconda3\\lib\\argparse.py:1805\u001b[0m, in \u001b[0;36mArgumentParser._add_action\u001b[1;34m(self, action)\u001b[0m\n\u001b[0;32m   1803\u001b[0m \u001b[38;5;28;01mdef\u001b[39;00m \u001b[38;5;21m_add_action\u001b[39m(\u001b[38;5;28mself\u001b[39m, action):\n\u001b[0;32m   1804\u001b[0m     \u001b[38;5;28;01mif\u001b[39;00m action\u001b[38;5;241m.\u001b[39moption_strings:\n\u001b[1;32m-> 1805\u001b[0m         \u001b[38;5;28;43mself\u001b[39;49m\u001b[38;5;241;43m.\u001b[39;49m\u001b[43m_optionals\u001b[49m\u001b[38;5;241;43m.\u001b[39;49m\u001b[43m_add_action\u001b[49m\u001b[43m(\u001b[49m\u001b[43maction\u001b[49m\u001b[43m)\u001b[49m\n\u001b[0;32m   1806\u001b[0m     \u001b[38;5;28;01melse\u001b[39;00m:\n\u001b[0;32m   1807\u001b[0m         \u001b[38;5;28mself\u001b[39m\u001b[38;5;241m.\u001b[39m_positionals\u001b[38;5;241m.\u001b[39m_add_action(action)\n",
      "File \u001b[1;32m~\\anaconda3\\lib\\argparse.py:1642\u001b[0m, in \u001b[0;36m_ArgumentGroup._add_action\u001b[1;34m(self, action)\u001b[0m\n\u001b[0;32m   1641\u001b[0m \u001b[38;5;28;01mdef\u001b[39;00m \u001b[38;5;21m_add_action\u001b[39m(\u001b[38;5;28mself\u001b[39m, action):\n\u001b[1;32m-> 1642\u001b[0m     action \u001b[38;5;241m=\u001b[39m \u001b[38;5;28;43msuper\u001b[39;49m\u001b[43m(\u001b[49m\u001b[43m_ArgumentGroup\u001b[49m\u001b[43m,\u001b[49m\u001b[43m \u001b[49m\u001b[38;5;28;43mself\u001b[39;49m\u001b[43m)\u001b[49m\u001b[38;5;241;43m.\u001b[39;49m\u001b[43m_add_action\u001b[49m\u001b[43m(\u001b[49m\u001b[43maction\u001b[49m\u001b[43m)\u001b[49m\n\u001b[0;32m   1643\u001b[0m     \u001b[38;5;28mself\u001b[39m\u001b[38;5;241m.\u001b[39m_group_actions\u001b[38;5;241m.\u001b[39mappend(action)\n\u001b[0;32m   1644\u001b[0m     \u001b[38;5;28;01mreturn\u001b[39;00m action\n",
      "File \u001b[1;32m~\\anaconda3\\lib\\argparse.py:1454\u001b[0m, in \u001b[0;36m_ActionsContainer._add_action\u001b[1;34m(self, action)\u001b[0m\n\u001b[0;32m   1452\u001b[0m \u001b[38;5;28;01mdef\u001b[39;00m \u001b[38;5;21m_add_action\u001b[39m(\u001b[38;5;28mself\u001b[39m, action):\n\u001b[0;32m   1453\u001b[0m     \u001b[38;5;66;03m# resolve any conflicts\u001b[39;00m\n\u001b[1;32m-> 1454\u001b[0m     \u001b[38;5;28;43mself\u001b[39;49m\u001b[38;5;241;43m.\u001b[39;49m\u001b[43m_check_conflict\u001b[49m\u001b[43m(\u001b[49m\u001b[43maction\u001b[49m\u001b[43m)\u001b[49m\n\u001b[0;32m   1456\u001b[0m     \u001b[38;5;66;03m# add to actions list\u001b[39;00m\n\u001b[0;32m   1457\u001b[0m     \u001b[38;5;28mself\u001b[39m\u001b[38;5;241m.\u001b[39m_actions\u001b[38;5;241m.\u001b[39mappend(action)\n",
      "File \u001b[1;32m~\\anaconda3\\lib\\argparse.py:1591\u001b[0m, in \u001b[0;36m_ActionsContainer._check_conflict\u001b[1;34m(self, action)\u001b[0m\n\u001b[0;32m   1589\u001b[0m \u001b[38;5;28;01mif\u001b[39;00m confl_optionals:\n\u001b[0;32m   1590\u001b[0m     conflict_handler \u001b[38;5;241m=\u001b[39m \u001b[38;5;28mself\u001b[39m\u001b[38;5;241m.\u001b[39m_get_handler()\n\u001b[1;32m-> 1591\u001b[0m     \u001b[43mconflict_handler\u001b[49m\u001b[43m(\u001b[49m\u001b[43maction\u001b[49m\u001b[43m,\u001b[49m\u001b[43m \u001b[49m\u001b[43mconfl_optionals\u001b[49m\u001b[43m)\u001b[49m\n",
      "File \u001b[1;32m~\\anaconda3\\lib\\argparse.py:1600\u001b[0m, in \u001b[0;36m_ActionsContainer._handle_conflict_error\u001b[1;34m(self, action, conflicting_actions)\u001b[0m\n\u001b[0;32m   1594\u001b[0m message \u001b[38;5;241m=\u001b[39m ngettext(\u001b[38;5;124m'\u001b[39m\u001b[38;5;124mconflicting option string: \u001b[39m\u001b[38;5;132;01m%s\u001b[39;00m\u001b[38;5;124m'\u001b[39m,\n\u001b[0;32m   1595\u001b[0m                    \u001b[38;5;124m'\u001b[39m\u001b[38;5;124mconflicting option strings: \u001b[39m\u001b[38;5;132;01m%s\u001b[39;00m\u001b[38;5;124m'\u001b[39m,\n\u001b[0;32m   1596\u001b[0m                    \u001b[38;5;28mlen\u001b[39m(conflicting_actions))\n\u001b[0;32m   1597\u001b[0m conflict_string \u001b[38;5;241m=\u001b[39m \u001b[38;5;124m'\u001b[39m\u001b[38;5;124m, \u001b[39m\u001b[38;5;124m'\u001b[39m\u001b[38;5;241m.\u001b[39mjoin([option_string\n\u001b[0;32m   1598\u001b[0m                              \u001b[38;5;28;01mfor\u001b[39;00m option_string, action\n\u001b[0;32m   1599\u001b[0m                              \u001b[38;5;129;01min\u001b[39;00m conflicting_actions])\n\u001b[1;32m-> 1600\u001b[0m \u001b[38;5;28;01mraise\u001b[39;00m ArgumentError(action, message \u001b[38;5;241m%\u001b[39m conflict_string)\n",
      "\u001b[1;31mArgumentError\u001b[0m: argument -p/--pat: conflicting option strings: -p, --pat"
     ]
    }
   ],
   "source": [
    "parser.add_argument('-p', '--pat',metavar='pattern', required=True,\n",
    "                    dest='patterns', action='append',\n",
    "                    help='text pattern to search for')"
   ]
  },
  {
   "cell_type": "code",
   "execution_count": 20,
   "id": "7bf21793",
   "metadata": {},
   "outputs": [
    {
     "data": {
      "text/plain": [
       "_StoreTrueAction(option_strings=['-v'], dest='verbose', nargs=0, const=True, default=False, type=None, choices=None, help='verbose mode', metavar=None)"
      ]
     },
     "execution_count": 20,
     "metadata": {},
     "output_type": "execute_result"
    }
   ],
   "source": [
    "parser.add_argument('-v', dest='verbose', action='store_true',\n",
    "                   help= 'verbose mode')"
   ]
  },
  {
   "cell_type": "code",
   "execution_count": 21,
   "id": "46cd61f6",
   "metadata": {},
   "outputs": [
    {
     "data": {
      "text/plain": [
       "_StoreAction(option_strings=['-o'], dest='outfile', nargs=None, const=None, default=None, type=None, choices=None, help='output file', metavar=None)"
      ]
     },
     "execution_count": 21,
     "metadata": {},
     "output_type": "execute_result"
    }
   ],
   "source": [
    "parser.add_argument('-o', dest='outfile', action='store',\n",
    "                   help='output file')"
   ]
  },
  {
   "cell_type": "code",
   "execution_count": 22,
   "id": "c5a53e89",
   "metadata": {},
   "outputs": [
    {
     "data": {
      "text/plain": [
       "_StoreAction(option_strings=['--speed'], dest='speed', nargs=None, const=None, default='slow', type=None, choices={'fast', 'slow'}, help='search speed', metavar=None)"
      ]
     },
     "execution_count": 22,
     "metadata": {},
     "output_type": "execute_result"
    }
   ],
   "source": [
    "parser.add_argument('--speed', dest='speed', action='store',\n",
    "                   choices={'slow','fast'}, default='slow',\n",
    "                   help='search speed')"
   ]
  },
  {
   "cell_type": "code",
   "execution_count": 23,
   "id": "a4fbc2ab",
   "metadata": {},
   "outputs": [
    {
     "name": "stderr",
     "output_type": "stream",
     "text": [
      "usage: ipykernel_launcher.py [-h] -p pattern [-v] [-o OUTFILE]\n",
      "                             [--speed {fast,slow}]\n",
      "                             [filename ...]\n",
      "ipykernel_launcher.py: error: the following arguments are required: -p/--pat\n"
     ]
    },
    {
     "ename": "SystemExit",
     "evalue": "2",
     "output_type": "error",
     "traceback": [
      "An exception has occurred, use %tb to see the full traceback.\n",
      "\u001b[1;31mSystemExit\u001b[0m\u001b[1;31m:\u001b[0m 2\n"
     ]
    }
   ],
   "source": [
    "args = parser.parse_args()"
   ]
  },
  {
   "cell_type": "code",
   "execution_count": 24,
   "id": "07c12d73",
   "metadata": {},
   "outputs": [
    {
     "ename": "NameError",
     "evalue": "name 'args' is not defined",
     "output_type": "error",
     "traceback": [
      "\u001b[1;31m---------------------------------------------------------------------------\u001b[0m",
      "\u001b[1;31mNameError\u001b[0m                                 Traceback (most recent call last)",
      "Input \u001b[1;32mIn [24]\u001b[0m, in \u001b[0;36m<cell line: 1>\u001b[1;34m()\u001b[0m\n\u001b[1;32m----> 1\u001b[0m \u001b[38;5;28mprint\u001b[39m(\u001b[43margs\u001b[49m\u001b[38;5;241m.\u001b[39mfilenames)\n",
      "\u001b[1;31mNameError\u001b[0m: name 'args' is not defined"
     ]
    }
   ],
   "source": [
    "print(args.filenames)"
   ]
  },
  {
   "cell_type": "code",
   "execution_count": null,
   "id": "fc47a2e1",
   "metadata": {},
   "outputs": [],
   "source": []
  },
  {
   "cell_type": "code",
   "execution_count": null,
   "id": "463838b8",
   "metadata": {},
   "outputs": [],
   "source": []
  }
 ],
 "metadata": {
  "kernelspec": {
   "display_name": "Python 3 (ipykernel)",
   "language": "python",
   "name": "python3"
  },
  "language_info": {
   "codemirror_mode": {
    "name": "ipython",
    "version": 3
   },
   "file_extension": ".py",
   "mimetype": "text/x-python",
   "name": "python",
   "nbconvert_exporter": "python",
   "pygments_lexer": "ipython3",
   "version": "3.9.12"
  }
 },
 "nbformat": 4,
 "nbformat_minor": 5
}
