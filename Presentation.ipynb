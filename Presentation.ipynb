{
 "cells": [
  {
   "cell_type": "code",
   "execution_count": 1,
   "id": "c8179bbd",
   "metadata": {},
   "outputs": [
    {
     "name": "stdout",
     "output_type": "stream",
     "text": [
      "79\n"
     ]
    }
   ],
   "source": [
    "#1.19 Transforming and Reducing Data at the Same Time\n",
    "\n",
    "Eng_Team = [\n",
    "    {'player': 'Harry Kane', 'rating': '90'},\n",
    "    {'player': 'Harry Mcguire', 'rating': '81'},\n",
    "    {'player': 'Phil Foden', 'rating': '84'},\n",
    "    {'player': 'Jack Grealish', 'rating': '85'},\n",
    "    {'player': 'Eric Dier', 'rating': '79'}\n",
    "]\n",
    "\n",
    "min_rating = min(r['rating'] for r in Eng_Team) #lowest rating in Eng_Team\n",
    "print(min_rating)"
   ]
  },
  {
   "cell_type": "code",
   "execution_count": 3,
   "id": "a89293a7",
   "metadata": {},
   "outputs": [],
   "source": [
    "#1.20 Combining Multiple Mappings into a Single Mapping\n",
    "\n",
    "USA_Team = [\n",
    "    {'player': 'Christian Pulisic', 'rating': '82'},\n",
    "    {'player': 'Gio Reyna', 'rating': '79'},\n",
    "    {'player': 'Weston Mckinnie', 'rating': '78'},\n",
    "    {'player': 'Sergino Dest', 'rating': '79'},\n",
    "    {'player': 'Tyler Adams', 'rating': '79'}\n",
    "]"
   ]
  },
  {
   "cell_type": "code",
   "execution_count": null,
   "id": "f1824070",
   "metadata": {},
   "outputs": [],
   "source": []
  },
  {
   "cell_type": "code",
   "execution_count": null,
   "id": "22f63380",
   "metadata": {},
   "outputs": [],
   "source": [
    "#Goals 1. get a list of all players (names) 2. get a list of \"good\" players (rating over 80)"
   ]
  },
  {
   "cell_type": "code",
   "execution_count": null,
   "id": "f24e156d",
   "metadata": {},
   "outputs": [],
   "source": []
  },
  {
   "cell_type": "code",
   "execution_count": null,
   "id": "ea9c3d98",
   "metadata": {},
   "outputs": [],
   "source": []
  },
  {
   "cell_type": "code",
   "execution_count": null,
   "id": "1c43022d",
   "metadata": {},
   "outputs": [],
   "source": []
  },
  {
   "cell_type": "code",
   "execution_count": 4,
   "id": "e1746f14",
   "metadata": {},
   "outputs": [
    {
     "ename": "TypeError",
     "evalue": "list indices must be integers or slices, not str",
     "output_type": "error",
     "traceback": [
      "\u001b[1;31m---------------------------------------------------------------------------\u001b[0m",
      "\u001b[1;31mTypeError\u001b[0m                                 Traceback (most recent call last)",
      "Input \u001b[1;32mIn [4]\u001b[0m, in \u001b[0;36m<cell line: 5>\u001b[1;34m()\u001b[0m\n\u001b[0;32m      1\u001b[0m \u001b[38;5;28;01mfrom\u001b[39;00m \u001b[38;5;21;01mcollections\u001b[39;00m \u001b[38;5;28;01mimport\u001b[39;00m ChainMap\n\u001b[0;32m      3\u001b[0m player_lookup \u001b[38;5;241m=\u001b[39m ChainMap(USA_Team,Eng_Team)\n\u001b[1;32m----> 5\u001b[0m \u001b[38;5;28mprint\u001b[39m(\u001b[43mplayer_lookup\u001b[49m\u001b[43m[\u001b[49m\u001b[38;5;124;43m'\u001b[39;49m\u001b[38;5;124;43mplayer\u001b[39;49m\u001b[38;5;124;43m'\u001b[39;49m\u001b[43m]\u001b[49m)\n",
      "File \u001b[1;32m~\\anaconda3\\lib\\collections\\__init__.py:938\u001b[0m, in \u001b[0;36mChainMap.__getitem__\u001b[1;34m(self, key)\u001b[0m\n\u001b[0;32m    936\u001b[0m \u001b[38;5;28;01mfor\u001b[39;00m mapping \u001b[38;5;129;01min\u001b[39;00m \u001b[38;5;28mself\u001b[39m\u001b[38;5;241m.\u001b[39mmaps:\n\u001b[0;32m    937\u001b[0m     \u001b[38;5;28;01mtry\u001b[39;00m:\n\u001b[1;32m--> 938\u001b[0m         \u001b[38;5;28;01mreturn\u001b[39;00m \u001b[43mmapping\u001b[49m\u001b[43m[\u001b[49m\u001b[43mkey\u001b[49m\u001b[43m]\u001b[49m             \u001b[38;5;66;03m# can't use 'key in mapping' with defaultdict\u001b[39;00m\n\u001b[0;32m    939\u001b[0m     \u001b[38;5;28;01mexcept\u001b[39;00m \u001b[38;5;167;01mKeyError\u001b[39;00m:\n\u001b[0;32m    940\u001b[0m         \u001b[38;5;28;01mpass\u001b[39;00m\n",
      "\u001b[1;31mTypeError\u001b[0m: list indices must be integers or slices, not str"
     ]
    }
   ],
   "source": [
    "from collections import ChainMap\n",
    "\n",
    "player_lookup = ChainMap(USA_Team,Eng_Team)\n",
    "\n",
    "print(player_lookup['player']) #All players on both teams"
   ]
  },
  {
   "cell_type": "code",
   "execution_count": 5,
   "id": "80d24cf6",
   "metadata": {},
   "outputs": [
    {
     "ename": "TypeError",
     "evalue": "unhashable type: 'dict'",
     "output_type": "error",
     "traceback": [
      "\u001b[1;31m---------------------------------------------------------------------------\u001b[0m",
      "\u001b[1;31mTypeError\u001b[0m                                 Traceback (most recent call last)",
      "Input \u001b[1;32mIn [5]\u001b[0m, in \u001b[0;36m<cell line: 1>\u001b[1;34m()\u001b[0m\n\u001b[1;32m----> 1\u001b[0m \u001b[38;5;28;43mlist\u001b[39;49m\u001b[43m(\u001b[49m\u001b[43mplayer_lookup\u001b[49m\u001b[43m)\u001b[49m\n",
      "File \u001b[1;32m~\\anaconda3\\lib\\collections\\__init__.py:952\u001b[0m, in \u001b[0;36mChainMap.__iter__\u001b[1;34m(self)\u001b[0m\n\u001b[0;32m    950\u001b[0m d \u001b[38;5;241m=\u001b[39m {}\n\u001b[0;32m    951\u001b[0m \u001b[38;5;28;01mfor\u001b[39;00m mapping \u001b[38;5;129;01min\u001b[39;00m \u001b[38;5;28mreversed\u001b[39m(\u001b[38;5;28mself\u001b[39m\u001b[38;5;241m.\u001b[39mmaps):\n\u001b[1;32m--> 952\u001b[0m     d\u001b[38;5;241m.\u001b[39mupdate(\u001b[38;5;28;43mdict\u001b[39;49m\u001b[38;5;241;43m.\u001b[39;49m\u001b[43mfromkeys\u001b[49m\u001b[43m(\u001b[49m\u001b[43mmapping\u001b[49m\u001b[43m)\u001b[49m)    \u001b[38;5;66;03m# reuses stored hash values if possible\u001b[39;00m\n\u001b[0;32m    953\u001b[0m \u001b[38;5;28;01mreturn\u001b[39;00m \u001b[38;5;28miter\u001b[39m(d)\n",
      "\u001b[1;31mTypeError\u001b[0m: unhashable type: 'dict'"
     ]
    }
   ],
   "source": [
    "list(player_lookup)"
   ]
  },
  {
   "cell_type": "code",
   "execution_count": null,
   "id": "068894b3",
   "metadata": {},
   "outputs": [],
   "source": []
  },
  {
   "cell_type": "code",
   "execution_count": null,
   "id": "b7290e5f",
   "metadata": {},
   "outputs": [],
   "source": []
  },
  {
   "cell_type": "code",
   "execution_count": null,
   "id": "f627a346",
   "metadata": {},
   "outputs": [],
   "source": []
  },
  {
   "cell_type": "code",
   "execution_count": null,
   "id": "14b610b0",
   "metadata": {},
   "outputs": [],
   "source": []
  },
  {
   "cell_type": "code",
   "execution_count": 6,
   "id": "141e0272",
   "metadata": {},
   "outputs": [
    {
     "ename": "TypeError",
     "evalue": "unsupported operand type(s) for |: 'list' and 'list'",
     "output_type": "error",
     "traceback": [
      "\u001b[1;31m---------------------------------------------------------------------------\u001b[0m",
      "\u001b[1;31mTypeError\u001b[0m                                 Traceback (most recent call last)",
      "Input \u001b[1;32mIn [6]\u001b[0m, in \u001b[0;36m<cell line: 5>\u001b[1;34m()\u001b[0m\n\u001b[0;32m      2\u001b[0m     result \u001b[38;5;241m=\u001b[39m USA_Team \u001b[38;5;241m|\u001b[39m Eng_Team\n\u001b[0;32m      3\u001b[0m     \u001b[38;5;28;01mreturn\u001b[39;00m result\n\u001b[1;32m----> 5\u001b[0m player_list \u001b[38;5;241m=\u001b[39m \u001b[43mmerge\u001b[49m\u001b[43m(\u001b[49m\u001b[43mUSA_Team\u001b[49m\u001b[43m,\u001b[49m\u001b[43m \u001b[49m\u001b[43mEng_Team\u001b[49m\u001b[43m)\u001b[49m\n\u001b[0;32m      6\u001b[0m \u001b[38;5;28mprint\u001b[39m(player_list)\n",
      "Input \u001b[1;32mIn [6]\u001b[0m, in \u001b[0;36mmerge\u001b[1;34m(USA_Team, Eng_Team)\u001b[0m\n\u001b[0;32m      1\u001b[0m \u001b[38;5;28;01mdef\u001b[39;00m \u001b[38;5;21mmerge\u001b[39m(USA_Team, Eng_Team):\n\u001b[1;32m----> 2\u001b[0m     result \u001b[38;5;241m=\u001b[39m \u001b[43mUSA_Team\u001b[49m\u001b[43m \u001b[49m\u001b[38;5;241;43m|\u001b[39;49m\u001b[43m \u001b[49m\u001b[43mEng_Team\u001b[49m\n\u001b[0;32m      3\u001b[0m     \u001b[38;5;28;01mreturn\u001b[39;00m result\n",
      "\u001b[1;31mTypeError\u001b[0m: unsupported operand type(s) for |: 'list' and 'list'"
     ]
    }
   ],
   "source": [
    "def merge(USA_Team, Eng_Team):\n",
    "    result = USA_Team | Eng_Team\n",
    "    return result\n",
    "\n",
    "player_list = merge(USA_Team, Eng_Team)\n",
    "print(player_list)"
   ]
  },
  {
   "cell_type": "code",
   "execution_count": null,
   "id": "149885e4",
   "metadata": {},
   "outputs": [],
   "source": []
  },
  {
   "cell_type": "code",
   "execution_count": null,
   "id": "119ff47b",
   "metadata": {},
   "outputs": [],
   "source": []
  },
  {
   "cell_type": "code",
   "execution_count": null,
   "id": "12be7320",
   "metadata": {},
   "outputs": [],
   "source": []
  },
  {
   "cell_type": "code",
   "execution_count": null,
   "id": "e5d7b5e3",
   "metadata": {},
   "outputs": [],
   "source": []
  },
  {
   "cell_type": "code",
   "execution_count": 7,
   "id": "8f686e16",
   "metadata": {},
   "outputs": [
    {
     "data": {
      "text/plain": [
       "[{'player': 'Christian Pulisic', 'rating': '82'},\n",
       " {'player': 'Gio Reyna', 'rating': '79'},\n",
       " {'player': 'Weston Mckinnie', 'rating': '78'},\n",
       " {'player': 'Sergino Dest', 'rating': '79'},\n",
       " {'player': 'Tyler Adams', 'rating': '79'},\n",
       " {'player': 'Harry Kane', 'rating': '90'},\n",
       " {'player': 'Harry Mcguire', 'rating': '81'},\n",
       " {'player': 'Phil Foden', 'rating': '84'},\n",
       " {'player': 'Jack Grealish', 'rating': '85'},\n",
       " {'player': 'Eric Dier', 'rating': '79'}]"
      ]
     },
     "execution_count": 7,
     "metadata": {},
     "output_type": "execute_result"
    }
   ],
   "source": [
    "player_list = USA_Team + Eng_Team\n",
    "list(player_list)"
   ]
  },
  {
   "cell_type": "code",
   "execution_count": null,
   "id": "f6776243",
   "metadata": {},
   "outputs": [],
   "source": []
  },
  {
   "cell_type": "code",
   "execution_count": null,
   "id": "1eaa74e1",
   "metadata": {},
   "outputs": [],
   "source": []
  },
  {
   "cell_type": "code",
   "execution_count": 8,
   "id": "26acd666",
   "metadata": {},
   "outputs": [
    {
     "data": {
      "text/plain": [
       "['Christian Pulisic',\n",
       " 'Gio Reyna',\n",
       " 'Weston Mckinnie',\n",
       " 'Sergino Dest',\n",
       " 'Tyler Adams',\n",
       " 'Harry Kane',\n",
       " 'Harry Mcguire',\n",
       " 'Phil Foden',\n",
       " 'Jack Grealish',\n",
       " 'Eric Dier']"
      ]
     },
     "execution_count": 8,
     "metadata": {},
     "output_type": "execute_result"
    }
   ],
   "source": [
    "#Calling key value by variable\n",
    "\n",
    "all_players = [name['player'] for name in player_list ]\n",
    "list(all_players)"
   ]
  },
  {
   "cell_type": "code",
   "execution_count": null,
   "id": "2af4c370",
   "metadata": {},
   "outputs": [],
   "source": []
  },
  {
   "cell_type": "code",
   "execution_count": null,
   "id": "7eab734d",
   "metadata": {},
   "outputs": [],
   "source": []
  },
  {
   "cell_type": "code",
   "execution_count": null,
   "id": "d6c9681a",
   "metadata": {},
   "outputs": [],
   "source": []
  },
  {
   "cell_type": "code",
   "execution_count": null,
   "id": "0d9e687a",
   "metadata": {},
   "outputs": [],
   "source": []
  },
  {
   "cell_type": "code",
   "execution_count": 9,
   "id": "d52247d1",
   "metadata": {},
   "outputs": [
    {
     "data": {
      "text/plain": [
       "['Christian Pulisic',\n",
       " 'Gio Reyna',\n",
       " 'Weston Mckinnie',\n",
       " 'Sergino Dest',\n",
       " 'Tyler Adams',\n",
       " 'Harry Kane',\n",
       " 'Harry Mcguire',\n",
       " 'Phil Foden',\n",
       " 'Jack Grealish',\n",
       " 'Eric Dier']"
      ]
     },
     "execution_count": 9,
     "metadata": {},
     "output_type": "execute_result"
    }
   ],
   "source": [
    "#mapping and using lambda\n",
    "\n",
    "all_players = map(lambda name: name['player'], player_list) \n",
    "list(all_players)"
   ]
  },
  {
   "cell_type": "code",
   "execution_count": null,
   "id": "0bd54b6f",
   "metadata": {},
   "outputs": [],
   "source": [
    "#Lambdas are used just to have a variable in a function that would otherwise be useless --they will not be used anywhere else"
   ]
  },
  {
   "cell_type": "code",
   "execution_count": null,
   "id": "d04bd826",
   "metadata": {},
   "outputs": [],
   "source": []
  },
  {
   "cell_type": "code",
   "execution_count": null,
   "id": "e0e28552",
   "metadata": {},
   "outputs": [],
   "source": []
  },
  {
   "cell_type": "code",
   "execution_count": null,
   "id": "1fde49a0",
   "metadata": {},
   "outputs": [],
   "source": []
  },
  {
   "cell_type": "code",
   "execution_count": null,
   "id": "68e6814c",
   "metadata": {},
   "outputs": [],
   "source": []
  },
  {
   "cell_type": "code",
   "execution_count": null,
   "id": "a1cbbd53",
   "metadata": {},
   "outputs": [],
   "source": []
  },
  {
   "cell_type": "code",
   "execution_count": null,
   "id": "616b4a4b",
   "metadata": {},
   "outputs": [],
   "source": []
  },
  {
   "cell_type": "code",
   "execution_count": null,
   "id": "2fa7f3e2",
   "metadata": {},
   "outputs": [],
   "source": []
  },
  {
   "cell_type": "code",
   "execution_count": null,
   "id": "3b789ec3",
   "metadata": {},
   "outputs": [],
   "source": []
  },
  {
   "cell_type": "code",
   "execution_count": 10,
   "id": "8478d288",
   "metadata": {},
   "outputs": [
    {
     "data": {
      "text/plain": [
       "['Christian Pulisic',\n",
       " 'Gio Reyna',\n",
       " 'Weston Mckinnie',\n",
       " 'Sergino Dest',\n",
       " 'Tyler Adams',\n",
       " 'Harry Kane',\n",
       " 'Harry Mcguire',\n",
       " 'Phil Foden',\n",
       " 'Jack Grealish',\n",
       " 'Eric Dier']"
      ]
     },
     "execution_count": 10,
     "metadata": {},
     "output_type": "execute_result"
    }
   ],
   "source": [
    "#Not a fan of lambdas\n",
    "\n",
    "import operator\n",
    "\n",
    "get_value = operator.itemgetter('player')\n",
    "all_players = map(get_value, player_list) \n",
    "list(all_players)"
   ]
  },
  {
   "cell_type": "code",
   "execution_count": null,
   "id": "2622ad05",
   "metadata": {},
   "outputs": [],
   "source": []
  },
  {
   "cell_type": "code",
   "execution_count": null,
   "id": "544c561c",
   "metadata": {},
   "outputs": [],
   "source": []
  },
  {
   "cell_type": "code",
   "execution_count": null,
   "id": "c481467b",
   "metadata": {},
   "outputs": [],
   "source": []
  },
  {
   "cell_type": "code",
   "execution_count": null,
   "id": "7594dcef",
   "metadata": {},
   "outputs": [],
   "source": []
  },
  {
   "cell_type": "code",
   "execution_count": null,
   "id": "8db35173",
   "metadata": {},
   "outputs": [],
   "source": []
  },
  {
   "cell_type": "code",
   "execution_count": null,
   "id": "7338f16c",
   "metadata": {},
   "outputs": [],
   "source": []
  },
  {
   "cell_type": "code",
   "execution_count": null,
   "id": "d748267f",
   "metadata": {},
   "outputs": [],
   "source": []
  },
  {
   "cell_type": "code",
   "execution_count": 11,
   "id": "f2a57938",
   "metadata": {},
   "outputs": [
    {
     "data": {
      "text/plain": [
       "['Christian Pulisic',\n",
       " 'Gio Reyna',\n",
       " 'Weston Mckinnie',\n",
       " 'Sergino Dest',\n",
       " 'Tyler Adams',\n",
       " 'Harry Kane',\n",
       " 'Harry Mcguire',\n",
       " 'Phil Foden',\n",
       " 'Jack Grealish',\n",
       " 'Eric Dier']"
      ]
     },
     "execution_count": 11,
     "metadata": {},
     "output_type": "execute_result"
    }
   ],
   "source": [
    "#Creating a function that explicitly says what I need\n",
    "\n",
    "import operator, functools\n",
    "\n",
    "get_name = operator.itemgetter('player')\n",
    "get_names = functools.partial(map, get_name)\n",
    "\n",
    "all_players = get_names(player_list)\n",
    "list(all_players)"
   ]
  },
  {
   "cell_type": "code",
   "execution_count": null,
   "id": "2123f979",
   "metadata": {},
   "outputs": [],
   "source": []
  },
  {
   "cell_type": "code",
   "execution_count": null,
   "id": "77525d53",
   "metadata": {},
   "outputs": [],
   "source": []
  },
  {
   "cell_type": "code",
   "execution_count": null,
   "id": "5308bd51",
   "metadata": {},
   "outputs": [],
   "source": []
  },
  {
   "cell_type": "code",
   "execution_count": null,
   "id": "2d8f32df",
   "metadata": {},
   "outputs": [],
   "source": []
  },
  {
   "cell_type": "code",
   "execution_count": null,
   "id": "936e5f11",
   "metadata": {},
   "outputs": [],
   "source": [
    "# next goal is to get a list of players that have ratings at or above '80'"
   ]
  },
  {
   "cell_type": "code",
   "execution_count": null,
   "id": "950336b9",
   "metadata": {},
   "outputs": [],
   "source": []
  },
  {
   "cell_type": "code",
   "execution_count": null,
   "id": "0498dbde",
   "metadata": {},
   "outputs": [],
   "source": []
  },
  {
   "cell_type": "code",
   "execution_count": 12,
   "id": "d79fe006",
   "metadata": {},
   "outputs": [
    {
     "ename": "SyntaxError",
     "evalue": "invalid syntax (3378179216.py, line 3)",
     "output_type": "error",
     "traceback": [
      "\u001b[1;36m  Input \u001b[1;32mIn [12]\u001b[1;36m\u001b[0m\n\u001b[1;33m    get_name = operator.itemgetter('player' if value['rating'] for player_list > '80')\u001b[0m\n\u001b[1;37m                                                               ^\u001b[0m\n\u001b[1;31mSyntaxError\u001b[0m\u001b[1;31m:\u001b[0m invalid syntax\n"
     ]
    }
   ],
   "source": [
    "import operator, functools\n",
    "\n",
    "get_name = operator.itemgetter('player' if value['rating'] for player_list > '80')\n",
    "get_names = functools.partial(map, get_name)\n",
    "all_players = get_names(player_list)\n",
    "list(all_players)"
   ]
  },
  {
   "cell_type": "code",
   "execution_count": null,
   "id": "65f9a21b",
   "metadata": {},
   "outputs": [],
   "source": []
  },
  {
   "cell_type": "code",
   "execution_count": null,
   "id": "6cbb34ad",
   "metadata": {},
   "outputs": [],
   "source": []
  },
  {
   "cell_type": "code",
   "execution_count": null,
   "id": "c93b6869",
   "metadata": {},
   "outputs": [],
   "source": []
  },
  {
   "cell_type": "code",
   "execution_count": null,
   "id": "fc9c1db1",
   "metadata": {},
   "outputs": [],
   "source": []
  },
  {
   "cell_type": "code",
   "execution_count": null,
   "id": "1db0e570",
   "metadata": {},
   "outputs": [],
   "source": []
  },
  {
   "cell_type": "code",
   "execution_count": null,
   "id": "dbe34d0e",
   "metadata": {},
   "outputs": [],
   "source": []
  },
  {
   "cell_type": "code",
   "execution_count": 13,
   "id": "fc1d021d",
   "metadata": {},
   "outputs": [],
   "source": [
    "def world_class(x):\n",
    "    return x if x > 80 else null \n",
    "\n",
    "def good_players(rating, player_list):\n",
    "    good_player_list = []\n",
    "    for rating in world_class():\n",
    "        for val in player_list.items():\n",
    "            if val['rating'] > world_class:\n",
    "                good_player_list.append(rating)\n",
    "    return good_player_list"
   ]
  },
  {
   "cell_type": "code",
   "execution_count": null,
   "id": "056ee41e",
   "metadata": {},
   "outputs": [],
   "source": []
  },
  {
   "cell_type": "code",
   "execution_count": null,
   "id": "79d320e9",
   "metadata": {},
   "outputs": [],
   "source": []
  },
  {
   "cell_type": "code",
   "execution_count": null,
   "id": "1a9ffc77",
   "metadata": {},
   "outputs": [],
   "source": []
  },
  {
   "cell_type": "code",
   "execution_count": null,
   "id": "a0f81e75",
   "metadata": {},
   "outputs": [],
   "source": []
  },
  {
   "cell_type": "code",
   "execution_count": null,
   "id": "8e0d72aa",
   "metadata": {},
   "outputs": [],
   "source": []
  },
  {
   "cell_type": "code",
   "execution_count": null,
   "id": "d5727a62",
   "metadata": {},
   "outputs": [],
   "source": []
  },
  {
   "cell_type": "code",
   "execution_count": 14,
   "id": "5e7709cf",
   "metadata": {},
   "outputs": [
    {
     "ename": "TypeError",
     "evalue": "'>=' not supported between instances of 'list' and 'str'",
     "output_type": "error",
     "traceback": [
      "\u001b[1;31m---------------------------------------------------------------------------\u001b[0m",
      "\u001b[1;31mTypeError\u001b[0m                                 Traceback (most recent call last)",
      "Input \u001b[1;32mIn [14]\u001b[0m, in \u001b[0;36m<cell line: 1>\u001b[1;34m()\u001b[0m\n\u001b[1;32m----> 1\u001b[0m good_players \u001b[38;5;241m=\u001b[39m [name[\u001b[38;5;124m'\u001b[39m\u001b[38;5;124mplayer\u001b[39m\u001b[38;5;124m'\u001b[39m] \u001b[38;5;28;01mfor\u001b[39;00m name \u001b[38;5;129;01min\u001b[39;00m player_list ] \u001b[38;5;129;01mand\u001b[39;00m [value[\u001b[38;5;124m'\u001b[39m\u001b[38;5;124mrating\u001b[39m\u001b[38;5;124m'\u001b[39m] \u001b[38;5;28;01mfor\u001b[39;00m value \u001b[38;5;129;01min\u001b[39;00m \u001b[43mplayer_list\u001b[49m\u001b[43m \u001b[49m\u001b[38;5;241;43m>\u001b[39;49m\u001b[38;5;241;43m=\u001b[39;49m\u001b[43m \u001b[49m\u001b[38;5;124;43m'\u001b[39;49m\u001b[38;5;124;43m80\u001b[39;49m\u001b[38;5;124;43m'\u001b[39;49m]\n",
      "\u001b[1;31mTypeError\u001b[0m: '>=' not supported between instances of 'list' and 'str'"
     ]
    }
   ],
   "source": [
    "good_players = [name['player'] for name in player_list ] and [value['rating'] for value in player_list >= '80']"
   ]
  },
  {
   "cell_type": "code",
   "execution_count": null,
   "id": "b95bb47e",
   "metadata": {},
   "outputs": [],
   "source": []
  },
  {
   "cell_type": "code",
   "execution_count": null,
   "id": "f37f2407",
   "metadata": {},
   "outputs": [],
   "source": []
  },
  {
   "cell_type": "code",
   "execution_count": null,
   "id": "f9bb84ef",
   "metadata": {},
   "outputs": [],
   "source": []
  },
  {
   "cell_type": "code",
   "execution_count": null,
   "id": "44ac9351",
   "metadata": {},
   "outputs": [],
   "source": []
  },
  {
   "cell_type": "code",
   "execution_count": null,
   "id": "80a9557f",
   "metadata": {},
   "outputs": [],
   "source": []
  },
  {
   "cell_type": "code",
   "execution_count": 15,
   "id": "1a554cdb",
   "metadata": {},
   "outputs": [
    {
     "ename": "SyntaxError",
     "evalue": "invalid syntax (1152687730.py, line 2)",
     "output_type": "error",
     "traceback": [
      "\u001b[1;36m  Input \u001b[1;32mIn [15]\u001b[1;36m\u001b[0m\n\u001b[1;33m    if value['rating'] for value in player_list >= '80'\u001b[0m\n\u001b[1;37m                       ^\u001b[0m\n\u001b[1;31mSyntaxError\u001b[0m\u001b[1;31m:\u001b[0m invalid syntax\n"
     ]
    }
   ],
   "source": [
    "def good_players():\n",
    "    if value['rating'] for value in player_list >= '80'\n",
    "    return name['player'] for name in player_list\n",
    "\n",
    "good_player()"
   ]
  },
  {
   "cell_type": "code",
   "execution_count": null,
   "id": "dca1f148",
   "metadata": {},
   "outputs": [],
   "source": []
  },
  {
   "cell_type": "code",
   "execution_count": null,
   "id": "b5ff833a",
   "metadata": {},
   "outputs": [],
   "source": []
  },
  {
   "cell_type": "code",
   "execution_count": null,
   "id": "afdd8ecb",
   "metadata": {},
   "outputs": [],
   "source": []
  },
  {
   "cell_type": "code",
   "execution_count": null,
   "id": "1cecbcba",
   "metadata": {},
   "outputs": [],
   "source": []
  },
  {
   "cell_type": "code",
   "execution_count": null,
   "id": "3e6292e2",
   "metadata": {},
   "outputs": [],
   "source": []
  },
  {
   "cell_type": "code",
   "execution_count": null,
   "id": "8aebf544",
   "metadata": {},
   "outputs": [],
   "source": []
  },
  {
   "cell_type": "code",
   "execution_count": 16,
   "id": "0cbdacb1",
   "metadata": {},
   "outputs": [
    {
     "ename": "SyntaxError",
     "evalue": "invalid syntax (2010314393.py, line 1)",
     "output_type": "error",
     "traceback": [
      "\u001b[1;36m  Input \u001b[1;32mIn [16]\u001b[1;36m\u001b[0m\n\u001b[1;33m    good_players = list(filter(lambda player_list:player_list if value['rating'] for value in player_list >= '80', player_list))\u001b[0m\n\u001b[1;37m                                                                                 ^\u001b[0m\n\u001b[1;31mSyntaxError\u001b[0m\u001b[1;31m:\u001b[0m invalid syntax\n"
     ]
    }
   ],
   "source": [
    "good_players = list(filter(lambda player_list:player_list if value['rating'] for value in player_list >= '80', player_list))\n",
    "print(good_player_list)"
   ]
  },
  {
   "cell_type": "code",
   "execution_count": null,
   "id": "9932d0b9",
   "metadata": {},
   "outputs": [],
   "source": []
  },
  {
   "cell_type": "code",
   "execution_count": null,
   "id": "f9bccc90",
   "metadata": {},
   "outputs": [],
   "source": []
  },
  {
   "cell_type": "code",
   "execution_count": null,
   "id": "60a1dd0c",
   "metadata": {},
   "outputs": [],
   "source": []
  },
  {
   "cell_type": "code",
   "execution_count": null,
   "id": "1abfb8ee",
   "metadata": {},
   "outputs": [],
   "source": []
  },
  {
   "cell_type": "code",
   "execution_count": null,
   "id": "460ad02f",
   "metadata": {},
   "outputs": [],
   "source": []
  },
  {
   "cell_type": "code",
   "execution_count": null,
   "id": "b5565c37",
   "metadata": {},
   "outputs": [],
   "source": []
  },
  {
   "cell_type": "code",
   "execution_count": 17,
   "id": "6d3493ad",
   "metadata": {},
   "outputs": [
    {
     "data": {
      "text/plain": [
       "[{'player': 'Christian Pulisic', 'rating': '82'},\n",
       " {'player': 'Harry Kane', 'rating': '90'},\n",
       " {'player': 'Harry Mcguire', 'rating': '81'},\n",
       " {'player': 'Phil Foden', 'rating': '84'},\n",
       " {'player': 'Jack Grealish', 'rating': '85'}]"
      ]
     },
     "execution_count": 17,
     "metadata": {},
     "output_type": "execute_result"
    }
   ],
   "source": [
    "good_players = list(filter(lambda value:value['rating'] >= '80', player_list))\n",
    "list(good_players)"
   ]
  },
  {
   "cell_type": "code",
   "execution_count": null,
   "id": "9423790a",
   "metadata": {},
   "outputs": [],
   "source": []
  },
  {
   "cell_type": "code",
   "execution_count": null,
   "id": "a38e37ed",
   "metadata": {},
   "outputs": [],
   "source": []
  },
  {
   "cell_type": "code",
   "execution_count": null,
   "id": "1b33486f",
   "metadata": {},
   "outputs": [],
   "source": []
  },
  {
   "cell_type": "code",
   "execution_count": null,
   "id": "ae629ea9",
   "metadata": {},
   "outputs": [],
   "source": []
  },
  {
   "cell_type": "code",
   "execution_count": null,
   "id": "5db4d959",
   "metadata": {},
   "outputs": [],
   "source": []
  },
  {
   "cell_type": "code",
   "execution_count": null,
   "id": "65283099",
   "metadata": {},
   "outputs": [],
   "source": []
  },
  {
   "cell_type": "code",
   "execution_count": null,
   "id": "78c584c5",
   "metadata": {},
   "outputs": [],
   "source": []
  },
  {
   "cell_type": "code",
   "execution_count": null,
   "id": "8e30089d",
   "metadata": {},
   "outputs": [],
   "source": []
  },
  {
   "cell_type": "code",
   "execution_count": 18,
   "id": "30b1a9f8",
   "metadata": {},
   "outputs": [
    {
     "name": "stdout",
     "output_type": "stream",
     "text": [
      "<map object at 0x0000024FAF7E8790>\n"
     ]
    }
   ],
   "source": [
    "good_players = list(filter(lambda value:value['rating'] >= '80', player_list))\n",
    "get_good_players = functools.partial(map, good_players)\n",
    "\n",
    "wanted_players = get_good_players(player_list)\n",
    "print(wanted_players)"
   ]
  },
  {
   "cell_type": "code",
   "execution_count": null,
   "id": "4dc87e52",
   "metadata": {},
   "outputs": [],
   "source": []
  },
  {
   "cell_type": "code",
   "execution_count": null,
   "id": "f3820c9f",
   "metadata": {},
   "outputs": [],
   "source": []
  },
  {
   "cell_type": "code",
   "execution_count": null,
   "id": "f46c94fe",
   "metadata": {},
   "outputs": [],
   "source": []
  },
  {
   "cell_type": "code",
   "execution_count": null,
   "id": "ffd5a26f",
   "metadata": {},
   "outputs": [],
   "source": []
  },
  {
   "cell_type": "code",
   "execution_count": null,
   "id": "46a858c9",
   "metadata": {},
   "outputs": [],
   "source": []
  },
  {
   "cell_type": "code",
   "execution_count": null,
   "id": "db75116b",
   "metadata": {},
   "outputs": [],
   "source": []
  },
  {
   "cell_type": "code",
   "execution_count": null,
   "id": "0daa95c8",
   "metadata": {},
   "outputs": [],
   "source": []
  },
  {
   "cell_type": "code",
   "execution_count": 19,
   "id": "0df11d66",
   "metadata": {},
   "outputs": [
    {
     "data": {
      "text/plain": [
       "{'Harry Kane': '90',\n",
       " 'Harry Mcguire': '81',\n",
       " 'Phil Foden': '84',\n",
       " 'Jack Grealish': '85',\n",
       " 'Eric Dier': '79',\n",
       " 'Christian Pulisic': '82',\n",
       " 'Gio Reyna': '79',\n",
       " 'Weston Mckinnie': '78',\n",
       " 'Sergino Dest': '79',\n",
       " 'Tyler Adams': '79'}"
      ]
     },
     "execution_count": 19,
     "metadata": {},
     "output_type": "execute_result"
    }
   ],
   "source": [
    "# need a dict that maps each player's name to its rating, in which case you can chain the two lists of dicts, \n",
    "# map the dicts to an itemgetter to produce a sequence of tuples of player name and rating, \n",
    "# and then construct a new dict with the sequence:\n",
    "\n",
    "\n",
    "from operator import itemgetter\n",
    "from itertools import chain\n",
    "\n",
    "dict(map(itemgetter('player', 'rating'), chain(Eng_Team, USA_Team)))"
   ]
  },
  {
   "cell_type": "code",
   "execution_count": null,
   "id": "e696cca1",
   "metadata": {},
   "outputs": [],
   "source": []
  }
 ],
 "metadata": {
  "kernelspec": {
   "display_name": "Python 3 (ipykernel)",
   "language": "python",
   "name": "python3"
  },
  "language_info": {
   "codemirror_mode": {
    "name": "ipython",
    "version": 3
   },
   "file_extension": ".py",
   "mimetype": "text/x-python",
   "name": "python",
   "nbconvert_exporter": "python",
   "pygments_lexer": "ipython3",
   "version": "3.9.12"
  }
 },
 "nbformat": 4,
 "nbformat_minor": 5
}
