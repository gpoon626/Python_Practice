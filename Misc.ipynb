{
 "cells": [
  {
   "cell_type": "code",
   "execution_count": 1,
   "id": "d7d14275",
   "metadata": {},
   "outputs": [],
   "source": [
    "Eng_Team = [\n",
    "    {'player': 'Harry Kane', 'rating': '90'},\n",
    "    {'player': 'Harry Mcguire', 'rating': '81'},\n",
    "    {'player': 'Phil Foden', 'rating': '84'},\n",
    "    {'player': 'Jack Grealish', 'rating': '85'},\n",
    "    {'player': 'Eric Dier', 'rating': '79'}\n",
    "]\n",
    "\n",
    "USA_Team = [\n",
    "    {'player': 'Christian Pulisic', 'rating': '82'},\n",
    "    {'player': 'Gio Reyna', 'rating': '79'},\n",
    "    {'player': 'Weston Mckinnie', 'rating': '78'},\n",
    "    {'player': 'Sergino Dest', 'rating': '79'},\n",
    "    {'player': 'Tyler Adams', 'rating': '79'}\n",
    "]"
   ]
  },
  {
   "cell_type": "code",
   "execution_count": 2,
   "id": "3950609d",
   "metadata": {},
   "outputs": [
    {
     "ename": "TypeError",
     "evalue": "unsupported operand type(s) for |: 'list' and 'list'",
     "output_type": "error",
     "traceback": [
      "\u001b[1;31m---------------------------------------------------------------------------\u001b[0m",
      "\u001b[1;31mTypeError\u001b[0m                                 Traceback (most recent call last)",
      "Input \u001b[1;32mIn [2]\u001b[0m, in \u001b[0;36m<cell line: 5>\u001b[1;34m()\u001b[0m\n\u001b[0;32m      2\u001b[0m     result \u001b[38;5;241m=\u001b[39m USA_Team \u001b[38;5;241m|\u001b[39m Eng_Team\n\u001b[0;32m      3\u001b[0m     \u001b[38;5;28;01mreturn\u001b[39;00m result\n\u001b[1;32m----> 5\u001b[0m player_list \u001b[38;5;241m=\u001b[39m \u001b[43mmerge\u001b[49m\u001b[43m(\u001b[49m\u001b[43mUSA_Team\u001b[49m\u001b[43m,\u001b[49m\u001b[43m \u001b[49m\u001b[43mEng_Team\u001b[49m\u001b[43m)\u001b[49m\n\u001b[0;32m      6\u001b[0m \u001b[38;5;28mprint\u001b[39m(player_list)\n",
      "Input \u001b[1;32mIn [2]\u001b[0m, in \u001b[0;36mmerge\u001b[1;34m(USA_Team, Eng_Team)\u001b[0m\n\u001b[0;32m      1\u001b[0m \u001b[38;5;28;01mdef\u001b[39;00m \u001b[38;5;21mmerge\u001b[39m(USA_Team, Eng_Team):\n\u001b[1;32m----> 2\u001b[0m     result \u001b[38;5;241m=\u001b[39m \u001b[43mUSA_Team\u001b[49m\u001b[43m \u001b[49m\u001b[38;5;241;43m|\u001b[39;49m\u001b[43m \u001b[49m\u001b[43mEng_Team\u001b[49m\n\u001b[0;32m      3\u001b[0m     \u001b[38;5;28;01mreturn\u001b[39;00m result\n",
      "\u001b[1;31mTypeError\u001b[0m: unsupported operand type(s) for |: 'list' and 'list'"
     ]
    }
   ],
   "source": [
    "def merge(USA_Team, Eng_Team):\n",
    "    result = USA_Team | Eng_Team\n",
    "    return result\n",
    "\n",
    "player_list = merge(USA_Team, Eng_Team)\n",
    "print(player_list)"
   ]
  },
  {
   "cell_type": "code",
   "execution_count": 3,
   "id": "c8ee2b2c",
   "metadata": {},
   "outputs": [
    {
     "name": "stdout",
     "output_type": "stream",
     "text": [
      "[{'player': 'Christian Pulisic', 'rating': '82'}, {'player': 'Gio Reyna', 'rating': '79'}, {'player': 'Weston Mckinnie', 'rating': '78'}, {'player': 'Sergino Dest', 'rating': '79'}, {'player': 'Tyler Adams', 'rating': '79'}, {'player': 'Harry Kane', 'rating': '90'}, {'player': 'Harry Mcguire', 'rating': '81'}, {'player': 'Phil Foden', 'rating': '84'}, {'player': 'Jack Grealish', 'rating': '85'}, {'player': 'Eric Dier', 'rating': '79'}]\n"
     ]
    }
   ],
   "source": [
    "player_list = USA_Team + Eng_Team\n",
    "print(player_list)"
   ]
  },
  {
   "cell_type": "code",
   "execution_count": 10,
   "id": "1a6eed9b",
   "metadata": {
    "scrolled": true
   },
   "outputs": [
    {
     "ename": "AttributeError",
     "evalue": "'list' object has no attribute 'value'",
     "output_type": "error",
     "traceback": [
      "\u001b[1;31m---------------------------------------------------------------------------\u001b[0m",
      "\u001b[1;31mAttributeError\u001b[0m                            Traceback (most recent call last)",
      "Input \u001b[1;32mIn [10]\u001b[0m, in \u001b[0;36m<cell line: 2>\u001b[1;34m()\u001b[0m\n\u001b[0;32m      1\u001b[0m all_players \u001b[38;5;241m=\u001b[39m [{}]\n\u001b[1;32m----> 2\u001b[0m \u001b[38;5;28;01mfor\u001b[39;00m name \u001b[38;5;129;01min\u001b[39;00m \u001b[43mplayer_list\u001b[49m\u001b[38;5;241;43m.\u001b[39;49m\u001b[43mvalue\u001b[49m():\n\u001b[0;32m      3\u001b[0m     value \u001b[38;5;241m=\u001b[39m key\u001b[38;5;241m.\u001b[39mvalue\n\u001b[0;32m      4\u001b[0m     all_players\u001b[38;5;241m.\u001b[39mappend(value)\n",
      "\u001b[1;31mAttributeError\u001b[0m: 'list' object has no attribute 'value'"
     ]
    }
   ],
   "source": [
    "class player_list:\n",
    "    def __init__(self, player, rating):\n",
    "        self.player = player\n",
    "        self.rating = rating"
   ]
  },
  {
   "cell_type": "code",
   "execution_count": null,
   "id": "704f8cd3",
   "metadata": {},
   "outputs": [],
   "source": []
  },
  {
   "cell_type": "code",
   "execution_count": 24,
   "id": "a71721ae",
   "metadata": {},
   "outputs": [
    {
     "data": {
      "text/plain": [
       "['Christian Pulisic',\n",
       " 'Gio Reyna',\n",
       " 'Weston Mckinnie',\n",
       " 'Sergino Dest',\n",
       " 'Tyler Adams',\n",
       " 'Harry Kane',\n",
       " 'Harry Mcguire',\n",
       " 'Phil Foden',\n",
       " 'Jack Grealish',\n",
       " 'Eric Dier']"
      ]
     },
     "execution_count": 24,
     "metadata": {},
     "output_type": "execute_result"
    }
   ],
   "source": [
    "#Calling key value by variable\n",
    "\n",
    "all_players = [name['player'] for name in player_list ]\n",
    "list(all_players)"
   ]
  },
  {
   "cell_type": "code",
   "execution_count": 23,
   "id": "e5f38eac",
   "metadata": {},
   "outputs": [
    {
     "data": {
      "text/plain": [
       "['Christian Pulisic',\n",
       " 'Gio Reyna',\n",
       " 'Weston Mckinnie',\n",
       " 'Sergino Dest',\n",
       " 'Tyler Adams',\n",
       " 'Harry Kane',\n",
       " 'Harry Mcguire',\n",
       " 'Phil Foden',\n",
       " 'Jack Grealish',\n",
       " 'Eric Dier']"
      ]
     },
     "execution_count": 23,
     "metadata": {},
     "output_type": "execute_result"
    }
   ],
   "source": [
    "#mapping and using lambda\n",
    "\n",
    "all_players = map(lambda name: name['player'], player_list) \n",
    "list(all_players)"
   ]
  },
  {
   "cell_type": "code",
   "execution_count": 26,
   "id": "8370943a",
   "metadata": {},
   "outputs": [
    {
     "data": {
      "text/plain": [
       "['Christian Pulisic',\n",
       " 'Gio Reyna',\n",
       " 'Weston Mckinnie',\n",
       " 'Sergino Dest',\n",
       " 'Tyler Adams',\n",
       " 'Harry Kane',\n",
       " 'Harry Mcguire',\n",
       " 'Phil Foden',\n",
       " 'Jack Grealish',\n",
       " 'Eric Dier']"
      ]
     },
     "execution_count": 26,
     "metadata": {},
     "output_type": "execute_result"
    }
   ],
   "source": [
    "#Not a fan of lambdas\n",
    "\n",
    "import operator\n",
    "\n",
    "get_value = operator.itemgetter('player')\n",
    "all_players = map(get_value, player_list) \n",
    "list(all_players)"
   ]
  },
  {
   "cell_type": "code",
   "execution_count": null,
   "id": "4f939e0d",
   "metadata": {},
   "outputs": [],
   "source": []
  },
  {
   "cell_type": "code",
   "execution_count": null,
   "id": "3c954573",
   "metadata": {},
   "outputs": [],
   "source": []
  },
  {
   "cell_type": "code",
   "execution_count": 61,
   "id": "5e992b37",
   "metadata": {},
   "outputs": [
    {
     "ename": "SyntaxError",
     "evalue": "invalid syntax (1823033610.py, line 1)",
     "output_type": "error",
     "traceback": [
      "\u001b[1;36m  Input \u001b[1;32mIn [61]\u001b[1;36m\u001b[0m\n\u001b[1;33m    get_value = operator.itemgetter('player' if value['rating'] for value in player_list > 80)\u001b[0m\n\u001b[1;37m                                                                ^\u001b[0m\n\u001b[1;31mSyntaxError\u001b[0m\u001b[1;31m:\u001b[0m invalid syntax\n"
     ]
    }
   ],
   "source": [
    "get_value = operator.itemgetter('player' if value['rating'] for value in player_list > 80)\n",
    "all_players = map(get_value, player_list) \n",
    "list(all_players)"
   ]
  },
  {
   "cell_type": "code",
   "execution_count": null,
   "id": "776b83d4",
   "metadata": {},
   "outputs": [],
   "source": []
  },
  {
   "cell_type": "code",
   "execution_count": 80,
   "id": "62ce4070",
   "metadata": {},
   "outputs": [
    {
     "ename": "TypeError",
     "evalue": "'>=' not supported between instances of 'list' and 'str'",
     "output_type": "error",
     "traceback": [
      "\u001b[1;31m---------------------------------------------------------------------------\u001b[0m",
      "\u001b[1;31mTypeError\u001b[0m                                 Traceback (most recent call last)",
      "Input \u001b[1;32mIn [80]\u001b[0m, in \u001b[0;36m<cell line: 1>\u001b[1;34m()\u001b[0m\n\u001b[1;32m----> 1\u001b[0m good_players \u001b[38;5;241m=\u001b[39m [name[\u001b[38;5;124m'\u001b[39m\u001b[38;5;124mplayer\u001b[39m\u001b[38;5;124m'\u001b[39m] \u001b[38;5;28;01mfor\u001b[39;00m name \u001b[38;5;129;01min\u001b[39;00m player_list] \u001b[38;5;129;01mand\u001b[39;00m [value[\u001b[38;5;124m'\u001b[39m\u001b[38;5;124mrating\u001b[39m\u001b[38;5;124m'\u001b[39m] \u001b[38;5;28;01mfor\u001b[39;00m value \u001b[38;5;129;01min\u001b[39;00m \u001b[43mplayer_list\u001b[49m\u001b[43m \u001b[49m\u001b[38;5;241;43m>\u001b[39;49m\u001b[38;5;241;43m=\u001b[39;49m\u001b[43m \u001b[49m\u001b[38;5;124;43m'\u001b[39;49m\u001b[38;5;124;43m80\u001b[39;49m\u001b[38;5;124;43m'\u001b[39;49m]\n\u001b[0;32m      2\u001b[0m \u001b[38;5;28mlist\u001b[39m(good_players)\n",
      "\u001b[1;31mTypeError\u001b[0m: '>=' not supported between instances of 'list' and 'str'"
     ]
    }
   ],
   "source": [
    "good_players = [name['player'] for name in player_list] and [value['rating'] for value in player_list >= '80']\n",
    "list(good_players)"
   ]
  },
  {
   "cell_type": "code",
   "execution_count": 92,
   "id": "77a39f31",
   "metadata": {},
   "outputs": [
    {
     "ename": "SyntaxError",
     "evalue": "invalid syntax (1166189759.py, line 2)",
     "output_type": "error",
     "traceback": [
      "\u001b[1;36m  Input \u001b[1;32mIn [92]\u001b[1;36m\u001b[0m\n\u001b[1;33m    if value['rating'] for value player_list >== '80'\u001b[0m\n\u001b[1;37m                       ^\u001b[0m\n\u001b[1;31mSyntaxError\u001b[0m\u001b[1;31m:\u001b[0m invalid syntax\n"
     ]
    }
   ],
   "source": [
    "def good_players():\n",
    "    if value['rating'] for value player_list >== '80' \n",
    "    return name['player'] for name in player_list\n",
    "\n",
    "good_players()"
   ]
  },
  {
   "cell_type": "code",
   "execution_count": null,
   "id": "e1413d2e",
   "metadata": {},
   "outputs": [],
   "source": []
  },
  {
   "cell_type": "code",
   "execution_count": null,
   "id": "37f0b6e3",
   "metadata": {},
   "outputs": [],
   "source": []
  },
  {
   "cell_type": "code",
   "execution_count": null,
   "id": "4a2e7ec5",
   "metadata": {},
   "outputs": [],
   "source": []
  },
  {
   "cell_type": "code",
   "execution_count": 32,
   "id": "edbba5d1",
   "metadata": {},
   "outputs": [
    {
     "data": {
      "text/plain": [
       "['Christian Pulisic',\n",
       " 'Gio Reyna',\n",
       " 'Weston Mckinnie',\n",
       " 'Sergino Dest',\n",
       " 'Tyler Adams',\n",
       " 'Harry Kane',\n",
       " 'Harry Mcguire',\n",
       " 'Phil Foden',\n",
       " 'Jack Grealish',\n",
       " 'Eric Dier']"
      ]
     },
     "execution_count": 32,
     "metadata": {},
     "output_type": "execute_result"
    }
   ],
   "source": [
    "#Creating a function that explicitly says what I need\n",
    "\n",
    "import operator, functools\n",
    "\n",
    "get_name = operator.itemgetter('player')\n",
    "get_names = functools.partial(map, get_name)\n",
    "all_players = get_names(player_list)\n",
    "list(all_players)"
   ]
  },
  {
   "cell_type": "code",
   "execution_count": null,
   "id": "d89f75b3",
   "metadata": {},
   "outputs": [],
   "source": []
  },
  {
   "cell_type": "code",
   "execution_count": null,
   "id": "f6cd10aa",
   "metadata": {},
   "outputs": [],
   "source": []
  },
  {
   "cell_type": "code",
   "execution_count": 60,
   "id": "6695b42e",
   "metadata": {},
   "outputs": [
    {
     "ename": "SyntaxError",
     "evalue": "invalid syntax (3351021562.py, line 3)",
     "output_type": "error",
     "traceback": [
      "\u001b[1;36m  Input \u001b[1;32mIn [60]\u001b[1;36m\u001b[0m\n\u001b[1;33m    get_name = operator.itemgetter('player' if value['rating'] for value in player_list > 80)\u001b[0m\n\u001b[1;37m                                                               ^\u001b[0m\n\u001b[1;31mSyntaxError\u001b[0m\u001b[1;31m:\u001b[0m invalid syntax\n"
     ]
    }
   ],
   "source": [
    "import operator, functools\n",
    "\n",
    "get_name = operator.itemgetter('player' if value['rating'] for player_list > '80')\n",
    "get_names = functools.partial(map, get_name)\n",
    "all_players = get_names(player_list)\n",
    "list(all_players)"
   ]
  },
  {
   "cell_type": "code",
   "execution_count": 69,
   "id": "6d9c6cb8",
   "metadata": {},
   "outputs": [],
   "source": [
    "def world_class(x):\n",
    "    return x if x > 80 else null \n",
    "\n",
    "def good_players(rating, player_list):\n",
    "    good_player_list = []\n",
    "    for rating in world_class():\n",
    "        for val in player_list.items():\n",
    "            if val['rating'] > world_class:\n",
    "                good_player_list.append(rating)\n",
    "    return good_player_list"
   ]
  },
  {
   "cell_type": "code",
   "execution_count": null,
   "id": "b3f93ad1",
   "metadata": {},
   "outputs": [],
   "source": []
  },
  {
   "cell_type": "code",
   "execution_count": null,
   "id": "cd9962c0",
   "metadata": {},
   "outputs": [],
   "source": []
  },
  {
   "cell_type": "code",
   "execution_count": 70,
   "id": "449b2b19",
   "metadata": {},
   "outputs": [
    {
     "ename": "SyntaxError",
     "evalue": "invalid syntax (1565708955.py, line 1)",
     "output_type": "error",
     "traceback": [
      "\u001b[1;36m  Input \u001b[1;32mIn [70]\u001b[1;36m\u001b[0m\n\u001b[1;33m    good_player_list = list(filter(lambda player_list:player_list if value['rating'] for value in player_list >= 80, player_list))\u001b[0m\n\u001b[1;37m                                                                                     ^\u001b[0m\n\u001b[1;31mSyntaxError\u001b[0m\u001b[1;31m:\u001b[0m invalid syntax\n"
     ]
    }
   ],
   "source": [
    "good_player_list = list(filter(lambda player_list:player_list if value['rating'] for value in player_list >= '80', player_list))\n",
    "print(good_player_list)"
   ]
  },
  {
   "cell_type": "code",
   "execution_count": null,
   "id": "7e4650bb",
   "metadata": {},
   "outputs": [],
   "source": []
  },
  {
   "cell_type": "code",
   "execution_count": null,
   "id": "ee7dfda7",
   "metadata": {},
   "outputs": [],
   "source": [
    "good_player_list = "
   ]
  },
  {
   "cell_type": "code",
   "execution_count": 53,
   "id": "2955729b",
   "metadata": {},
   "outputs": [
    {
     "ename": "NameError",
     "evalue": "name 'myks' is not defined",
     "output_type": "error",
     "traceback": [
      "\u001b[1;31m---------------------------------------------------------------------------\u001b[0m",
      "\u001b[1;31mNameError\u001b[0m                                 Traceback (most recent call last)",
      "Input \u001b[1;32mIn [53]\u001b[0m, in \u001b[0;36m<cell line: 1>\u001b[1;34m()\u001b[0m\n\u001b[1;32m----> 1\u001b[0m \u001b[43mmyks\u001b[49m \u001b[38;5;241m>\u001b[39m\u001b[38;5;241m=\u001b[39m \u001b[38;5;241m80\u001b[39m\n\u001b[0;32m      2\u001b[0m \u001b[38;5;241m79\u001b[39m\u001b[38;5;241m>\u001b[39mmyks\n",
      "\u001b[1;31mNameError\u001b[0m: name 'myks' is not defined"
     ]
    }
   ],
   "source": []
  },
  {
   "cell_type": "code",
   "execution_count": null,
   "id": "480f228a",
   "metadata": {},
   "outputs": [],
   "source": []
  },
  {
   "cell_type": "code",
   "execution_count": null,
   "id": "626a54a5",
   "metadata": {},
   "outputs": [],
   "source": []
  },
  {
   "cell_type": "code",
   "execution_count": null,
   "id": "ebe8da79",
   "metadata": {},
   "outputs": [],
   "source": []
  },
  {
   "cell_type": "code",
   "execution_count": null,
   "id": "7799e126",
   "metadata": {},
   "outputs": [],
   "source": []
  },
  {
   "cell_type": "code",
   "execution_count": null,
   "id": "057d1f8f",
   "metadata": {},
   "outputs": [],
   "source": []
  },
  {
   "cell_type": "code",
   "execution_count": 90,
   "id": "3de398b9",
   "metadata": {},
   "outputs": [
    {
     "ename": "AttributeError",
     "evalue": "'list' object has no attribute 'rating'",
     "output_type": "error",
     "traceback": [
      "\u001b[1;31m---------------------------------------------------------------------------\u001b[0m",
      "\u001b[1;31mAttributeError\u001b[0m                            Traceback (most recent call last)",
      "Input \u001b[1;32mIn [90]\u001b[0m, in \u001b[0;36m<cell line: 1>\u001b[1;34m()\u001b[0m\n\u001b[1;32m----> 1\u001b[0m good_players \u001b[38;5;241m=\u001b[39m [{key:value \u001b[38;5;28;01mfor\u001b[39;00m key, value \u001b[38;5;129;01min\u001b[39;00m \u001b[43mplayer_list\u001b[49m\u001b[38;5;241;43m.\u001b[39;49m\u001b[43mrating\u001b[49m() \u001b[38;5;28;01mif\u001b[39;00m value \u001b[38;5;241m>\u001b[39m\u001b[38;5;241m=\u001b[39m \u001b[38;5;124m'\u001b[39m\u001b[38;5;124m80\u001b[39m\u001b[38;5;124m'\u001b[39m}]\n\u001b[0;32m      2\u001b[0m \u001b[38;5;28mprint\u001b[39m(good_players)\n",
      "\u001b[1;31mAttributeError\u001b[0m: 'list' object has no attribute 'rating'"
     ]
    }
   ],
   "source": [
    "good_players = [{key:value for key, value in player_list.rating() if value >= '80'}]\n",
    "print(good_players)"
   ]
  },
  {
   "cell_type": "code",
   "execution_count": null,
   "id": "f4c59fbf",
   "metadata": {},
   "outputs": [],
   "source": []
  },
  {
   "cell_type": "code",
   "execution_count": null,
   "id": "645ed5f4",
   "metadata": {},
   "outputs": [],
   "source": []
  },
  {
   "cell_type": "code",
   "execution_count": null,
   "id": "20925b11",
   "metadata": {},
   "outputs": [],
   "source": []
  },
  {
   "cell_type": "code",
   "execution_count": null,
   "id": "5ef490b9",
   "metadata": {},
   "outputs": [],
   "source": []
  },
  {
   "cell_type": "code",
   "execution_count": null,
   "id": "79503fdc",
   "metadata": {},
   "outputs": [],
   "source": []
  },
  {
   "cell_type": "code",
   "execution_count": null,
   "id": "7ca26fe5",
   "metadata": {},
   "outputs": [],
   "source": []
  },
  {
   "cell_type": "code",
   "execution_count": 79,
   "id": "995461dd",
   "metadata": {},
   "outputs": [
    {
     "data": {
      "text/plain": [
       "[{'player': 'Christian Pulisic', 'rating': '82'},\n",
       " {'player': 'Harry Kane', 'rating': '90'},\n",
       " {'player': 'Harry Mcguire', 'rating': '81'},\n",
       " {'player': 'Phil Foden', 'rating': '84'},\n",
       " {'player': 'Jack Grealish', 'rating': '85'}]"
      ]
     },
     "execution_count": 79,
     "metadata": {},
     "output_type": "execute_result"
    }
   ],
   "source": [
    "good_players = list(filter(lambda value:value['rating'] >= '80', player_list))\n",
    "list(good_players)"
   ]
  },
  {
   "cell_type": "code",
   "execution_count": null,
   "id": "12a99ca8",
   "metadata": {},
   "outputs": [],
   "source": []
  },
  {
   "cell_type": "code",
   "execution_count": null,
   "id": "fd8d871b",
   "metadata": {},
   "outputs": [],
   "source": []
  },
  {
   "cell_type": "code",
   "execution_count": null,
   "id": "b4d02430",
   "metadata": {},
   "outputs": [],
   "source": []
  },
  {
   "cell_type": "code",
   "execution_count": null,
   "id": "db9140d0",
   "metadata": {},
   "outputs": [],
   "source": []
  },
  {
   "cell_type": "code",
   "execution_count": null,
   "id": "b0d176c2",
   "metadata": {},
   "outputs": [],
   "source": []
  },
  {
   "cell_type": "code",
   "execution_count": null,
   "id": "e4311e2c",
   "metadata": {},
   "outputs": [],
   "source": []
  },
  {
   "cell_type": "code",
   "execution_count": null,
   "id": "0a7d6c91",
   "metadata": {},
   "outputs": [],
   "source": []
  },
  {
   "cell_type": "code",
   "execution_count": 89,
   "id": "e5f14ab5",
   "metadata": {},
   "outputs": [
    {
     "name": "stdout",
     "output_type": "stream",
     "text": [
      "<map object at 0x00000255EB8E3D00>\n"
     ]
    }
   ],
   "source": [
    "good_players = list(filter(lambda value:value['rating'] >= '80', player_list))\n",
    "get_good_players = functools.partial(map, good_players)\n",
    "wanted_players = get_good_players(player_list)\n",
    "print(wanted_players)"
   ]
  },
  {
   "cell_type": "code",
   "execution_count": null,
   "id": "e6d1d574",
   "metadata": {},
   "outputs": [],
   "source": []
  }
 ],
 "metadata": {
  "kernelspec": {
   "display_name": "Python 3 (ipykernel)",
   "language": "python",
   "name": "python3"
  },
  "language_info": {
   "codemirror_mode": {
    "name": "ipython",
    "version": 3
   },
   "file_extension": ".py",
   "mimetype": "text/x-python",
   "name": "python",
   "nbconvert_exporter": "python",
   "pygments_lexer": "ipython3",
   "version": "3.9.12"
  }
 },
 "nbformat": 4,
 "nbformat_minor": 5
}
