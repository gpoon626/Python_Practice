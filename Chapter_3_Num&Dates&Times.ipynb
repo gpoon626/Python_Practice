{
 "cells": [
  {
   "cell_type": "code",
   "execution_count": 2,
   "id": "5fb69c4c",
   "metadata": {},
   "outputs": [
    {
     "data": {
      "text/plain": [
       "1236.12"
      ]
     },
     "execution_count": 2,
     "metadata": {},
     "output_type": "execute_result"
    }
   ],
   "source": [
    "#sec3.1\n",
    "round(1236.12481348515, 2)"
   ]
  },
  {
   "cell_type": "code",
   "execution_count": 3,
   "id": "085e83b5",
   "metadata": {},
   "outputs": [
    {
     "data": {
      "text/plain": [
       "9761973500.0"
      ]
     },
     "execution_count": 3,
     "metadata": {},
     "output_type": "execute_result"
    }
   ],
   "source": [
    "#sec3.1\n",
    "a = 9761973469.3235356\n",
    "round(a , -2)"
   ]
  },
  {
   "cell_type": "code",
   "execution_count": 6,
   "id": "d4510dee",
   "metadata": {},
   "outputs": [
    {
     "name": "stdout",
     "output_type": "stream",
     "text": [
      "59129.3\n"
     ]
    }
   ],
   "source": [
    "#sec3.2\n",
    "from decimal import Decimal\n",
    "a = Decimal('24593.65')\n",
    "b = Decimal('34535.694')\n",
    "print(round(a + b, 1))\n"
   ]
  },
  {
   "cell_type": "code",
   "execution_count": 12,
   "id": "4d996878",
   "metadata": {},
   "outputs": [
    {
     "data": {
      "text/plain": [
       "'2589.346'"
      ]
     },
     "execution_count": 12,
     "metadata": {},
     "output_type": "execute_result"
    }
   ],
   "source": [
    "#sec3.3 Formatting Numbers for Output\n",
    "b = 2589.34587\n",
    "format(b, '>6.3f') "
   ]
  },
  {
   "cell_type": "code",
   "execution_count": 13,
   "id": "c5298076",
   "metadata": {},
   "outputs": [
    {
     "data": {
      "text/plain": [
       "'1b315264180'"
      ]
     },
     "execution_count": 13,
     "metadata": {},
     "output_type": "execute_result"
    }
   ],
   "source": [
    "#sec3.4\n",
    "a = 7923648\n",
    "b = 235834\n",
    "format(a * b, 'x')\n"
   ]
  },
  {
   "cell_type": "code",
   "execution_count": 17,
   "id": "2ed8b960",
   "metadata": {},
   "outputs": [
    {
     "data": {
      "text/plain": [
       "60249808541635175465051241409286940860194848435975673838813666715207852666479032798801559828780010649883181605988"
      ]
     },
     "execution_count": 17,
     "metadata": {},
     "output_type": "execute_result"
    }
   ],
   "source": [
    "#sec3.5\n",
    "data = b'd6 c6 07 43 3d 69 5c a1 e9 21 d5 08 35 ac 91 dd'\n",
    "int.from_bytes(data, 'big')\n"
   ]
  },
  {
   "cell_type": "code",
   "execution_count": 18,
   "id": "8b34fd67",
   "metadata": {},
   "outputs": [
    {
     "data": {
      "text/plain": [
       "47"
      ]
     },
     "execution_count": 18,
     "metadata": {},
     "output_type": "execute_result"
    }
   ],
   "source": [
    "#sec3.5\n",
    "len(data) \n"
   ]
  },
  {
   "cell_type": "code",
   "execution_count": 20,
   "id": "8b9152df",
   "metadata": {},
   "outputs": [
    {
     "data": {
      "text/plain": [
       "b'd6 c6 07 43 3d 69 5c a1 e9 21 d5 08 35 ac 91 dd'"
      ]
     },
     "execution_count": 20,
     "metadata": {},
     "output_type": "execute_result"
    }
   ],
   "source": [
    "#sec3.5\n",
    "data = 60249808541635175465051241409286940860194848435975673838813666715207852666479032798801559828780010649883181605988\n",
    "data.to_bytes(47, 'big')"
   ]
  },
  {
   "cell_type": "code",
   "execution_count": 21,
   "id": "228ae4d5",
   "metadata": {},
   "outputs": [
    {
     "name": "stdout",
     "output_type": "stream",
     "text": [
      "(-15+110j)\n"
     ]
    }
   ],
   "source": [
    "#sec3.6\n",
    "a = complex(6 , 7)\n",
    "b = complex (8, 9)\n",
    "c = a * b\n",
    "print(c)"
   ]
  },
  {
   "cell_type": "code",
   "execution_count": 22,
   "id": "f9d21cc3",
   "metadata": {},
   "outputs": [
    {
     "name": "stdout",
     "output_type": "stream",
     "text": [
      "nan\n"
     ]
    }
   ],
   "source": [
    "#sec3.7\n",
    "a = float('inf')\n",
    "b = float('nan')\n",
    "c = a + b\n",
    "print(c)\n"
   ]
  },
  {
   "cell_type": "code",
   "execution_count": 25,
   "id": "0f846a3c",
   "metadata": {},
   "outputs": [
    {
     "data": {
      "text/plain": [
       "1.5"
      ]
     },
     "execution_count": 25,
     "metadata": {},
     "output_type": "execute_result"
    }
   ],
   "source": [
    "#sec3.8\n",
    "from fractions import Fraction\n",
    "\n",
    "a = Fraction (2, 3)\n",
    "b = Fraction (5, 6)\n",
    "c = a + b\n",
    "float(c)\n"
   ]
  },
  {
   "cell_type": "code",
   "execution_count": 28,
   "id": "ea6a30e2",
   "metadata": {},
   "outputs": [
    {
     "name": "stdout",
     "output_type": "stream",
     "text": [
      "[45.  45.  41.5]\n"
     ]
    }
   ],
   "source": [
    "#sec3.9\n",
    "import numpy as np\n",
    "\n",
    "aa = np.array([12, 56, 13])\n",
    "ab = np.array([78, 34, 70])\n",
    "ac = (aa + ab)/2\n",
    "print(ac)"
   ]
  },
  {
   "cell_type": "code",
   "execution_count": 33,
   "id": "9359d4f8",
   "metadata": {},
   "outputs": [
    {
     "data": {
      "text/plain": [
       "matrix([[  24. ,   90. ,    7.8],\n",
       "        [  22. , -196. ,   13.8]])"
      ]
     },
     "execution_count": 33,
     "metadata": {},
     "output_type": "execute_result"
    }
   ],
   "source": [
    "#sec3.10\n",
    "import numpy as np\n",
    "\n",
    "m = np.matrix([[12, 45, 3.9], [11, -98, 6.9]])\n",
    "\n",
    "def f(x):\n",
    "    return x*2\n",
    "\n",
    "f(m)\n"
   ]
  },
  {
   "cell_type": "code",
   "execution_count": 34,
   "id": "ce1277bf",
   "metadata": {},
   "outputs": [
    {
     "data": {
      "text/plain": [
       "matrix([[12. , 45. ,  3.9]])"
      ]
     },
     "execution_count": 34,
     "metadata": {},
     "output_type": "execute_result"
    }
   ],
   "source": [
    "#sec3.11\n",
    "import random\n",
    "\n",
    "m = np.matrix([[12, 45, 3.9], [11, -98, 6.9]])\n",
    "\n",
    "random.choice(m)"
   ]
  },
  {
   "cell_type": "code",
   "execution_count": 41,
   "id": "06113504",
   "metadata": {},
   "outputs": [
    {
     "data": {
      "text/plain": [
       "b'\\x00\\x00\\x00\\x00\\x00\\x00\\x00\\x00\\x00\\x00\\x00\\x00\\x00\\x00\\x00\\x00\\x00\\x00\\x00\\x00\\x00\\x00\\x00\\x00\\x00\\x00\\x00\\x00\\x00\\x00\\x00\\x0ee\\xc9\\x17y'"
      ]
     },
     "execution_count": 41,
     "metadata": {},
     "output_type": "execute_result"
    }
   ],
   "source": [
    "#sec3.11\n",
    "import random\n",
    "\n",
    "data = random.getrandbits(36)\n",
    "data.to_bytes(36, 'big')\n",
    "\n",
    "\n"
   ]
  },
  {
   "cell_type": "code",
   "execution_count": 38,
   "id": "57a17643",
   "metadata": {},
   "outputs": [
    {
     "data": {
      "text/plain": [
       "10.86454919867452"
      ]
     },
     "execution_count": 38,
     "metadata": {},
     "output_type": "execute_result"
    }
   ],
   "source": [
    "import random\n",
    "\n",
    "random.uniform(10.5, 11)"
   ]
  },
  {
   "cell_type": "code",
   "execution_count": null,
   "id": "9d7d7306",
   "metadata": {},
   "outputs": [],
   "source": []
  },
  {
   "cell_type": "code",
   "execution_count": null,
   "id": "0d7d0c14",
   "metadata": {},
   "outputs": [],
   "source": []
  }
 ],
 "metadata": {
  "kernelspec": {
   "display_name": "Python 3 (ipykernel)",
   "language": "python",
   "name": "python3"
  },
  "language_info": {
   "codemirror_mode": {
    "name": "ipython",
    "version": 3
   },
   "file_extension": ".py",
   "mimetype": "text/x-python",
   "name": "python",
   "nbconvert_exporter": "python",
   "pygments_lexer": "ipython3",
   "version": "3.9.12"
  }
 },
 "nbformat": 4,
 "nbformat_minor": 5
}
