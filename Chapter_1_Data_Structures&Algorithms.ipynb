{
 "cells": [
  {
   "cell_type": "code",
   "execution_count": 3,
   "id": "5b13e45f",
   "metadata": {},
   "outputs": [
    {
     "name": "stdout",
     "output_type": "stream",
     "text": [
      "['user1', 1234, (2022, 9, 26)]\n"
     ]
    }
   ],
   "source": [
    "#1.1 Unpacking a Sequence into Separate Variables\n",
    "\n",
    "data = ['user1', 1234, (2022, 9, 26)]\n",
    "username, pin, (year, month, day) = data\n",
    "print(data)"
   ]
  },
  {
   "cell_type": "code",
   "execution_count": 6,
   "id": "4d5cfab0",
   "metadata": {},
   "outputs": [
    {
     "data": {
      "text/plain": [
       "1234"
      ]
     },
     "execution_count": 6,
     "metadata": {},
     "output_type": "execute_result"
    }
   ],
   "source": [
    "pin"
   ]
  },
  {
   "cell_type": "code",
   "execution_count": 1,
   "id": "b3b8bf3d",
   "metadata": {},
   "outputs": [
    {
     "ename": "SyntaxError",
     "evalue": "'return' outside function (3357376266.py, line 7)",
     "output_type": "error",
     "traceback": [
      "\u001b[1;36m  Input \u001b[1;32mIn [1]\u001b[1;36m\u001b[0m\n\u001b[1;33m    return avg_price_comparison(trailing_prices, current_prices)\u001b[0m\n\u001b[1;37m    ^\u001b[0m\n\u001b[1;31mSyntaxError\u001b[0m\u001b[1;31m:\u001b[0m 'return' outside function\n"
     ]
    }
   ],
   "source": [
    "#1.2 Unpacking Elements from Iterable of Arbitrary Length\n",
    "\n",
    "all_prices = [10.99, 11.29, 13.49, 9.99, 10.59]\n",
    "\n",
    "*trailing_prices, current_prices = all_prices\n",
    "trailing_avg = sum(trailing_prices)/len(trailing_prices)\n",
    "return avg_price_comparison(trailing_prices, current_prices)\n",
    "\n",
    "*trailing_prices, current_prices = [10.99, 11.29, 13.49, 9.99, 10.59]\n",
    "trailing_prices\n"
   ]
  },
  {
   "cell_type": "code",
   "execution_count": 7,
   "id": "4ad323b4",
   "metadata": {},
   "outputs": [],
   "source": [
    "#1.3 Keeping the Last N Itmes\n",
    "\n",
    "from collections import deque\n",
    "\n",
    "def search(lines, pattern, history=3):\n",
    "    previous_lines = deque(maxlen=history)\n",
    "    for line in lines:\n",
    "        if pattern in line:\n",
    "            yield line, previous_lines"
   ]
  },
  {
   "cell_type": "code",
   "execution_count": 10,
   "id": "89908fd8",
   "metadata": {},
   "outputs": [
    {
     "data": {
      "text/plain": [
       "deque([66])"
      ]
     },
     "execution_count": 10,
     "metadata": {},
     "output_type": "execute_result"
    }
   ],
   "source": [
    "q = deque(maxlen=4)\n",
    "deque([56,45,55], maxlen=4)\n",
    "q.append(66)"
   ]
  },
  {
   "cell_type": "code",
   "execution_count": 11,
   "id": "790edc99",
   "metadata": {},
   "outputs": [
    {
     "data": {
      "text/plain": [
       "deque([57, 78, 6, 99])"
      ]
     },
     "execution_count": 11,
     "metadata": {},
     "output_type": "execute_result"
    }
   ],
   "source": [
    "q.append(57)\n",
    "q.append(78)\n",
    "q.append(6)\n",
    "q.append(99)\n",
    "q"
   ]
  },
  {
   "cell_type": "code",
   "execution_count": 12,
   "id": "ca9f25f8",
   "metadata": {},
   "outputs": [
    {
     "name": "stdout",
     "output_type": "stream",
     "text": [
      "[{'Team': 'Athletics', 'Price': 27.99}, {'Team': 'Giants', 'Price': 34.89}]\n"
     ]
    }
   ],
   "source": [
    "#1.4 Finding the Largest or Smallest N Items\n",
    "\n",
    "import heapq\n",
    "\n",
    "tickets = [\n",
    "    {'Team':'Athletics', 'Price': 27.99},\n",
    "    {'Team':'Red Sox', 'Price': 45.79},\n",
    "    {'Team': 'Yankees', 'Price': 50.29},\n",
    "    {'Team': 'Giants', 'Price': 34.89},\n",
    "    {'Team': 'Angels', 'Price': 35.99}\n",
    "]\n",
    "\n",
    "cheap = heapq.nsmallest(2, tickets, key=lambda s: s['Price'])\n",
    "print(cheap)"
   ]
  },
  {
   "cell_type": "code",
   "execution_count": 16,
   "id": "a8eae1ed",
   "metadata": {},
   "outputs": [
    {
     "name": "stdout",
     "output_type": "stream",
     "text": [
      "[{'Team': 'Yankees', 'Price': 50.29}, {'Team': 'Red Sox', 'Price': 45.79}]\n"
     ]
    }
   ],
   "source": [
    "expensive = heapq.nlargest(2, tickets, key=lambda s: s['Price'])\n",
    "print(expensive)"
   ]
  },
  {
   "cell_type": "code",
   "execution_count": 29,
   "id": "a7d471ef",
   "metadata": {},
   "outputs": [],
   "source": [
    "#1.5 Implementing a Priority Queue\n",
    "\n",
    "class PriorityQueue:\n",
    "    def __init__(self):\n",
    "        self._queue = []\n",
    "        self._index = 0\n",
    "    def push(self, item, priority):\n",
    "        heapq.heappush(self._queue, (-priority, self._index, item))\n",
    "        self._index +=1\n",
    "    def pop(self):\n",
    "        return heapq.heappop(self._queue)[-1]\n",
    "\n",
    "class Chores:\n",
    "    def __init__(self, name):\n",
    "        self.name = name\n",
    "    def __repr__(self):\n",
    "        return 'Item({!r})'.format(self.name)\n",
    "    \n",
    "q = PriorityQueue()\n",
    "\n",
    "q.push(Chores('Python'), 5)\n",
    "q.push(Chores('Laundry'), 2)\n",
    "q.push(Chores('Dishes'), 2)\n",
    "q.push(Chores('Meal Prep'), 4)\n",
    "q.push(Chores('Homework'), 3)\n"
   ]
  },
  {
   "cell_type": "code",
   "execution_count": 30,
   "id": "c262da08",
   "metadata": {},
   "outputs": [
    {
     "data": {
      "text/plain": [
       "Item('Python')"
      ]
     },
     "execution_count": 30,
     "metadata": {},
     "output_type": "execute_result"
    }
   ],
   "source": [
    "q.pop() #should result with 'Python' as it has the highest priority"
   ]
  },
  {
   "cell_type": "code",
   "execution_count": 46,
   "id": "a0cf3cab",
   "metadata": {},
   "outputs": [
    {
     "name": "stdout",
     "output_type": "stream",
     "text": [
      "defaultdict(<class 'list'>, {'Users': ['Jason', 'Michael'], 'PIN': [1234, 5678]})\n"
     ]
    }
   ],
   "source": [
    "#1.6 Mapping Keys to Multiple Values in a Dictionary\n",
    "\n",
    "from collections import defaultdict\n",
    "\n",
    "d = defaultdict(list)\n",
    "\n",
    "d['Users'].append('Jason')\n",
    "d['Users'].append('Michael')\n",
    "d['PIN'].append(1234)\n",
    "d['PIN'].append(5678)\n",
    "\n",
    "print(d)"
   ]
  },
  {
   "cell_type": "code",
   "execution_count": 47,
   "id": "4af25995",
   "metadata": {},
   "outputs": [
    {
     "data": {
      "text/plain": [
       "'{\"Urgent\": 5, \"High\": 4, \"Medium\": 3, \"Low\": 2, \"Clear\": 0}'"
      ]
     },
     "execution_count": 47,
     "metadata": {},
     "output_type": "execute_result"
    }
   ],
   "source": [
    "#1.7 Keeping Dictionaries in Order\n",
    "\n",
    "from collections import OrderedDict\n",
    "\n",
    "threat_level = OrderedDict()\n",
    "\n",
    "threat_level['Urgent'] = 5\n",
    "threat_level['High'] = 4\n",
    "threat_level['Medium'] = 3\n",
    "threat_level['Low'] = 2\n",
    "threat_level['Clear'] = 0\n",
    "\n",
    "import json\n",
    "\n",
    "json.dumps(threat_level)"
   ]
  },
  {
   "cell_type": "code",
   "execution_count": 8,
   "id": "76acb146",
   "metadata": {},
   "outputs": [
    {
     "name": "stdout",
     "output_type": "stream",
     "text": [
      "('Apple', 0.99)\n",
      "('Turkey', 12.99)\n",
      "[('Apple', 0.99), ('Carrots', 1.59), ('Celery', 2.99), ('Potatoes', 5.99), ('Steak', 10.99), ('Turkey', 12.99)]\n"
     ]
    }
   ],
   "source": [
    "#1.8 Calculating with Dictionaries\n",
    "\n",
    "grocery_items = {\n",
    "    'Apple': 0.99,\n",
    "    'Steak': 10.99,\n",
    "    'Celery': 2.99,\n",
    "    'Carrots': 1.59,\n",
    "    'Potatoes': 5.99,\n",
    "    'Turkey': 12.99\n",
    "}\n",
    "\n",
    "cheapest_item = min(zip(grocery_items.keys(), grocery_items.values()))\n",
    "\n",
    "priciest_item = max(zip(grocery_items.keys(), grocery_items.values()))\n",
    "\n",
    "item_prices_sorted = sorted(zip(grocery_items.keys(), grocery_items.values()))\n",
    "\n",
    "print(cheapest_item)\n",
    "print(priciest_item)\n",
    "print(item_prices_sorted)"
   ]
  },
  {
   "cell_type": "code",
   "execution_count": 41,
   "id": "1fa7d6aa",
   "metadata": {},
   "outputs": [
    {
     "data": {
      "text/plain": [
       "{('Cary', '888-873-9082')}"
      ]
     },
     "execution_count": 41,
     "metadata": {},
     "output_type": "execute_result"
    }
   ],
   "source": [
    "#1.9 Finding Commonalities in Two Dictionaries\n",
    "\n",
    "phonebook_1 = {\n",
    "    'Jack': '123-456-8709',\n",
    "    'Cary': '888-873-9082',\n",
    "    'Kayla': '542-123-6523'\n",
    "}\n",
    "\n",
    "phonebook_2 = {\n",
    "    'Kevin': '456-380-9763',\n",
    "    'Tom': '458-985-2856',\n",
    "    'Cary': '888-873-9082',\n",
    "}\n",
    "\n",
    "#Find (key,value) pairs in common\n",
    "phonebook_1.items() & phonebook_2.items()"
   ]
  },
  {
   "cell_type": "code",
   "execution_count": 12,
   "id": "2bc4d4f1",
   "metadata": {},
   "outputs": [
    {
     "data": {
      "text/plain": [
       "{'Cary'}"
      ]
     },
     "execution_count": 12,
     "metadata": {},
     "output_type": "execute_result"
    }
   ],
   "source": [
    "#Find keys in common\n",
    "phonebook_1.keys() & phonebook_2.keys()"
   ]
  },
  {
   "cell_type": "code",
   "execution_count": 13,
   "id": "28202421",
   "metadata": {},
   "outputs": [
    {
     "data": {
      "text/plain": [
       "{'Jack', 'Kayla'}"
      ]
     },
     "execution_count": 13,
     "metadata": {},
     "output_type": "execute_result"
    }
   ],
   "source": [
    "#Find keys on phonebook_1 that are NOT in phonebook_2\n",
    "phonebook_1.keys() - phonebook_2.keys()"
   ]
  },
  {
   "cell_type": "code",
   "execution_count": 15,
   "id": "d222311a",
   "metadata": {},
   "outputs": [
    {
     "name": "stdout",
     "output_type": "stream",
     "text": [
      "{'Jack': '123-456-8709', 'Cary': '888-873-9082', 'Kayla': '542-123-6523', 'Kevin': '456-380-9763', 'Tom': '458-985-2856'}\n"
     ]
    }
   ],
   "source": [
    "#1.10 Removing Duplicates from a Sequence while Maintaining Order\n",
    "\n",
    "def merge(phonebook_1, phonebook_2):\n",
    "    result = phonebook_1 | phonebook_2 #keys in dict are unique, there will be no duplicates\n",
    "    return result\n",
    "\n",
    "phonebook_3 = merge(phonebook_1, phonebook_2)\n",
    "print(phonebook_3)\n",
    "            \n"
   ]
  },
  {
   "cell_type": "code",
   "execution_count": 32,
   "id": "e3eb7d1f",
   "metadata": {},
   "outputs": [
    {
     "data": {
      "text/plain": [
       "['Jack', 'Cary', 'Tom', 'Kevin', 'Kayla']"
      ]
     },
     "execution_count": 32,
     "metadata": {},
     "output_type": "execute_result"
    }
   ],
   "source": [
    "user_list = ['Jack', 'Cary', 'Cary', 'Tom', 'Kevin', 'Jack', 'Kayla']\n",
    "\n",
    "def rm_duplicate(items):\n",
    "    seen = set()\n",
    "    for item in items:\n",
    "        if item not in seen:\n",
    "            yield item\n",
    "            seen.add(item)\n",
    "            \n",
    "list(rm_duplicate(user_list))"
   ]
  },
  {
   "cell_type": "code",
   "execution_count": 66,
   "id": "790f43f7",
   "metadata": {},
   "outputs": [
    {
     "data": {
      "text/plain": [
       "[{'Cary': 8, 'Kevin': 9}, {'Cary': 6, 'Kevin': 9}, {'Cary': 6, 'Kevin': 1}]"
      ]
     },
     "execution_count": 66,
     "metadata": {},
     "output_type": "execute_result"
    }
   ],
   "source": [
    "user_num = [\n",
    "    {'Cary':8, 'Kevin':9}, \n",
    "    {'Cary':8, 'Kevin':9}, \n",
    "    {'Cary':8, 'Kevin':9}, \n",
    "    {'Cary':6, 'Kevin':9}, \n",
    "    {'Cary':6, 'Kevin':1}\n",
    "]\n",
    "\n",
    "def rm_duplicate(items, key=None):\n",
    "    seen = set()\n",
    "    for item in items:\n",
    "        val = item if key is None else key(item)\n",
    "        if val not in seen:\n",
    "            yield item\n",
    "            seen.add(val)\n",
    "            \n",
    "list(rm_duplicate(user_num, key=lambda d: (d['Cary'], d['Kevin'])))"
   ]
  },
  {
   "cell_type": "code",
   "execution_count": 55,
   "id": "d75ba12e",
   "metadata": {},
   "outputs": [
    {
     "data": {
      "text/plain": [
       "['Beer']"
      ]
     },
     "execution_count": 55,
     "metadata": {},
     "output_type": "execute_result"
    }
   ],
   "source": [
    "#1.11 Naming a Slice\n",
    "\n",
    "menu_items = ['Pizza', 'Sushi', 'Beer', 'Salmon', 'Wings', 'Coffee']\n",
    "\n",
    "my_meal = slice(2,3) #item number(index) -> between items 2 and 3 will return first item\n",
    "menu_items[2:3]\n",
    "menu_items[my_meal]"
   ]
  },
  {
   "cell_type": "code",
   "execution_count": 49,
   "id": "c0363a20",
   "metadata": {},
   "outputs": [
    {
     "name": "stdout",
     "output_type": "stream",
     "text": [
      "['We', 'will', 'We', 'will', 'Rock', 'you']\n"
     ]
    }
   ],
   "source": [
    "#1.12 Determining the Most Frequently Occurring Items in a Sequence\n",
    "\n",
    "lyrics = \"We will We will Rock you\"\n",
    "\n",
    "words = lyrics.split()\n",
    "print(words)"
   ]
  },
  {
   "cell_type": "code",
   "execution_count": 50,
   "id": "79f10c85",
   "metadata": {},
   "outputs": [
    {
     "name": "stdout",
     "output_type": "stream",
     "text": [
      "[('We', 2), ('will', 2)]\n"
     ]
    }
   ],
   "source": [
    "from collections import Counter\n",
    "\n",
    "word_counts = Counter(words)\n",
    "top_two = word_counts.most_common(2)\n",
    "print(top_two)"
   ]
  },
  {
   "cell_type": "code",
   "execution_count": 51,
   "id": "10a55a78",
   "metadata": {},
   "outputs": [
    {
     "data": {
      "text/plain": [
       "1"
      ]
     },
     "execution_count": 51,
     "metadata": {},
     "output_type": "execute_result"
    }
   ],
   "source": [
    "word_counts['you']"
   ]
  },
  {
   "cell_type": "code",
   "execution_count": 2,
   "id": "054f7a61",
   "metadata": {},
   "outputs": [
    {
     "name": "stdout",
     "output_type": "stream",
     "text": [
      "[{'User': 'Cary', 'uid': '0004', 'pin': '0462'}, {'User': 'Jack', 'uid': '0001', 'pin': '1234'}, {'User': 'Kayla', 'uid': '0002', 'pin': '1275'}, {'User': 'Kevin', 'uid': '0003', 'pin': '8362'}]\n",
      "[{'User': 'Jack', 'uid': '0001', 'pin': '1234'}, {'User': 'Kayla', 'uid': '0002', 'pin': '1275'}, {'User': 'Kevin', 'uid': '0003', 'pin': '8362'}, {'User': 'Cary', 'uid': '0004', 'pin': '0462'}]\n"
     ]
    }
   ],
   "source": [
    "#1.13 Sorting a List of Dictionaries by a Common Key\n",
    "\n",
    "login_creds =[\n",
    "    {'User': 'Jack', 'uid': '0001', 'pin': '1234'},\n",
    "    {'User': 'Kayla', 'uid': '0002', 'pin': '1275'},\n",
    "    {'User': 'Kevin', 'uid': '0003', 'pin': '8362'},\n",
    "    {'User': 'Cary', 'uid': '0004', 'pin': '0462'}\n",
    "]\n",
    "\n",
    "from operator import itemgetter\n",
    "\n",
    "login_creds_by_User = sorted(login_creds, key=itemgetter('User')) #output will be in alphabetical order\n",
    "login_creds_by_uid = sorted(login_creds, key=itemgetter('uid')) #output will be ordered by num ascension\n",
    "\n",
    "print(login_creds_by_User)\n",
    "print(login_creds_by_uid)"
   ]
  },
  {
   "cell_type": "code",
   "execution_count": 4,
   "id": "4c86790c",
   "metadata": {},
   "outputs": [
    {
     "data": {
      "text/plain": [
       "[User(43), User(67), User(8), User(123)]"
      ]
     },
     "execution_count": 4,
     "metadata": {},
     "output_type": "execute_result"
    }
   ],
   "source": [
    "#1.14 Sorting Objects Without Native Comparison Support\n",
    "\n",
    "class User:\n",
    "    def __init__(self, user_id):\n",
    "        self.user_id = user_id\n",
    "        \n",
    "    def __repr__(self):\n",
    "        return 'User({})'.format(self.user_id)\n",
    "    \n",
    "team_1 = [\n",
    "    User(43),\n",
    "    User(67),\n",
    "    User(8),\n",
    "    User(123)\n",
    "]\n",
    "\n",
    "team_1"
   ]
  },
  {
   "cell_type": "code",
   "execution_count": 5,
   "id": "be9085d0",
   "metadata": {},
   "outputs": [
    {
     "data": {
      "text/plain": [
       "[User(8), User(43), User(67), User(123)]"
      ]
     },
     "execution_count": 5,
     "metadata": {},
     "output_type": "execute_result"
    }
   ],
   "source": [
    "sorted(team_1, key=lambda t: t.user_id) #sorted by asc num/value"
   ]
  },
  {
   "cell_type": "code",
   "execution_count": 6,
   "id": "4735a9c3",
   "metadata": {},
   "outputs": [
    {
     "data": {
      "text/plain": [
       "[User(8), User(43), User(67), User(123)]"
      ]
     },
     "execution_count": 6,
     "metadata": {},
     "output_type": "execute_result"
    }
   ],
   "source": [
    "from operator import attrgetter #alternative to using lambda\n",
    "\n",
    "sorted(team_1, key=attrgetter('user_id'))"
   ]
  },
  {
   "cell_type": "code",
   "execution_count": 9,
   "id": "7f23c1f6",
   "metadata": {},
   "outputs": [
    {
     "name": "stdout",
     "output_type": "stream",
     "text": [
      "1\n",
      " {'player': 'Jerry', 'team': '1'}\n",
      " {'player': 'Gary', 'team': '1'}\n",
      " {'player': 'Mason', 'team': '1'}\n",
      "2\n",
      " {'player': 'Chris', 'team': '2'}\n",
      " {'player': 'Drew', 'team': '2'}\n",
      "3\n",
      " {'player': 'Tom', 'team': '3'}\n",
      " {'player': 'Tyler', 'team': '3'}\n",
      " {'player': 'Mike', 'team': '3'}\n"
     ]
    }
   ],
   "source": [
    "#1.15 Grouping Records Together Based on a Field\n",
    "\n",
    "from operator import itemgetter\n",
    "from itertools import groupby\n",
    "\n",
    "participants = [\n",
    "    {'player':'Tom', 'team':'3'},\n",
    "    {'player':'Chris', 'team':'2'},\n",
    "    {'player':'Jerry', 'team':'1'},\n",
    "    {'player':'Tyler', 'team':'3'},\n",
    "    {'player':'Drew', 'team':'2'},\n",
    "    {'player':'Gary', 'team':'1'},\n",
    "    {'player':'Mike', 'team':'3'},\n",
    "    {'player':'Mason', 'team':'1'}\n",
    "]\n",
    "\n",
    "participants.sort(key=itemgetter('team')) #sort by desired field, this is a preliminary step, groupby() examines consecutive items\n",
    "\n",
    "for team, items in groupby(participants, key=itemgetter('team')): #iterate in groups\n",
    "    print(team)\n",
    "    for i in items:\n",
    "        print('', i)"
   ]
  },
  {
   "cell_type": "code",
   "execution_count": 10,
   "id": "34bb4739",
   "metadata": {},
   "outputs": [
    {
     "name": "stdout",
     "output_type": "stream",
     "text": [
      "[4, 8, -1, -10, -2, 0, -4, 3]\n"
     ]
    }
   ],
   "source": [
    "#1.16 Filtering Sequence Elements\n",
    "\n",
    "import random\n",
    "\n",
    "num_list = random.sample(range(-10,10), 8)\n",
    "print(num_list)\n"
   ]
  },
  {
   "cell_type": "code",
   "execution_count": 11,
   "id": "e8a57d90",
   "metadata": {},
   "outputs": [
    {
     "data": {
      "text/plain": [
       "[4, 8, 3]"
      ]
     },
     "execution_count": 11,
     "metadata": {},
     "output_type": "execute_result"
    }
   ],
   "source": [
    "[n for n in num_list if n > 0]"
   ]
  },
  {
   "cell_type": "code",
   "execution_count": 12,
   "id": "14859c13",
   "metadata": {},
   "outputs": [
    {
     "data": {
      "text/plain": [
       "[-1, -10, -2, -4]"
      ]
     },
     "execution_count": 12,
     "metadata": {},
     "output_type": "execute_result"
    }
   ],
   "source": [
    "[n for n in num_list if n < 0]"
   ]
  },
  {
   "cell_type": "code",
   "execution_count": 50,
   "id": "982ead26",
   "metadata": {},
   "outputs": [
    {
     "data": {
      "text/plain": [
       "[4, 8, 'null', 'null', 'null', 'null', 'null', 3]"
      ]
     },
     "execution_count": 50,
     "metadata": {},
     "output_type": "execute_result"
    }
   ],
   "source": [
    "clip_neg = [n if n > 0 else 'null' for n in num_list]\n",
    "clip_neg"
   ]
  },
  {
   "cell_type": "code",
   "execution_count": 22,
   "id": "882f6e5f",
   "metadata": {},
   "outputs": [
    {
     "name": "stdout",
     "output_type": "stream",
     "text": [
      "{'Josh Allen': 87.2, 'Jimmy G': 82.7}\n"
     ]
    }
   ],
   "source": [
    "#1.17 Extracting a Subset of a Dictionary\n",
    "\n",
    "qb_rating = {\n",
    "    'Derek Carr': 100.1,\n",
    "    'Josh Allen': 87.2,\n",
    "    'Tom Brady': 101.8,\n",
    "    'Aaron Rodgers': 99.9,\n",
    "    'Jimmy G': 82.7    \n",
    "}\n",
    "\n",
    "bad_qb = { key:value for key, value in qb_rating.items() if value < 99.9} #dict for qbs with rating less than 99.9\n",
    "print(bad_qb)"
   ]
  },
  {
   "cell_type": "code",
   "execution_count": 24,
   "id": "6d9f9d6b",
   "metadata": {},
   "outputs": [
    {
     "name": "stdout",
     "output_type": "stream",
     "text": [
      "{'Derek Carr': 100.1, 'Tom Brady': 101.8, 'Aaron Rodgers': 99.9}\n"
     ]
    }
   ],
   "source": [
    "qb_names ={\n",
    "    'Derek Carr',\n",
    "    'Tom Brady',\n",
    "    'Aaron Rodgers',\n",
    "    'Russell Wilson',\n",
    "    'Patrick Mahomes'\n",
    "}\n",
    "\n",
    "nfl_qb = {key:value for key, value in qb_rating.items() if key in qb_names} #dict for qb and their ratings (matched with another dict)\n",
    "print(nfl_qb)"
   ]
  },
  {
   "cell_type": "code",
   "execution_count": 25,
   "id": "e9eee6a4",
   "metadata": {},
   "outputs": [
    {
     "data": {
      "text/plain": [
       "'Joe'"
      ]
     },
     "execution_count": 25,
     "metadata": {},
     "output_type": "execute_result"
    }
   ],
   "source": [
    "#1.18 Mapping Names to Sequence Elements\n",
    "\n",
    "from collections import namedtuple\n",
    "\n",
    "Member = namedtuple('Member', ['name', 'id'])\n",
    "club_member = Member('Joe', '1000293')\n",
    "\n",
    "club_member.name"
   ]
  },
  {
   "cell_type": "code",
   "execution_count": 28,
   "id": "1a6d875b",
   "metadata": {},
   "outputs": [
    {
     "data": {
      "text/plain": [
       "'1000293'"
      ]
     },
     "execution_count": 28,
     "metadata": {},
     "output_type": "execute_result"
    }
   ],
   "source": [
    "club_member.id"
   ]
  },
  {
   "cell_type": "code",
   "execution_count": 38,
   "id": "d67f81a7",
   "metadata": {},
   "outputs": [
    {
     "name": "stdout",
     "output_type": "stream",
     "text": [
      "Yo that's python\n"
     ]
    }
   ],
   "source": [
    "#1.19 Transforming and Reducing Data at the Same Time\n",
    "\n",
    "import os\n",
    "\n",
    "files = os.listdir('./') #Current directory\n",
    "if any(name.endswith('.ipynb') for name in files):\n",
    "    print(\"Yo that's python\")\n",
    "else:\n",
    "    print(\"Nah, no python\")"
   ]
  },
  {
   "cell_type": "code",
   "execution_count": 40,
   "id": "5be7c86f",
   "metadata": {},
   "outputs": [
    {
     "name": "stdout",
     "output_type": "stream",
     "text": [
      "79\n"
     ]
    }
   ],
   "source": [
    "Eng_Team = [\n",
    "    {'player': 'Harry Kane', 'rating': '90'},\n",
    "    {'player': 'Harry Mcguire', 'rating': '81'},\n",
    "    {'player': 'Phil Foden', 'rating': '84'},\n",
    "    {'player': 'Jack Grealish', 'rating': '85'},\n",
    "    {'player': 'Eric Dier', 'rating': '79'}\n",
    "]\n",
    "\n",
    "min_rating = min(r['rating'] for r in Eng_Team) #lowest rating in Eng_Team\n",
    "print(min_rating)"
   ]
  },
  {
   "cell_type": "code",
   "execution_count": 43,
   "id": "020b5677",
   "metadata": {},
   "outputs": [],
   "source": [
    "#1.20 Combining Multiple Mappings into a Single Mapping\n",
    "\n",
    "USA_Team = [\n",
    "    {'player': 'Christian Pulisic', 'rating': '82'},\n",
    "    {'player': 'Gio Reyna', 'rating': '79'},\n",
    "    {'player': 'Weston Mckinnie', 'rating': '78'},\n",
    "    {'player': 'Sergino Dest', 'rating': '79'},\n",
    "    {'player': 'Tyler Adams', 'rating': '79'}\n",
    "]"
   ]
  },
  {
   "cell_type": "code",
   "execution_count": 49,
   "id": "20b33a2a",
   "metadata": {},
   "outputs": [
    {
     "ename": "TypeError",
     "evalue": "list indices must be integers or slices, not str",
     "output_type": "error",
     "traceback": [
      "\u001b[1;31m---------------------------------------------------------------------------\u001b[0m",
      "\u001b[1;31mTypeError\u001b[0m                                 Traceback (most recent call last)",
      "Input \u001b[1;32mIn [49]\u001b[0m, in \u001b[0;36m<cell line: 5>\u001b[1;34m()\u001b[0m\n\u001b[0;32m      1\u001b[0m \u001b[38;5;28;01mfrom\u001b[39;00m \u001b[38;5;21;01mcollections\u001b[39;00m \u001b[38;5;28;01mimport\u001b[39;00m ChainMap\n\u001b[0;32m      3\u001b[0m player_lookup \u001b[38;5;241m=\u001b[39m ChainMap(USA_Team,Eng_Team)\n\u001b[1;32m----> 5\u001b[0m \u001b[38;5;28mprint\u001b[39m(\u001b[43mplayer_lookup\u001b[49m\u001b[43m[\u001b[49m\u001b[38;5;124;43m'\u001b[39;49m\u001b[38;5;124;43mplayer\u001b[39;49m\u001b[38;5;124;43m'\u001b[39;49m\u001b[43m]\u001b[49m)\n",
      "File \u001b[1;32m~\\anaconda3\\lib\\collections\\__init__.py:938\u001b[0m, in \u001b[0;36mChainMap.__getitem__\u001b[1;34m(self, key)\u001b[0m\n\u001b[0;32m    936\u001b[0m \u001b[38;5;28;01mfor\u001b[39;00m mapping \u001b[38;5;129;01min\u001b[39;00m \u001b[38;5;28mself\u001b[39m\u001b[38;5;241m.\u001b[39mmaps:\n\u001b[0;32m    937\u001b[0m     \u001b[38;5;28;01mtry\u001b[39;00m:\n\u001b[1;32m--> 938\u001b[0m         \u001b[38;5;28;01mreturn\u001b[39;00m \u001b[43mmapping\u001b[49m\u001b[43m[\u001b[49m\u001b[43mkey\u001b[49m\u001b[43m]\u001b[49m             \u001b[38;5;66;03m# can't use 'key in mapping' with defaultdict\u001b[39;00m\n\u001b[0;32m    939\u001b[0m     \u001b[38;5;28;01mexcept\u001b[39;00m \u001b[38;5;167;01mKeyError\u001b[39;00m:\n\u001b[0;32m    940\u001b[0m         \u001b[38;5;28;01mpass\u001b[39;00m\n",
      "\u001b[1;31mTypeError\u001b[0m: list indices must be integers or slices, not str"
     ]
    }
   ],
   "source": [
    "from collections import ChainMap\n",
    "\n",
    "player_lookup = ChainMap(USA_Team,Eng_Team)\n",
    "\n",
    "print(player_lookup['player']) #All players on both teams"
   ]
  },
  {
   "cell_type": "code",
   "execution_count": 51,
   "id": "5ade729b",
   "metadata": {},
   "outputs": [
    {
     "name": "stdout",
     "output_type": "stream",
     "text": [
      "ChainMap([{'player': 'Christian Pulisic', 'rating': '82'}, {'player': 'Gio Reyna', 'rating': '79'}, {'player': 'Weston Mckinnie', 'rating': '78'}, {'player': 'Sergino Dest', 'rating': '79'}, {'player': 'Tyler Adams', 'rating': '79'}], [{'player': 'Harry Kane', 'rating': '90'}, {'player': 'Harry Mcguire', 'rating': '81'}, {'player': 'Phil Foden', 'rating': '84'}, {'player': 'Jack Grealish', 'rating': '85'}, {'player': 'Eric Dier', 'rating': '79'}])\n"
     ]
    }
   ],
   "source": [
    "print(player_lookup)"
   ]
  },
  {
   "cell_type": "code",
   "execution_count": 52,
   "id": "78fe897a",
   "metadata": {},
   "outputs": [
    {
     "data": {
      "text/plain": [
       "ItemsView(ChainMap([{'player': 'Christian Pulisic', 'rating': '82'}, {'player': 'Gio Reyna', 'rating': '79'}, {'player': 'Weston Mckinnie', 'rating': '78'}, {'player': 'Sergino Dest', 'rating': '79'}, {'player': 'Tyler Adams', 'rating': '79'}], [{'player': 'Harry Kane', 'rating': '90'}, {'player': 'Harry Mcguire', 'rating': '81'}, {'player': 'Phil Foden', 'rating': '84'}, {'player': 'Jack Grealish', 'rating': '85'}, {'player': 'Eric Dier', 'rating': '79'}]))"
      ]
     },
     "execution_count": 52,
     "metadata": {},
     "output_type": "execute_result"
    }
   ],
   "source": [
    "player_lookup.items()"
   ]
  },
  {
   "cell_type": "code",
   "execution_count": 53,
   "id": "b5183b61",
   "metadata": {},
   "outputs": [
    {
     "ename": "TypeError",
     "evalue": "unhashable type: 'dict'",
     "output_type": "error",
     "traceback": [
      "\u001b[1;31m---------------------------------------------------------------------------\u001b[0m",
      "\u001b[1;31mTypeError\u001b[0m                                 Traceback (most recent call last)",
      "Input \u001b[1;32mIn [53]\u001b[0m, in \u001b[0;36m<cell line: 1>\u001b[1;34m()\u001b[0m\n\u001b[1;32m----> 1\u001b[0m \u001b[38;5;28;43mlist\u001b[39;49m\u001b[43m(\u001b[49m\u001b[43mplayer_lookup\u001b[49m\u001b[43m)\u001b[49m\n",
      "File \u001b[1;32m~\\anaconda3\\lib\\collections\\__init__.py:952\u001b[0m, in \u001b[0;36mChainMap.__iter__\u001b[1;34m(self)\u001b[0m\n\u001b[0;32m    950\u001b[0m d \u001b[38;5;241m=\u001b[39m {}\n\u001b[0;32m    951\u001b[0m \u001b[38;5;28;01mfor\u001b[39;00m mapping \u001b[38;5;129;01min\u001b[39;00m \u001b[38;5;28mreversed\u001b[39m(\u001b[38;5;28mself\u001b[39m\u001b[38;5;241m.\u001b[39mmaps):\n\u001b[1;32m--> 952\u001b[0m     d\u001b[38;5;241m.\u001b[39mupdate(\u001b[38;5;28;43mdict\u001b[39;49m\u001b[38;5;241;43m.\u001b[39;49m\u001b[43mfromkeys\u001b[49m\u001b[43m(\u001b[49m\u001b[43mmapping\u001b[49m\u001b[43m)\u001b[49m)    \u001b[38;5;66;03m# reuses stored hash values if possible\u001b[39;00m\n\u001b[0;32m    953\u001b[0m \u001b[38;5;28;01mreturn\u001b[39;00m \u001b[38;5;28miter\u001b[39m(d)\n",
      "\u001b[1;31mTypeError\u001b[0m: unhashable type: 'dict'"
     ]
    }
   ],
   "source": [
    "list(player_lookup)"
   ]
  },
  {
   "cell_type": "code",
   "execution_count": null,
   "id": "e638c112",
   "metadata": {},
   "outputs": [],
   "source": []
  }
 ],
 "metadata": {
  "kernelspec": {
   "display_name": "Python 3 (ipykernel)",
   "language": "python",
   "name": "python3"
  },
  "language_info": {
   "codemirror_mode": {
    "name": "ipython",
    "version": 3
   },
   "file_extension": ".py",
   "mimetype": "text/x-python",
   "name": "python",
   "nbconvert_exporter": "python",
   "pygments_lexer": "ipython3",
   "version": "3.9.12"
  }
 },
 "nbformat": 4,
 "nbformat_minor": 5
}
