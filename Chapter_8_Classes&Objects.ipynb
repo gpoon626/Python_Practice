{
 "cells": [
  {
   "cell_type": "code",
   "execution_count": 2,
   "id": "24967011",
   "metadata": {},
   "outputs": [],
   "source": [
    "#8.1 Changing the String Representation of Instances\n",
    "\n",
    "class Pair:\n",
    "    def __init__(self, a, b):\n",
    "        self.a = a\n",
    "        self.b = b\n",
    "    def __repr__(self):\n",
    "        return 'Pair({0.a!r}, {0.b!r})'.format(self)\n",
    "    def __str__(self):\n",
    "        return '({0.a!s}, {0.b!s})'.format(self)"
   ]
  },
  {
   "cell_type": "code",
   "execution_count": 5,
   "id": "baa4d412",
   "metadata": {},
   "outputs": [
    {
     "data": {
      "text/plain": [
       "Pair(5, 6)"
      ]
     },
     "execution_count": 5,
     "metadata": {},
     "output_type": "execute_result"
    }
   ],
   "source": [
    "test1 = Pair(5, 6)\n",
    "test1"
   ]
  },
  {
   "cell_type": "code",
   "execution_count": 11,
   "id": "68f09ed9",
   "metadata": {},
   "outputs": [
    {
     "name": "stdout",
     "output_type": "stream",
     "text": [
      "(5, 6\n"
     ]
    }
   ],
   "source": [
    "print(test1)"
   ]
  },
  {
   "cell_type": "code",
   "execution_count": 8,
   "id": "a4d0d5fd",
   "metadata": {},
   "outputs": [
    {
     "name": "stdout",
     "output_type": "stream",
     "text": [
      "test1 is Pair(5, 6)\n"
     ]
    }
   ],
   "source": [
    "print('test1 is {0!r}'.format(test1))"
   ]
  },
  {
   "cell_type": "code",
   "execution_count": 12,
   "id": "6b0807c8",
   "metadata": {},
   "outputs": [
    {
     "name": "stdout",
     "output_type": "stream",
     "text": [
      "test1 is (5, 6\n"
     ]
    }
   ],
   "source": [
    "print('test1 is {0}'.format(test1))"
   ]
  },
  {
   "cell_type": "code",
   "execution_count": null,
   "id": "d2e8a057",
   "metadata": {},
   "outputs": [],
   "source": []
  },
  {
   "cell_type": "code",
   "execution_count": 25,
   "id": "addb3daa",
   "metadata": {},
   "outputs": [],
   "source": [
    "#8.2 Customing String Formatting\n",
    "\n",
    "_formats = {\n",
    "    'nmy': '{s.name}-{s.major}-{s.year}',\n",
    "    'ymn': '{s.year}/{s.major}/{s.name}'\n",
    "}\n",
    "\n",
    "class Student:\n",
    "    def __init__(self, name, major, year):\n",
    "        self.name = name\n",
    "        self.major = major\n",
    "        self.year = year\n",
    "        \n",
    "    def __format__(self, code):\n",
    "        if code == '': #setting default to name-major-year if format is not explicitly stated\n",
    "            code = 'nmy'\n",
    "        fmt = _formats[code]\n",
    "        return fmt.format(s=self)"
   ]
  },
  {
   "cell_type": "code",
   "execution_count": 26,
   "id": "6d9f3423",
   "metadata": {},
   "outputs": [
    {
     "data": {
      "text/plain": [
       "'Jason Kidd-Freshmen-Business'"
      ]
     },
     "execution_count": 26,
     "metadata": {},
     "output_type": "execute_result"
    }
   ],
   "source": [
    "student_a = Student('Jason Kidd', 'Freshmen', 'Business')\n",
    "format(student_a)"
   ]
  },
  {
   "cell_type": "code",
   "execution_count": 27,
   "id": "082b9c18",
   "metadata": {},
   "outputs": [
    {
     "data": {
      "text/plain": [
       "'Business/Freshmen/Jason Kidd'"
      ]
     },
     "execution_count": 27,
     "metadata": {},
     "output_type": "execute_result"
    }
   ],
   "source": [
    "format(student_a, 'ymn')"
   ]
  },
  {
   "cell_type": "code",
   "execution_count": 32,
   "id": "40147b66",
   "metadata": {},
   "outputs": [
    {
     "data": {
      "text/plain": [
       "'Student info: Business/Freshmen/Jason Kidd'"
      ]
     },
     "execution_count": 32,
     "metadata": {},
     "output_type": "execute_result"
    }
   ],
   "source": [
    "'Student info: {:ymn}'.format(student_a)"
   ]
  },
  {
   "cell_type": "code",
   "execution_count": null,
   "id": "eceb8269",
   "metadata": {},
   "outputs": [],
   "source": []
  },
  {
   "cell_type": "code",
   "execution_count": 37,
   "id": "f6eb581c",
   "metadata": {},
   "outputs": [],
   "source": [
    "#8.3 Making Objects Support the Context-Management Protocol\n",
    "\n",
    "from socket import socket, AF_INET, SOCK_STREAM\n",
    "\n",
    "class LazyConnection:\n",
    "    def __init__(self, address, family=AF_INET, type=SOCK_STREAM):\n",
    "        self.address = address\n",
    "        self.family = AF_INET\n",
    "        self.type = SOCK_STREAM\n",
    "        self.sock = None\n",
    "    \n",
    "    def __enter__(self):\n",
    "        if self.sock is not None:\n",
    "            raise RuntimeError('Connection already established')\n",
    "        self.sock = socket(self.family, self.type)\n",
    "        self.sock.connect(self.address)\n",
    "        return self.sock\n",
    "    \n",
    "    def __exit__(self, exc_ty, exc_val, tb):\n",
    "        self.sock.close()\n",
    "        self.sock = None"
   ]
  },
  {
   "cell_type": "code",
   "execution_count": 39,
   "id": "f31bcd22",
   "metadata": {},
   "outputs": [],
   "source": [
    "from functools import partial\n",
    "\n",
    "connection = LazyConnection(('www.wikipedia.org', 80))\n",
    "#Connection closed\n",
    "\n",
    "with connection as s: #conn.__enter__() executes: connection open\n",
    "    s.send(b'GET /index.html HTTP/1.0\\r\\n')\n",
    "    s.send(b'Host: www.wikipedia.org\\r\\n')\n",
    "    s.send(b'\\r\\n')\n",
    "    resp = b''.join(iter(partial(s.recv, 8192), b'')) #conn.__exit__() executes: connection closed"
   ]
  },
  {
   "cell_type": "code",
   "execution_count": null,
   "id": "639b3fc2",
   "metadata": {},
   "outputs": [],
   "source": []
  },
  {
   "cell_type": "code",
   "execution_count": 40,
   "id": "fb6d1824",
   "metadata": {},
   "outputs": [],
   "source": [
    "#8.4 Saving Memory When Creating a Large Number of Instances\n",
    "\n",
    "class Student:\n",
    "    __slots__=['name', 'major', 'year']\n",
    "    def __init__(self, name, major, year):\n",
    "        self.name = name\n",
    "        self.major = major\n",
    "        self.year = year"
   ]
  },
  {
   "cell_type": "code",
   "execution_count": null,
   "id": "5b88d251",
   "metadata": {},
   "outputs": [],
   "source": []
  },
  {
   "cell_type": "code",
   "execution_count": null,
   "id": "d9159376",
   "metadata": {},
   "outputs": [],
   "source": [
    "#8.5 Encapsulating Names in a Class\n",
    "\n",
    "class X:\n",
    "    def __init__(self):\n",
    "        self._internal = 0  # an internal attribute\n",
    "        self.public = 1     # A public attribute\n",
    "        \n",
    "    def public_method(self):\n",
    "        ```\n",
    "        A public method\n",
    "        ```\n",
    "\n",
    "    def _internal_method(self):\n",
    "        ```\n",
    "        An internal method\n",
    "        ```"
   ]
  },
  {
   "cell_type": "code",
   "execution_count": null,
   "id": "6ee79505",
   "metadata": {},
   "outputs": [],
   "source": [
    "class Y:\n",
    "    def __init__(self):\n",
    "        self.__private = 0\n",
    "    def __private_method(self):\n",
    "        ```\n",
    "        A private method\n",
    "        ```\n",
    "    def public_method(self):\n",
    "        ```\n",
    "        self.__private_method()\n",
    "        ```"
   ]
  },
  {
   "cell_type": "code",
   "execution_count": null,
   "id": "1852d292",
   "metadata": {},
   "outputs": [],
   "source": [
    "#private attributes in the preceding class cannot be overridden via inheritance\n",
    "\n",
    "class Z(X):\n",
    "    def __init__(self):\n",
    "        super().__init__()\n",
    "        self.__private = 1   #Does not override X.__private\n",
    "        \n",
    "    def __private_method(self):  #Does not override X.__private_method()\n",
    "        ```\n",
    "        ```"
   ]
  },
  {
   "cell_type": "code",
   "execution_count": null,
   "id": "efecde8a",
   "metadata": {},
   "outputs": [],
   "source": []
  },
  {
   "cell_type": "code",
   "execution_count": 54,
   "id": "cc48ae5b",
   "metadata": {},
   "outputs": [],
   "source": [
    "#8.6 Creating Managed Attributes\n",
    "\n",
    "class Team:\n",
    "    def __init__(self, team_name):\n",
    "        self.team_name = team_name\n",
    "    \n",
    "    #Getter function\n",
    "    @property\n",
    "    def team_name(self):\n",
    "        return self._team_name\n",
    "    \n",
    "    #Setter function\n",
    "    @team_name.setter\n",
    "    def team_name(self, value):\n",
    "        if not isinstance(value, str):\n",
    "            raise TypeError('Expected a string')\n",
    "        self._team_name = value\n",
    "        \n",
    "    #Deleter function (optional) \n",
    "    @team_name.deleter\n",
    "    def team_name(self):\n",
    "        raise AttributeError('Cannot delete attribute')"
   ]
  },
  {
   "cell_type": "code",
   "execution_count": 55,
   "id": "2a1e94fc",
   "metadata": {},
   "outputs": [
    {
     "data": {
      "text/plain": [
       "'Los Angles Angels'"
      ]
     },
     "execution_count": 55,
     "metadata": {},
     "output_type": "execute_result"
    }
   ],
   "source": [
    "team1 = Team('Los Angles Angels')\n",
    "team1.team_name"
   ]
  },
  {
   "cell_type": "code",
   "execution_count": 56,
   "id": "4ed84807",
   "metadata": {},
   "outputs": [
    {
     "data": {
      "text/plain": [
       "'Houston Astros'"
      ]
     },
     "execution_count": 56,
     "metadata": {},
     "output_type": "execute_result"
    }
   ],
   "source": [
    "team2 = Team('Houston Astros')\n",
    "team2.team_name"
   ]
  },
  {
   "cell_type": "code",
   "execution_count": 58,
   "id": "58e4789a",
   "metadata": {},
   "outputs": [
    {
     "ename": "AttributeError",
     "evalue": "Cannot delete attribute",
     "output_type": "error",
     "traceback": [
      "\u001b[1;31m---------------------------------------------------------------------------\u001b[0m",
      "\u001b[1;31mAttributeError\u001b[0m                            Traceback (most recent call last)",
      "Input \u001b[1;32mIn [58]\u001b[0m, in \u001b[0;36m<cell line: 1>\u001b[1;34m()\u001b[0m\n\u001b[1;32m----> 1\u001b[0m \u001b[38;5;28;01mdel\u001b[39;00m team2\u001b[38;5;241m.\u001b[39mteam_name\n",
      "Input \u001b[1;32mIn [54]\u001b[0m, in \u001b[0;36mTeam.team_name\u001b[1;34m(self)\u001b[0m\n\u001b[0;32m     20\u001b[0m \u001b[38;5;129m@team_name\u001b[39m\u001b[38;5;241m.\u001b[39mdeleter\n\u001b[0;32m     21\u001b[0m \u001b[38;5;28;01mdef\u001b[39;00m \u001b[38;5;21mteam_name\u001b[39m(\u001b[38;5;28mself\u001b[39m):\n\u001b[1;32m---> 22\u001b[0m     \u001b[38;5;28;01mraise\u001b[39;00m \u001b[38;5;167;01mAttributeError\u001b[39;00m(\u001b[38;5;124m'\u001b[39m\u001b[38;5;124mCannot delete attribute\u001b[39m\u001b[38;5;124m'\u001b[39m)\n",
      "\u001b[1;31mAttributeError\u001b[0m: Cannot delete attribute"
     ]
    }
   ],
   "source": [
    "del team2.team_name"
   ]
  },
  {
   "cell_type": "code",
   "execution_count": null,
   "id": "0dd2b71b",
   "metadata": {},
   "outputs": [],
   "source": []
  },
  {
   "cell_type": "code",
   "execution_count": 49,
   "id": "cb7ec8bb",
   "metadata": {},
   "outputs": [],
   "source": [
    "#8.7 Calling a Method on a Parent Class\n",
    "\n",
    "class A:\n",
    "    def spam(self):\n",
    "        print('A.spam')\n",
    "        \n",
    "class A(B):\n",
    "    def spam(self):\n",
    "        print('B.spam')\n",
    "        super().spam()   #call parent spam()"
   ]
  },
  {
   "cell_type": "code",
   "execution_count": 50,
   "id": "1034c49d",
   "metadata": {},
   "outputs": [],
   "source": [
    "class A:\n",
    "    def __init__(self):\n",
    "        self.x = 0\n",
    "        \n",
    "class B(A):\n",
    "    def __init__(self):\n",
    "        super().__init__() #making sure __init__() is properly initialized\n",
    "        self.y = 1"
   ]
  },
  {
   "cell_type": "code",
   "execution_count": 51,
   "id": "705d24a0",
   "metadata": {},
   "outputs": [],
   "source": [
    "class Proxy:\n",
    "    def __init__(self,obj):\n",
    "        self._obj = obj\n",
    "        \n",
    "    def __getattr__(self, name):\n",
    "        return getattr(self._obj, name) # Delegate attribute lookup to internal obj\n",
    "    \n",
    "    def __setattr__(self, name, value):\n",
    "        if name.startswith('_'):\n",
    "            super().__setattr__(name, value) #calling original __setattr__ to override special methods\n",
    "        else:\n",
    "            setattr(self._obj, name, value)"
   ]
  },
  {
   "cell_type": "code",
   "execution_count": null,
   "id": "119d34db",
   "metadata": {},
   "outputs": [],
   "source": []
  },
  {
   "cell_type": "code",
   "execution_count": null,
   "id": "227fb2a4",
   "metadata": {},
   "outputs": [],
   "source": [
    "#8.8 Extending a Property in a Subclass\n",
    "\n"
   ]
  }
 ],
 "metadata": {
  "kernelspec": {
   "display_name": "Python 3 (ipykernel)",
   "language": "python",
   "name": "python3"
  },
  "language_info": {
   "codemirror_mode": {
    "name": "ipython",
    "version": 3
   },
   "file_extension": ".py",
   "mimetype": "text/x-python",
   "name": "python",
   "nbconvert_exporter": "python",
   "pygments_lexer": "ipython3",
   "version": "3.9.12"
  }
 },
 "nbformat": 4,
 "nbformat_minor": 5
}
