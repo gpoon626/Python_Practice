{
 "cells": [
  {
   "cell_type": "code",
   "execution_count": 2,
   "id": "24967011",
   "metadata": {},
   "outputs": [],
   "source": [
    "#8.1 Changing the String Representation of Instances\n",
    "\n",
    "class Pair:\n",
    "    def __init__(self, a, b):\n",
    "        self.a = a\n",
    "        self.b = b\n",
    "    def __repr__(self):\n",
    "        return 'Pair({0.a!r}, {0.b!r})'.format(self)\n",
    "    def __str__(self):\n",
    "        return '({0.a!s}, {0.b!s})'.format(self)"
   ]
  },
  {
   "cell_type": "code",
   "execution_count": 5,
   "id": "baa4d412",
   "metadata": {},
   "outputs": [
    {
     "data": {
      "text/plain": [
       "Pair(5, 6)"
      ]
     },
     "execution_count": 5,
     "metadata": {},
     "output_type": "execute_result"
    }
   ],
   "source": [
    "test1 = Pair(5, 6)\n",
    "test1"
   ]
  },
  {
   "cell_type": "code",
   "execution_count": 11,
   "id": "68f09ed9",
   "metadata": {},
   "outputs": [
    {
     "name": "stdout",
     "output_type": "stream",
     "text": [
      "(5, 6\n"
     ]
    }
   ],
   "source": [
    "print(test1)"
   ]
  },
  {
   "cell_type": "code",
   "execution_count": 8,
   "id": "a4d0d5fd",
   "metadata": {},
   "outputs": [
    {
     "name": "stdout",
     "output_type": "stream",
     "text": [
      "test1 is Pair(5, 6)\n"
     ]
    }
   ],
   "source": [
    "print('test1 is {0!r}'.format(test1))"
   ]
  },
  {
   "cell_type": "code",
   "execution_count": 12,
   "id": "6b0807c8",
   "metadata": {},
   "outputs": [
    {
     "name": "stdout",
     "output_type": "stream",
     "text": [
      "test1 is (5, 6\n"
     ]
    }
   ],
   "source": [
    "print('test1 is {0}'.format(test1))"
   ]
  },
  {
   "cell_type": "code",
   "execution_count": null,
   "id": "d2e8a057",
   "metadata": {},
   "outputs": [],
   "source": []
  },
  {
   "cell_type": "code",
   "execution_count": 25,
   "id": "addb3daa",
   "metadata": {},
   "outputs": [],
   "source": [
    "#8.2 Customing String Formatting\n",
    "\n",
    "_formats = {\n",
    "    'nmy': '{s.name}-{s.major}-{s.year}',\n",
    "    'ymn': '{s.year}/{s.major}/{s.name}'\n",
    "}\n",
    "\n",
    "class Student:\n",
    "    def __init__(self, name, major, year):\n",
    "        self.name = name\n",
    "        self.major = major\n",
    "        self.year = year\n",
    "        \n",
    "    def __format__(self, code):\n",
    "        if code == '': #setting default to name-major-year if format is not explicitly stated\n",
    "            code = 'nmy'\n",
    "        fmt = _formats[code]\n",
    "        return fmt.format(s=self)"
   ]
  },
  {
   "cell_type": "code",
   "execution_count": 26,
   "id": "6d9f3423",
   "metadata": {},
   "outputs": [
    {
     "data": {
      "text/plain": [
       "'Jason Kidd-Freshmen-Business'"
      ]
     },
     "execution_count": 26,
     "metadata": {},
     "output_type": "execute_result"
    }
   ],
   "source": [
    "student_a = Student('Jason Kidd', 'Freshmen', 'Business')\n",
    "format(student_a)"
   ]
  },
  {
   "cell_type": "code",
   "execution_count": 27,
   "id": "082b9c18",
   "metadata": {},
   "outputs": [
    {
     "data": {
      "text/plain": [
       "'Business/Freshmen/Jason Kidd'"
      ]
     },
     "execution_count": 27,
     "metadata": {},
     "output_type": "execute_result"
    }
   ],
   "source": [
    "format(student_a, 'ymn')"
   ]
  },
  {
   "cell_type": "code",
   "execution_count": 32,
   "id": "40147b66",
   "metadata": {},
   "outputs": [
    {
     "data": {
      "text/plain": [
       "'Student info: Business/Freshmen/Jason Kidd'"
      ]
     },
     "execution_count": 32,
     "metadata": {},
     "output_type": "execute_result"
    }
   ],
   "source": [
    "'Student info: {:ymn}'.format(student_a)"
   ]
  },
  {
   "cell_type": "code",
   "execution_count": null,
   "id": "eceb8269",
   "metadata": {},
   "outputs": [],
   "source": []
  },
  {
   "cell_type": "code",
   "execution_count": 37,
   "id": "f6eb581c",
   "metadata": {},
   "outputs": [],
   "source": [
    "#8.3 Making Objects Support the Context-Management Protocol\n",
    "\n",
    "from socket import socket, AF_INET, SOCK_STREAM\n",
    "\n",
    "class LazyConnection:\n",
    "    def __init__(self, address, family=AF_INET, type=SOCK_STREAM):\n",
    "        self.address = address\n",
    "        self.family = AF_INET\n",
    "        self.type = SOCK_STREAM\n",
    "        self.sock = None\n",
    "    \n",
    "    def __enter__(self):\n",
    "        if self.sock is not None:\n",
    "            raise RuntimeError('Connection already established')\n",
    "        self.sock = socket(self.family, self.type)\n",
    "        self.sock.connect(self.address)\n",
    "        return self.sock\n",
    "    \n",
    "    def __exit__(self, exc_ty, exc_val, tb):\n",
    "        self.sock.close()\n",
    "        self.sock = None"
   ]
  },
  {
   "cell_type": "code",
   "execution_count": 39,
   "id": "f31bcd22",
   "metadata": {},
   "outputs": [],
   "source": [
    "from functools import partial\n",
    "\n",
    "connection = LazyConnection(('www.wikipedia.org', 80))\n",
    "#Connection closed\n",
    "\n",
    "with connection as s: #conn.__enter__() executes: connection open\n",
    "    s.send(b'GET /index.html HTTP/1.0\\r\\n')\n",
    "    s.send(b'Host: www.wikipedia.org\\r\\n')\n",
    "    s.send(b'\\r\\n')\n",
    "    resp = b''.join(iter(partial(s.recv, 8192), b'')) #conn.__exit__() executes: connection closed"
   ]
  },
  {
   "cell_type": "code",
   "execution_count": null,
   "id": "639b3fc2",
   "metadata": {},
   "outputs": [],
   "source": []
  },
  {
   "cell_type": "code",
   "execution_count": 40,
   "id": "fb6d1824",
   "metadata": {},
   "outputs": [],
   "source": [
    "#8.4 Saving Memory When Creating a Large Number of Instances\n",
    "\n",
    "class Student:\n",
    "    __slots__=['name', 'major', 'year']\n",
    "    def __init__(self, name, major, year):\n",
    "        self.name = name\n",
    "        self.major = major\n",
    "        self.year = year"
   ]
  },
  {
   "cell_type": "code",
   "execution_count": null,
   "id": "5b88d251",
   "metadata": {},
   "outputs": [],
   "source": []
  },
  {
   "cell_type": "code",
   "execution_count": null,
   "id": "d9159376",
   "metadata": {},
   "outputs": [],
   "source": [
    "#8.5 Encapsulating Names in a Class\n",
    "\n",
    "class X:\n",
    "    def __init__(self):\n",
    "        self._internal = 0  # an internal attribute\n",
    "        self.public = 1     # A public attribute\n",
    "        \n",
    "    def public_method(self):\n",
    "        ```\n",
    "        A public method\n",
    "        ```\n",
    "\n",
    "    def _internal_method(self):\n",
    "        ```\n",
    "        An internal method\n",
    "        ```"
   ]
  },
  {
   "cell_type": "code",
   "execution_count": null,
   "id": "6ee79505",
   "metadata": {},
   "outputs": [],
   "source": [
    "class Y:\n",
    "    def __init__(self):\n",
    "        self.__private = 0\n",
    "    def __private_method(self):\n",
    "        ```\n",
    "        A private method\n",
    "        ```\n",
    "    def public_method(self):\n",
    "        ```\n",
    "        self.__private_method()\n",
    "        ```"
   ]
  },
  {
   "cell_type": "code",
   "execution_count": null,
   "id": "1852d292",
   "metadata": {},
   "outputs": [],
   "source": [
    "#private attributes in the preceding class cannot be overridden via inheritance\n",
    "\n",
    "class Z(X):\n",
    "    def __init__(self):\n",
    "        super().__init__()\n",
    "        self.__private = 1   #Does not override X.__private\n",
    "        \n",
    "    def __private_method(self):  #Does not override X.__private_method()\n",
    "        ```\n",
    "        ```"
   ]
  },
  {
   "cell_type": "code",
   "execution_count": null,
   "id": "efecde8a",
   "metadata": {},
   "outputs": [],
   "source": []
  },
  {
   "cell_type": "code",
   "execution_count": 54,
   "id": "cc48ae5b",
   "metadata": {},
   "outputs": [],
   "source": [
    "#8.6 Creating Managed Attributes\n",
    "\n",
    "class Team:\n",
    "    def __init__(self, team_name):\n",
    "        self.team_name = team_name\n",
    "    \n",
    "    #Getter function\n",
    "    @property\n",
    "    def team_name(self):\n",
    "        return self._team_name\n",
    "    \n",
    "    #Setter function\n",
    "    @team_name.setter\n",
    "    def team_name(self, value):\n",
    "        if not isinstance(value, str):\n",
    "            raise TypeError('Expected a string')\n",
    "        self._team_name = value\n",
    "        \n",
    "    #Deleter function (optional) \n",
    "    @team_name.deleter\n",
    "    def team_name(self):\n",
    "        raise AttributeError('Cannot delete attribute')"
   ]
  },
  {
   "cell_type": "code",
   "execution_count": 55,
   "id": "2a1e94fc",
   "metadata": {},
   "outputs": [
    {
     "data": {
      "text/plain": [
       "'Los Angles Angels'"
      ]
     },
     "execution_count": 55,
     "metadata": {},
     "output_type": "execute_result"
    }
   ],
   "source": [
    "team1 = Team('Los Angles Angels')\n",
    "team1.team_name"
   ]
  },
  {
   "cell_type": "code",
   "execution_count": 56,
   "id": "4ed84807",
   "metadata": {},
   "outputs": [
    {
     "data": {
      "text/plain": [
       "'Houston Astros'"
      ]
     },
     "execution_count": 56,
     "metadata": {},
     "output_type": "execute_result"
    }
   ],
   "source": [
    "team2 = Team('Houston Astros')\n",
    "team2.team_name"
   ]
  },
  {
   "cell_type": "code",
   "execution_count": 58,
   "id": "58e4789a",
   "metadata": {},
   "outputs": [
    {
     "ename": "AttributeError",
     "evalue": "Cannot delete attribute",
     "output_type": "error",
     "traceback": [
      "\u001b[1;31m---------------------------------------------------------------------------\u001b[0m",
      "\u001b[1;31mAttributeError\u001b[0m                            Traceback (most recent call last)",
      "Input \u001b[1;32mIn [58]\u001b[0m, in \u001b[0;36m<cell line: 1>\u001b[1;34m()\u001b[0m\n\u001b[1;32m----> 1\u001b[0m \u001b[38;5;28;01mdel\u001b[39;00m team2\u001b[38;5;241m.\u001b[39mteam_name\n",
      "Input \u001b[1;32mIn [54]\u001b[0m, in \u001b[0;36mTeam.team_name\u001b[1;34m(self)\u001b[0m\n\u001b[0;32m     20\u001b[0m \u001b[38;5;129m@team_name\u001b[39m\u001b[38;5;241m.\u001b[39mdeleter\n\u001b[0;32m     21\u001b[0m \u001b[38;5;28;01mdef\u001b[39;00m \u001b[38;5;21mteam_name\u001b[39m(\u001b[38;5;28mself\u001b[39m):\n\u001b[1;32m---> 22\u001b[0m     \u001b[38;5;28;01mraise\u001b[39;00m \u001b[38;5;167;01mAttributeError\u001b[39;00m(\u001b[38;5;124m'\u001b[39m\u001b[38;5;124mCannot delete attribute\u001b[39m\u001b[38;5;124m'\u001b[39m)\n",
      "\u001b[1;31mAttributeError\u001b[0m: Cannot delete attribute"
     ]
    }
   ],
   "source": [
    "del team2.team_name"
   ]
  },
  {
   "cell_type": "code",
   "execution_count": null,
   "id": "0dd2b71b",
   "metadata": {},
   "outputs": [],
   "source": []
  },
  {
   "cell_type": "code",
   "execution_count": 49,
   "id": "cb7ec8bb",
   "metadata": {},
   "outputs": [],
   "source": [
    "#8.7 Calling a Method on a Parent Class\n",
    "\n",
    "class A:\n",
    "    def spam(self):\n",
    "        print('A.spam')\n",
    "        \n",
    "class A(B):\n",
    "    def spam(self):\n",
    "        print('B.spam')\n",
    "        super().spam()   #call parent spam()"
   ]
  },
  {
   "cell_type": "code",
   "execution_count": 50,
   "id": "1034c49d",
   "metadata": {},
   "outputs": [],
   "source": [
    "class A:\n",
    "    def __init__(self):\n",
    "        self.x = 0\n",
    "        \n",
    "class B(A):\n",
    "    def __init__(self):\n",
    "        super().__init__() #making sure __init__() is properly initialized\n",
    "        self.y = 1"
   ]
  },
  {
   "cell_type": "code",
   "execution_count": 51,
   "id": "705d24a0",
   "metadata": {},
   "outputs": [],
   "source": [
    "class Proxy:\n",
    "    def __init__(self,obj):\n",
    "        self._obj = obj\n",
    "        \n",
    "    def __getattr__(self, name):\n",
    "        return getattr(self._obj, name) # Delegate attribute lookup to internal obj\n",
    "    \n",
    "    def __setattr__(self, name, value):\n",
    "        if name.startswith('_'):\n",
    "            super().__setattr__(name, value) #calling original __setattr__ to override special methods\n",
    "        else:\n",
    "            setattr(self._obj, name, value)"
   ]
  },
  {
   "cell_type": "code",
   "execution_count": null,
   "id": "119d34db",
   "metadata": {},
   "outputs": [],
   "source": []
  },
  {
   "cell_type": "code",
   "execution_count": 1,
   "id": "227fb2a4",
   "metadata": {},
   "outputs": [],
   "source": [
    "#8.8 Extending a Property in a Subclass\n",
    "\n",
    "class Team:\n",
    "    def __init__(self, team_name):\n",
    "        self.team_name = team_name\n",
    "    \n",
    "    #Getter function\n",
    "    @property\n",
    "    def team_name(self):\n",
    "        return self._team_name\n",
    "    \n",
    "    #Setter function\n",
    "    @team_name.setter\n",
    "    def team_name(self, value):\n",
    "        if not isinstance(value, str):\n",
    "            raise TypeError('Expected a string')\n",
    "        self._team_name = value\n",
    "        \n",
    "    #Deleter function (optional) \n",
    "    @team_name.deleter\n",
    "    def team_name(self):\n",
    "        raise AttributeError('Cannot delete attribute')"
   ]
  },
  {
   "cell_type": "code",
   "execution_count": 5,
   "id": "3512e535",
   "metadata": {},
   "outputs": [],
   "source": [
    "class SubTeam(Team):\n",
    "    @property\n",
    "    def team_name(self):\n",
    "        print('Getting team name')\n",
    "        return super().team_name\n",
    "    \n",
    "    @team_name.setter\n",
    "    def team_name(self, value):\n",
    "        print('Setting team name to', value)\n",
    "        super(SubTeam, SubTeam).team_name.__set__(self, value)\n",
    "        \n",
    "    @team_name.deleter\n",
    "    def team_name(self):\n",
    "        print('Deleting team name')\n",
    "        super(SubTeam, SubTeam).team_name.__delete__(self)"
   ]
  },
  {
   "cell_type": "code",
   "execution_count": 6,
   "id": "a24b943f",
   "metadata": {},
   "outputs": [
    {
     "name": "stdout",
     "output_type": "stream",
     "text": [
      "Setting team name to San Jose Sharks\n"
     ]
    }
   ],
   "source": [
    "team5 = SubTeam('San Jose Sharks')"
   ]
  },
  {
   "cell_type": "code",
   "execution_count": 7,
   "id": "16ec08fb",
   "metadata": {},
   "outputs": [
    {
     "name": "stdout",
     "output_type": "stream",
     "text": [
      "Getting team name\n"
     ]
    },
    {
     "data": {
      "text/plain": [
       "'San Jose Sharks'"
      ]
     },
     "execution_count": 7,
     "metadata": {},
     "output_type": "execute_result"
    }
   ],
   "source": [
    "team5.team_name"
   ]
  },
  {
   "cell_type": "markdown",
   "id": "0a5d48f6",
   "metadata": {},
   "source": [
    "###8.9 Creating a New Kind of Class or Instance Attribute"
   ]
  },
  {
   "cell_type": "code",
   "execution_count": 8,
   "id": "8566f2d7",
   "metadata": {},
   "outputs": [],
   "source": [
    "#To create an entirely new kind of instance attribute, we have to define its functionality in the for of a descriptor class\n",
    "#Descriptor attribute for an integer type-checked attribute\n",
    "\n",
    "class Integer:\n",
    "    def __init__(self, name):\n",
    "        self.name = name\n",
    "        \n",
    "    def __get__(self, instance, cls):\n",
    "        if instance is None:\n",
    "            return self\n",
    "        else:\n",
    "            return instance.__dict__[self.name]\n",
    "        \n",
    "    def __set__(self, instance, value):\n",
    "        if not isinstance(value, int):\n",
    "            raise TypeError('Expected an int')\n",
    "        instance.__dict__[self.name] = value\n",
    "        \n",
    "    def __delete__(self, instance):\n",
    "        del instance.__dict__[self.name]"
   ]
  },
  {
   "cell_type": "markdown",
   "id": "f18173ed",
   "metadata": {},
   "source": [
    "```\n",
    "A descriptor is a class that implements the three core attribute access operations (get,\n",
    "set, and delete) in the form of __get__(), __set__(), and __delete__() special meth‐\n",
    "ods. These methods work by receiving an instance as input. The underlying dictionary\n",
    "of the instance is then manipulated as appropriate.\n",
    "```"
   ]
  },
  {
   "cell_type": "code",
   "execution_count": 9,
   "id": "40ee3008",
   "metadata": {},
   "outputs": [],
   "source": [
    "#To use a descriptor, instances of the descriptor are placed into a class definition as class variables\n",
    "\n",
    "class Point:\n",
    "    x = Integer('x')\n",
    "    y = Integer('y')\n",
    "    def __init__(self, x, y):\n",
    "        self.x = x\n",
    "        self.y = y"
   ]
  },
  {
   "cell_type": "code",
   "execution_count": 10,
   "id": "44325355",
   "metadata": {},
   "outputs": [],
   "source": [
    "p = Point(5, 6)"
   ]
  },
  {
   "cell_type": "code",
   "execution_count": 11,
   "id": "6868563d",
   "metadata": {},
   "outputs": [
    {
     "data": {
      "text/plain": [
       "5"
      ]
     },
     "execution_count": 11,
     "metadata": {},
     "output_type": "execute_result"
    }
   ],
   "source": [
    "p.x    #Calls Point.x.__get__(p,Point)"
   ]
  },
  {
   "cell_type": "code",
   "execution_count": 12,
   "id": "2f5a06ed",
   "metadata": {},
   "outputs": [
    {
     "data": {
      "text/plain": [
       "6"
      ]
     },
     "execution_count": 12,
     "metadata": {},
     "output_type": "execute_result"
    }
   ],
   "source": [
    "p.y    #Calls Point.y.__get__(p,Point)"
   ]
  },
  {
   "cell_type": "code",
   "execution_count": 13,
   "id": "ddad0387",
   "metadata": {},
   "outputs": [
    {
     "data": {
      "text/plain": [
       "17"
      ]
     },
     "execution_count": 13,
     "metadata": {},
     "output_type": "execute_result"
    }
   ],
   "source": [
    "p.x = 17 #Calls Point.x.__set__(p, 17)\n",
    "p.x"
   ]
  },
  {
   "cell_type": "markdown",
   "id": "3b428bcc",
   "metadata": {},
   "source": [
    "###8.10 Using Lazily Computed Properties"
   ]
  },
  {
   "cell_type": "code",
   "execution_count": 14,
   "id": "7fd8d0f6",
   "metadata": {},
   "outputs": [],
   "source": [
    "class lazyproperty:\n",
    "    def __init__(self, func):\n",
    "        self.func = func\n",
    "    \n",
    "    def __get__(self, instance, cls):\n",
    "        if instance is None:\n",
    "            return self\n",
    "        else:\n",
    "            value = self.func(instance)\n",
    "            setattr(instance, self.func.__name__,value)\n",
    "            return value"
   ]
  },
  {
   "cell_type": "code",
   "execution_count": 15,
   "id": "a9e0355a",
   "metadata": {},
   "outputs": [],
   "source": [
    "#to use the above code, we use it in a class\n",
    "\n",
    "import math\n",
    "\n",
    "class Circle:\n",
    "    def __init__(self, radius):\n",
    "        self.radius = radius\n",
    "    \n",
    "    @lazyproperty\n",
    "    def area(self):\n",
    "        print('Computing area')\n",
    "        return math.pi * self.radius **2\n",
    "    \n",
    "    @lazyproperty\n",
    "    def perimeter(self):\n",
    "        print('Computing area')\n",
    "        return 2 * math.pi * self.radius"
   ]
  },
  {
   "cell_type": "code",
   "execution_count": 16,
   "id": "1a234179",
   "metadata": {},
   "outputs": [
    {
     "data": {
      "text/plain": [
       "6.0"
      ]
     },
     "execution_count": 16,
     "metadata": {},
     "output_type": "execute_result"
    }
   ],
   "source": [
    "c = Circle(6.0)\n",
    "c.radius"
   ]
  },
  {
   "cell_type": "code",
   "execution_count": 17,
   "id": "ee3b2ecb",
   "metadata": {},
   "outputs": [
    {
     "name": "stdout",
     "output_type": "stream",
     "text": [
      "Computing area\n"
     ]
    },
    {
     "data": {
      "text/plain": [
       "113.09733552923255"
      ]
     },
     "execution_count": 17,
     "metadata": {},
     "output_type": "execute_result"
    }
   ],
   "source": [
    "c.area"
   ]
  },
  {
   "cell_type": "code",
   "execution_count": 18,
   "id": "226a1b60",
   "metadata": {},
   "outputs": [
    {
     "name": "stdout",
     "output_type": "stream",
     "text": [
      "Computing area\n"
     ]
    },
    {
     "data": {
      "text/plain": [
       "37.69911184307752"
      ]
     },
     "execution_count": 18,
     "metadata": {},
     "output_type": "execute_result"
    }
   ],
   "source": [
    "c.perimeter"
   ]
  },
  {
   "cell_type": "code",
   "execution_count": null,
   "id": "fd0e028f",
   "metadata": {},
   "outputs": [],
   "source": []
  }
 ],
 "metadata": {
  "kernelspec": {
   "display_name": "Python 3 (ipykernel)",
   "language": "python",
   "name": "python3"
  },
  "language_info": {
   "codemirror_mode": {
    "name": "ipython",
    "version": 3
   },
   "file_extension": ".py",
   "mimetype": "text/x-python",
   "name": "python",
   "nbconvert_exporter": "python",
   "pygments_lexer": "ipython3",
   "version": "3.9.12"
  }
 },
 "nbformat": 4,
 "nbformat_minor": 5
}
