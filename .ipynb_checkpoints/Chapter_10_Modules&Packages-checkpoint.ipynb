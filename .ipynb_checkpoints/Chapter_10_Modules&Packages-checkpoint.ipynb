{
 "cells": [
  {
   "cell_type": "markdown",
   "id": "1a81fea4",
   "metadata": {},
   "source": [
    "### 10.1 Making a Hierarchical Package of Modules"
   ]
  },
  {
   "cell_type": "code",
   "execution_count": null,
   "id": "5f019864",
   "metadata": {},
   "outputs": [],
   "source": [
    "graphics/\n",
    "    __init__.py\n",
    "    primitive/\n",
    "         __init__.py\n",
    "         line.py\n",
    "         fill.py\n",
    "         text.py\n",
    "    formats/\n",
    "         __init__.py\n",
    "         png.py\n",
    "         jpg.py"
   ]
  },
  {
   "cell_type": "code",
   "execution_count": null,
   "id": "5ea8d706",
   "metadata": {},
   "outputs": [],
   "source": [
    "import graphics.primitive.line\n",
    "from graphics.primitive import line\n",
    "import graphics.formats.jpg as jpg"
   ]
  },
  {
   "cell_type": "markdown",
   "id": "eafecf57",
   "metadata": {},
   "source": [
    "### 10.2 Controlling the Import of Everything"
   ]
  },
  {
   "cell_type": "code",
   "execution_count": 2,
   "id": "0ec10c5d",
   "metadata": {},
   "outputs": [],
   "source": [
    "#somemodule.py\n",
    "\n",
    "def spam():\n",
    "    pass\n",
    "\n",
    "def grok():\n",
    "    pass\n",
    "\n",
    "blah = 42\n",
    "\n",
    "__all__ = ['spam', 'grok']"
   ]
  },
  {
   "cell_type": "markdown",
   "id": "d00ba3fe",
   "metadata": {},
   "source": [
    "### 10.3 Importing Package Submodules Using Relative names"
   ]
  },
  {
   "cell_type": "code",
   "execution_count": null,
   "id": "c02da5bd",
   "metadata": {},
   "outputs": [],
   "source": [
    "mypackage/\n",
    "    __init__.py\n",
    "    A/\n",
    "        __init__.py\n",
    "        spam.py\n",
    "        grok.py\n",
    "    B/\n",
    "        __init__.py\n",
    "        bar.py\n",
    "        \n",
    "#mypackage/A/spam.py\n",
    "\n",
    "from . import grok\n",
    "from ..B import bar"
   ]
  },
  {
   "cell_type": "markdown",
   "id": "edb75494",
   "metadata": {},
   "source": [
    "### 10.4 Splitting a Module into Multiple Files"
   ]
  },
  {
   "cell_type": "code",
   "execution_count": null,
   "id": "eab1876d",
   "metadata": {},
   "outputs": [],
   "source": [
    "#my module.py\n",
    "\n",
    "class A:\n",
    "    def spam(self):\n",
    "        print('A.spam')\n",
    "        \n",
    "class B(A):\n",
    "    def bar(self):\n",
    "        print('B.bar')\n",
    "        \n",
    "# __init__.py\n",
    "from .a import A\n",
    "from .b import B"
   ]
  },
  {
   "cell_type": "markdown",
   "id": "f3a37b19",
   "metadata": {},
   "source": [
    "### 10.5 Making Separate Directories of Code Import Under a Common Namespace"
   ]
  },
  {
   "cell_type": "code",
   "execution_count": null,
   "id": "24c2a824",
   "metadata": {},
   "outputs": [],
   "source": [
    "foo-package/\n",
    "    spam/\n",
    "        blah.py\n",
    "        \n",
    "bar-package/\n",
    "    spam/\n",
    "        grok.py        "
   ]
  },
  {
   "cell_type": "code",
   "execution_count": null,
   "id": "f9b6734a",
   "metadata": {},
   "outputs": [],
   "source": [
    "import sys\n",
    "sys.path.extend(['foo-package', 'bar-package'])\n",
    "\n",
    "import spam.blah\n",
    "import spam.grok"
   ]
  },
  {
   "cell_type": "markdown",
   "id": "2b25a4ca",
   "metadata": {},
   "source": [
    "### 10.6 Reloading Modules"
   ]
  },
  {
   "cell_type": "code",
   "execution_count": null,
   "id": "d93fd8be",
   "metadata": {},
   "outputs": [],
   "source": [
    "import spam\n",
    "import imp\n",
    "\n",
    "imp.reload(spam)"
   ]
  },
  {
   "cell_type": "markdown",
   "id": "d022d50a",
   "metadata": {},
   "source": [
    "### 10.7. Making a Directory or Zip File Runnable As a Main Script"
   ]
  },
  {
   "cell_type": "code",
   "execution_count": null,
   "id": "6d76fd56",
   "metadata": {},
   "outputs": [],
   "source": [
    "myapplication/\n",
    "    spam.py\n",
    "    bar.py\n",
    "    grok.py\n",
    "    __main__.py"
   ]
  },
  {
   "cell_type": "markdown",
   "id": "b902603e",
   "metadata": {},
   "source": [
    "### 10.8. Reading Datafiles Within a Package"
   ]
  },
  {
   "cell_type": "code",
   "execution_count": null,
   "id": "1b75141f",
   "metadata": {},
   "outputs": [],
   "source": [
    "mypackage/\n",
    "    __init__.py\n",
    "    somedata.dat\n",
    "    spam.py\n",
    "    \n",
    "#spam.py\n",
    "\n",
    "import pkgutil\n",
    "data = pkgutil.gey_data(__package__, 'somedata.dat')"
   ]
  },
  {
   "cell_type": "markdown",
   "id": "8a9520c1",
   "metadata": {},
   "source": [
    "### 10.9 Adding Directories to sys.path"
   ]
  },
  {
   "cell_type": "markdown",
   "id": "837a60e9",
   "metadata": {},
   "source": [
    "### 10.10 Importing Modules Using a Name Given in a String"
   ]
  },
  {
   "cell_type": "code",
   "execution_count": 5,
   "id": "b7fe8365",
   "metadata": {},
   "outputs": [
    {
     "data": {
      "text/plain": [
       "0.9092974268256817"
      ]
     },
     "execution_count": 5,
     "metadata": {},
     "output_type": "execute_result"
    }
   ],
   "source": [
    "import importlib\n",
    "\n",
    "math = importlib.import_module('math')\n",
    "\n",
    "math.sin(2)"
   ]
  },
  {
   "cell_type": "code",
   "execution_count": null,
   "id": "da3325e9",
   "metadata": {},
   "outputs": [],
   "source": [
    "mod = importlib.import_module('urllib.request')\n",
    "\n",
    "u = mod.urlopen('http://www.python.org')"
   ]
  },
  {
   "cell_type": "code",
   "execution_count": null,
   "id": "731ad91d",
   "metadata": {},
   "outputs": [],
   "source": [
    "import importlib\n",
    "\n",
    "b = importlib.import_module('.b', __package__)"
   ]
  },
  {
   "cell_type": "markdown",
   "id": "e492a0ce",
   "metadata": {},
   "source": [
    "### 10.11. Loading Modules from a Remote Machine Using Import Hooks"
   ]
  },
  {
   "cell_type": "code",
   "execution_count": null,
   "id": "1b3b018c",
   "metadata": {},
   "outputs": [],
   "source": []
  },
  {
   "cell_type": "markdown",
   "id": "d7568a68",
   "metadata": {},
   "source": [
    "### 10.12 Patching Modules on Import"
   ]
  },
  {
   "cell_type": "code",
   "execution_count": 9,
   "id": "81e5ccfa",
   "metadata": {},
   "outputs": [],
   "source": [
    "import importlib\n",
    "import sys\n",
    "from collections import defaultdict\n",
    "\n",
    "__post_import_hooks = defaultdict(list)\n",
    "\n",
    "class PostImportFinder:\n",
    "    def __init__(self):\n",
    "        self._skip = set()\n",
    "\n",
    "    def find_module(self, fullname, path=None):\n",
    "        if fullname in self._skip:\n",
    "            return None\n",
    "        self._skip.add(fullname)\n",
    "        return PostImportLoader(self)\n",
    "        \n",
    "class PostImportLoader:\n",
    "    def __init__(self, finder):\n",
    "        self._finder = finder\n",
    "        \n",
    "    def load_module(self, fullname):\n",
    "        importlib.import_module(fullname)\n",
    "        module = sys.modules[fullname]\n",
    "        for func in _post_import_hooks[fullname]:\n",
    "            func(module)\n",
    "        self._finder._skip.remove(fullname)\n",
    "        return module\n",
    "\n",
    "def when_imported(fullname):\n",
    "    def decorate(func):\n",
    "        if fullname in sys.modules:\n",
    "            func(sys.modules[fullname])\n",
    "        else:\n",
    "            _post_import_hooks[fullname].append(func)\n",
    "        return func\n",
    "    return decorate"
   ]
  },
  {
   "cell_type": "code",
   "execution_count": 10,
   "id": "6ea44fc3",
   "metadata": {},
   "outputs": [],
   "source": [
    "sys.meta_path.insert(0, PostImportFinder())"
   ]
  },
  {
   "cell_type": "code",
   "execution_count": null,
   "id": "3107f65c",
   "metadata": {},
   "outputs": [],
   "source": [
    "from postimport import when_imported\n",
    "@when_imported('threading')\n",
    "\n",
    "def warn_threads(mod):\n",
    "    print('Threads? Are you crazy?')"
   ]
  },
  {
   "cell_type": "code",
   "execution_count": null,
   "id": "50982750",
   "metadata": {},
   "outputs": [],
   "source": [
    "import threading"
   ]
  },
  {
   "cell_type": "code",
   "execution_count": null,
   "id": "34d279a8",
   "metadata": {},
   "outputs": [],
   "source": [
    "from functools import wraps\n",
    "from postimport import when_imported"
   ]
  },
  {
   "cell_type": "code",
   "execution_count": null,
   "id": "6c2d94b0",
   "metadata": {},
   "outputs": [],
   "source": [
    "def logged(func):\n",
    "    @wraps(func)\n",
    "    def wrapper(*args, **kwargs):\n",
    "        print('Calling', func.__name__, args, kwargs)\n",
    "        return func(*args, **kwargs)\n",
    "    return wrapper\n",
    "\n",
    "# Example\n",
    "@when_imported('math')\n",
    "def add_logging(mod):\n",
    "    mod.cos = logged(mod.cos)\n",
    "    mod.sin = logged(mod.sin)"
   ]
  },
  {
   "cell_type": "code",
   "execution_count": null,
   "id": "fd6f54cb",
   "metadata": {},
   "outputs": [],
   "source": []
  }
 ],
 "metadata": {
  "kernelspec": {
   "display_name": "Python 3 (ipykernel)",
   "language": "python",
   "name": "python3"
  },
  "language_info": {
   "codemirror_mode": {
    "name": "ipython",
    "version": 3
   },
   "file_extension": ".py",
   "mimetype": "text/x-python",
   "name": "python",
   "nbconvert_exporter": "python",
   "pygments_lexer": "ipython3",
   "version": "3.9.12"
  }
 },
 "nbformat": 4,
 "nbformat_minor": 5
}
