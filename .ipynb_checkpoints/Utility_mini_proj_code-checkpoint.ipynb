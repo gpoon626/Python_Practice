{
 "cells": [
  {
   "cell_type": "code",
   "execution_count": null,
   "id": "a403bac0",
   "metadata": {},
   "outputs": [],
   "source": [
    "#!/usr/bin/python \n",
    "import argparse\n",
    "import requests\n",
    "import json\n",
    "from time import gmtime, strftime\n",
    "parser = argparse.ArgumentParser(description='Search some files')\n",
    " \n",
    "parser.add_argument('-f', dest='file', action='store_true',help='verbose mode')\n",
    "parser.add_argument('-u', dest='url', action='store')\n",
    " \n",
    "args = parser.parse_args()\n",
    " \n",
    "class get_url:\n",
    "    def __init__(self,url) -> None:\n",
    "        self.url = url\n",
    "    def validate_url(self):\n",
    "        if self.url[0:4] == \"http\":\n",
    "            print(\"URL is valid\")\n",
    "            return True\n",
    "        else:\n",
    "            print(\"URL is NOT valid\")\n",
    "            return False\n",
    "    def write(self):\n",
    "        if self.validate_url() is True:\n",
    "            r = requests.get(self.url)\n",
    "            filename = \"myfile-{}\".format(strftime(\"%Y-%m-%d\", gmtime()))\n",
    "            with open(filename,\"w\") as f:\n",
    "                f.write(r.text)\n",
    "    def validate_format(self):\n",
    "        if self.validate_url() is True:\n",
    " \n",
    "            if self.url.find('json') > 0:\n",
    "                print(\"Found JSON\")\n",
    "            elif self.url.find('csv') > 0:\n",
    "                print(\"Found csv\")\n",
    "            # r = requests.get(self.url)\n",
    "            # filename = \"myfile-{}\".format(strftime(\"%Y-%m-%d\", gmtime()))\n",
    "            # try:\n",
    "            #     json.loads(r.text)\n",
    "            # except:\n",
    "            #     print(\"It is not JSON\")\n",
    " \n",
    " \n",
    " \n",
    "def call_url(url):\n",
    "    r = requests.get(url)\n",
    "    print(r.text)\n",
    " \n",
    "if args.url is not None:\n",
    "    gu = get_url(args.url)\n",
    "    gu.validate_format()\n",
    "    gu.write()"
   ]
  }
 ],
 "metadata": {
  "kernelspec": {
   "display_name": "Python 3 (ipykernel)",
   "language": "python",
   "name": "python3"
  },
  "language_info": {
   "codemirror_mode": {
    "name": "ipython",
    "version": 3
   },
   "file_extension": ".py",
   "mimetype": "text/x-python",
   "name": "python",
   "nbconvert_exporter": "python",
   "pygments_lexer": "ipython3",
   "version": "3.9.12"
  }
 },
 "nbformat": 4,
 "nbformat_minor": 5
}
