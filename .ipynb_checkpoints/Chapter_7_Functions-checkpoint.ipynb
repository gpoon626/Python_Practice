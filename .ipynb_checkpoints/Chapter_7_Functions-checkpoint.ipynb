{
 "cells": [
  {
   "cell_type": "code",
   "execution_count": 1,
   "id": "1704dc9a",
   "metadata": {},
   "outputs": [
    {
     "data": {
      "text/plain": [
       "45.0"
      ]
     },
     "execution_count": 1,
     "metadata": {},
     "output_type": "execute_result"
    }
   ],
   "source": [
    "#7.1 Writing Functions That Accept Any Number of Arguments\n",
    "\n",
    "def avg(first, *rest):\n",
    "    return (first + sum(rest)) / (1 + len(rest))\n",
    "\n",
    "avg(12, 34, 56, 78)"
   ]
  },
  {
   "cell_type": "code",
   "execution_count": 3,
   "id": "64e281c2",
   "metadata": {},
   "outputs": [
    {
     "data": {
      "text/plain": [
       "'<playerage=\"33\"rating=\"93\">Robert Lewandowski</player>'"
      ]
     },
     "execution_count": 3,
     "metadata": {},
     "output_type": "execute_result"
    }
   ],
   "source": [
    "import html\n",
    "\n",
    "def make_element(name, value, **attrs):\n",
    "    keyvals = ['%s=\"%s\"' % item for item in attrs.items()]\n",
    "    attr_str = ''.join(keyvals)\n",
    "    element = '<{name}{attrs}>{value}</{name}>'.format(\n",
    "                  name=name,\n",
    "                  attrs=attr_str,\n",
    "                  value=html.escape(value)\n",
    "    )\n",
    "    return element\n",
    "\n",
    "make_element('player', 'Robert Lewandowski', age='33', rating='93' )"
   ]
  },
  {
   "cell_type": "code",
   "execution_count": 4,
   "id": "926a9379",
   "metadata": {},
   "outputs": [
    {
     "data": {
      "text/plain": [
       "199"
      ]
     },
     "execution_count": 4,
     "metadata": {},
     "output_type": "execute_result"
    }
   ],
   "source": [
    "#7.2 Writing Functions That Only Accept Keyword Arguments\n",
    "\n",
    "def maximum(*values, clip=None):\n",
    "    m = max(values)\n",
    "    if clip is not None:\n",
    "        m= clip if clip < m else m\n",
    "    return m\n",
    "\n",
    "maximum(65, 199, 45, 98, 17)"
   ]
  },
  {
   "cell_type": "code",
   "execution_count": 11,
   "id": "d32b0f7d",
   "metadata": {},
   "outputs": [
    {
     "name": "stdout",
     "output_type": "stream",
     "text": [
      "Help on function avg in module __main__:\n",
      "\n",
      "avg(first: int, *rest: int) -> int\n",
      "\n"
     ]
    }
   ],
   "source": [
    "#7.3 Attaching Informational Metadata to Function Arguments\n",
    "\n",
    "def avg(first:int, *rest:int) -> int:\n",
    "    return (first + sum(rest)) / (1 + len(rest))\n",
    "\n",
    "help(avg)"
   ]
  },
  {
   "cell_type": "code",
   "execution_count": 10,
   "id": "5bd984b0",
   "metadata": {},
   "outputs": [
    {
     "data": {
      "text/plain": [
       "{}"
      ]
     },
     "execution_count": 10,
     "metadata": {},
     "output_type": "execute_result"
    }
   ],
   "source": [
    "avg.__annotations__"
   ]
  },
  {
   "cell_type": "code",
   "execution_count": 16,
   "id": "9ae406f1",
   "metadata": {},
   "outputs": [],
   "source": [
    "#7.4 Returning Multiple Values from a Function\n",
    "\n",
    "def myplayers():\n",
    "    return 'Derek Carr', 'Hunter Renfrow', 'Darren Waller', 'Davante Adams'"
   ]
  },
  {
   "cell_type": "code",
   "execution_count": 19,
   "id": "8322413f",
   "metadata": {},
   "outputs": [
    {
     "name": "stdout",
     "output_type": "stream",
     "text": [
      "Derek Carr\n"
     ]
    }
   ],
   "source": [
    "a, b, c, d = myplayers()\n",
    "print(a)"
   ]
  },
  {
   "cell_type": "code",
   "execution_count": 21,
   "id": "b2b585a2",
   "metadata": {},
   "outputs": [],
   "source": [
    "#7.5 Defining Functions with Default Arguments\n",
    "\n",
    "no_value = object()\n",
    "\n",
    "def add(a, b=no_value):\n",
    "    if b is no_value:\n",
    "        return a\n",
    "    else:\n",
    "        return(a + b)"
   ]
  },
  {
   "cell_type": "code",
   "execution_count": 22,
   "id": "ec0fb39a",
   "metadata": {},
   "outputs": [
    {
     "data": {
      "text/plain": [
       "5"
      ]
     },
     "execution_count": 22,
     "metadata": {},
     "output_type": "execute_result"
    }
   ],
   "source": [
    "add(5)"
   ]
  },
  {
   "cell_type": "code",
   "execution_count": 23,
   "id": "d7ff2191",
   "metadata": {},
   "outputs": [
    {
     "data": {
      "text/plain": [
       "12"
      ]
     },
     "execution_count": 23,
     "metadata": {},
     "output_type": "execute_result"
    }
   ],
   "source": [
    "add(5,7)"
   ]
  },
  {
   "cell_type": "code",
   "execution_count": 7,
   "id": "e1150c63",
   "metadata": {},
   "outputs": [
    {
     "data": {
      "text/plain": [
       "30"
      ]
     },
     "execution_count": 7,
     "metadata": {},
     "output_type": "execute_result"
    }
   ],
   "source": [
    "def multiply(a, b=None):\n",
    "    if b is None:\n",
    "        return a\n",
    "    else:\n",
    "        return(a * b)\n",
    "\n",
    "multiply(5,6)"
   ]
  },
  {
   "cell_type": "code",
   "execution_count": 8,
   "id": "2f43d4c1",
   "metadata": {},
   "outputs": [
    {
     "data": {
      "text/plain": [
       "5"
      ]
     },
     "execution_count": 8,
     "metadata": {},
     "output_type": "execute_result"
    }
   ],
   "source": [
    "multiply(5)"
   ]
  },
  {
   "cell_type": "code",
   "execution_count": 10,
   "id": "1a580c28",
   "metadata": {},
   "outputs": [
    {
     "data": {
      "text/plain": [
       "56"
      ]
     },
     "execution_count": 10,
     "metadata": {},
     "output_type": "execute_result"
    }
   ],
   "source": [
    "#7.6 Defining Anonymous or Inline Functions\n",
    "\n",
    "add = lambda a, b: a + b\n",
    "add(11,45)"
   ]
  },
  {
   "cell_type": "code",
   "execution_count": 15,
   "id": "7d2a5a71",
   "metadata": {},
   "outputs": [
    {
     "data": {
      "text/plain": [
       "['Apple', 'Lettuce', 'Tomatos', 'Turkey']"
      ]
     },
     "execution_count": 15,
     "metadata": {},
     "output_type": "execute_result"
    }
   ],
   "source": [
    "grocery_list = [\n",
    "    'Apple',\n",
    "    'Turkey',\n",
    "    'Lettuce',\n",
    "    'Tomatos'\n",
    "]\n",
    "\n",
    "sorted(grocery_list, key=lambda list: list.split()[0].upper())"
   ]
  },
  {
   "cell_type": "code",
   "execution_count": 17,
   "id": "b8523160",
   "metadata": {},
   "outputs": [
    {
     "data": {
      "text/plain": [
       "30"
      ]
     },
     "execution_count": 17,
     "metadata": {},
     "output_type": "execute_result"
    }
   ],
   "source": [
    "#7.7 Capturing Variable in Anonymous Functions\n",
    "\n",
    "x = 20\n",
    "a = lambda y, x=x: x+y\n",
    "a(10)"
   ]
  },
  {
   "cell_type": "code",
   "execution_count": 20,
   "id": "171887cd",
   "metadata": {},
   "outputs": [
    {
     "data": {
      "text/plain": [
       "55"
      ]
     },
     "execution_count": 20,
     "metadata": {},
     "output_type": "execute_result"
    }
   ],
   "source": [
    "x=25\n",
    "b = lambda y, x=x: x+y\n",
    "b(30)"
   ]
  },
  {
   "cell_type": "code",
   "execution_count": 21,
   "id": "586ae5a6",
   "metadata": {},
   "outputs": [
    {
     "name": "stdout",
     "output_type": "stream",
     "text": [
      "1\n",
      "2\n",
      "3\n",
      "4\n",
      "5\n",
      "6\n",
      "7\n",
      "8\n",
      "9\n",
      "10\n"
     ]
    }
   ],
   "source": [
    "funcs = [lambda x, n=n: x+n for n in range(10)]\n",
    "for f in funcs:\n",
    "    print(f(1)) #start from 1\n"
   ]
  },
  {
   "cell_type": "code",
   "execution_count": 22,
   "id": "4566e7fc",
   "metadata": {},
   "outputs": [
    {
     "name": "stdout",
     "output_type": "stream",
     "text": [
      "1 2 3 4\n"
     ]
    }
   ],
   "source": [
    "#7.8 Making an N-Argument Callable Work As a Callable with Fewer Arguments\n",
    "\n",
    "from functools import partial\n",
    "\n",
    "def bar(w, x, y, z):\n",
    "    print(w, x, y, z)\n",
    "    \n",
    "s1 = partial(bar, 1) #fix argument value w=1\n",
    "s1(2, 3, 4)"
   ]
  },
  {
   "cell_type": "code",
   "execution_count": null,
   "id": "6fc8ec9c",
   "metadata": {},
   "outputs": [],
   "source": []
  }
 ],
 "metadata": {
  "kernelspec": {
   "display_name": "Python 3 (ipykernel)",
   "language": "python",
   "name": "python3"
  },
  "language_info": {
   "codemirror_mode": {
    "name": "ipython",
    "version": 3
   },
   "file_extension": ".py",
   "mimetype": "text/x-python",
   "name": "python",
   "nbconvert_exporter": "python",
   "pygments_lexer": "ipython3",
   "version": "3.9.12"
  }
 },
 "nbformat": 4,
 "nbformat_minor": 5
}
