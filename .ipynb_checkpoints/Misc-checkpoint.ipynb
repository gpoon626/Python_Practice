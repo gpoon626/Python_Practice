{
 "cells": [
  {
   "cell_type": "code",
   "execution_count": 1,
   "id": "feab7974",
   "metadata": {},
   "outputs": [],
   "source": [
    "Eng_Team = [\n",
    "    {'player': 'Harry Kane', 'rating': '90'},\n",
    "    {'player': 'Harry Mcguire', 'rating': '81'},\n",
    "    {'player': 'Phil Foden', 'rating': '84'},\n",
    "    {'player': 'Jack Grealish', 'rating': '85'},\n",
    "    {'player': 'Eric Dier', 'rating': '79'}\n",
    "]\n",
    "\n",
    "USA_Team = [\n",
    "    {'player': 'Christian Pulisic', 'rating': '82'},\n",
    "    {'player': 'Gio Reyna', 'rating': '79'},\n",
    "    {'player': 'Weston Mckinnie', 'rating': '78'},\n",
    "    {'player': 'Sergino Dest', 'rating': '79'},\n",
    "    {'player': 'Tyler Adams', 'rating': '79'}\n",
    "]"
   ]
  },
  {
   "cell_type": "code",
   "execution_count": 2,
   "id": "003861f5",
   "metadata": {},
   "outputs": [
    {
     "ename": "TypeError",
     "evalue": "unsupported operand type(s) for |: 'list' and 'list'",
     "output_type": "error",
     "traceback": [
      "\u001b[1;31m---------------------------------------------------------------------------\u001b[0m",
      "\u001b[1;31mTypeError\u001b[0m                                 Traceback (most recent call last)",
      "Input \u001b[1;32mIn [2]\u001b[0m, in \u001b[0;36m<cell line: 5>\u001b[1;34m()\u001b[0m\n\u001b[0;32m      2\u001b[0m     result \u001b[38;5;241m=\u001b[39m USA_Team \u001b[38;5;241m|\u001b[39m Eng_Team\n\u001b[0;32m      3\u001b[0m     \u001b[38;5;28;01mreturn\u001b[39;00m result\n\u001b[1;32m----> 5\u001b[0m player_list \u001b[38;5;241m=\u001b[39m \u001b[43mmerge\u001b[49m\u001b[43m(\u001b[49m\u001b[43mUSA_Team\u001b[49m\u001b[43m,\u001b[49m\u001b[43m \u001b[49m\u001b[43mEng_Team\u001b[49m\u001b[43m)\u001b[49m\n\u001b[0;32m      6\u001b[0m \u001b[38;5;28mprint\u001b[39m(player_list)\n",
      "Input \u001b[1;32mIn [2]\u001b[0m, in \u001b[0;36mmerge\u001b[1;34m(USA_Team, Eng_Team)\u001b[0m\n\u001b[0;32m      1\u001b[0m \u001b[38;5;28;01mdef\u001b[39;00m \u001b[38;5;21mmerge\u001b[39m(USA_Team, Eng_Team):\n\u001b[1;32m----> 2\u001b[0m     result \u001b[38;5;241m=\u001b[39m \u001b[43mUSA_Team\u001b[49m\u001b[43m \u001b[49m\u001b[38;5;241;43m|\u001b[39;49m\u001b[43m \u001b[49m\u001b[43mEng_Team\u001b[49m\n\u001b[0;32m      3\u001b[0m     \u001b[38;5;28;01mreturn\u001b[39;00m result\n",
      "\u001b[1;31mTypeError\u001b[0m: unsupported operand type(s) for |: 'list' and 'list'"
     ]
    }
   ],
   "source": [
    "def merge(USA_Team, Eng_Team):\n",
    "    result = USA_Team | Eng_Team\n",
    "    return result\n",
    "\n",
    "player_list = merge(USA_Team, Eng_Team)\n",
    "print(player_list)"
   ]
  },
  {
   "cell_type": "code",
   "execution_count": 3,
   "id": "a1e84feb",
   "metadata": {},
   "outputs": [
    {
     "name": "stdout",
     "output_type": "stream",
     "text": [
      "[{'player': 'Christian Pulisic', 'rating': '82'}, {'player': 'Gio Reyna', 'rating': '79'}, {'player': 'Weston Mckinnie', 'rating': '78'}, {'player': 'Sergino Dest', 'rating': '79'}, {'player': 'Tyler Adams', 'rating': '79'}, {'player': 'Harry Kane', 'rating': '90'}, {'player': 'Harry Mcguire', 'rating': '81'}, {'player': 'Phil Foden', 'rating': '84'}, {'player': 'Jack Grealish', 'rating': '85'}, {'player': 'Eric Dier', 'rating': '79'}]\n"
     ]
    }
   ],
   "source": [
    "player_list = USA_Team + Eng_Team\n",
    "print(player_list)"
   ]
  },
  {
   "cell_type": "code",
   "execution_count": 10,
   "id": "02638b7e",
   "metadata": {
    "scrolled": true
   },
   "outputs": [
    {
     "ename": "AttributeError",
     "evalue": "'list' object has no attribute 'value'",
     "output_type": "error",
     "traceback": [
      "\u001b[1;31m---------------------------------------------------------------------------\u001b[0m",
      "\u001b[1;31mAttributeError\u001b[0m                            Traceback (most recent call last)",
      "Input \u001b[1;32mIn [10]\u001b[0m, in \u001b[0;36m<cell line: 2>\u001b[1;34m()\u001b[0m\n\u001b[0;32m      1\u001b[0m all_players \u001b[38;5;241m=\u001b[39m [{}]\n\u001b[1;32m----> 2\u001b[0m \u001b[38;5;28;01mfor\u001b[39;00m name \u001b[38;5;129;01min\u001b[39;00m \u001b[43mplayer_list\u001b[49m\u001b[38;5;241;43m.\u001b[39;49m\u001b[43mvalue\u001b[49m():\n\u001b[0;32m      3\u001b[0m     value \u001b[38;5;241m=\u001b[39m key\u001b[38;5;241m.\u001b[39mvalue\n\u001b[0;32m      4\u001b[0m     all_players\u001b[38;5;241m.\u001b[39mappend(value)\n",
      "\u001b[1;31mAttributeError\u001b[0m: 'list' object has no attribute 'value'"
     ]
    }
   ],
   "source": [
    "class player_list:\n",
    "    def __init__(self, player, rating):\n",
    "        self.player = player\n",
    "        self.rating = rating"
   ]
  },
  {
   "cell_type": "code",
   "execution_count": null,
   "id": "2c95424d",
   "metadata": {},
   "outputs": [],
   "source": []
  },
  {
   "cell_type": "code",
   "execution_count": 24,
   "id": "0181ba12",
   "metadata": {},
   "outputs": [
    {
     "data": {
      "text/plain": [
       "['Christian Pulisic',\n",
       " 'Gio Reyna',\n",
       " 'Weston Mckinnie',\n",
       " 'Sergino Dest',\n",
       " 'Tyler Adams',\n",
       " 'Harry Kane',\n",
       " 'Harry Mcguire',\n",
       " 'Phil Foden',\n",
       " 'Jack Grealish',\n",
       " 'Eric Dier']"
      ]
     },
     "execution_count": 24,
     "metadata": {},
     "output_type": "execute_result"
    }
   ],
   "source": [
    "#Calling key value by variable\n",
    "\n",
    "all_players = [name['player'] for name in player_list ]\n",
    "list(all_players)"
   ]
  },
  {
   "cell_type": "code",
   "execution_count": 23,
   "id": "9a37d6a1",
   "metadata": {},
   "outputs": [
    {
     "data": {
      "text/plain": [
       "['Christian Pulisic',\n",
       " 'Gio Reyna',\n",
       " 'Weston Mckinnie',\n",
       " 'Sergino Dest',\n",
       " 'Tyler Adams',\n",
       " 'Harry Kane',\n",
       " 'Harry Mcguire',\n",
       " 'Phil Foden',\n",
       " 'Jack Grealish',\n",
       " 'Eric Dier']"
      ]
     },
     "execution_count": 23,
     "metadata": {},
     "output_type": "execute_result"
    }
   ],
   "source": [
    "#mapping and using lambda\n",
    "\n",
    "all_players = map(lambda name: name['player'], player_list)\n",
    "list(all_players)"
   ]
  },
  {
   "cell_type": "code",
   "execution_count": 26,
   "id": "70bc1388",
   "metadata": {},
   "outputs": [
    {
     "data": {
      "text/plain": [
       "['Christian Pulisic',\n",
       " 'Gio Reyna',\n",
       " 'Weston Mckinnie',\n",
       " 'Sergino Dest',\n",
       " 'Tyler Adams',\n",
       " 'Harry Kane',\n",
       " 'Harry Mcguire',\n",
       " 'Phil Foden',\n",
       " 'Jack Grealish',\n",
       " 'Eric Dier']"
      ]
     },
     "execution_count": 26,
     "metadata": {},
     "output_type": "execute_result"
    }
   ],
   "source": [
    "#Not a fan of lambdas\n",
    "\n",
    "import operator\n",
    "\n",
    "get_value = operator.itemgetter('player')\n",
    "all_players = map(get_value, player_list) \n",
    "list(all_players)"
   ]
  },
  {
   "cell_type": "code",
   "execution_count": 32,
   "id": "b93001b7",
   "metadata": {},
   "outputs": [
    {
     "data": {
      "text/plain": [
       "['Christian Pulisic',\n",
       " 'Gio Reyna',\n",
       " 'Weston Mckinnie',\n",
       " 'Sergino Dest',\n",
       " 'Tyler Adams',\n",
       " 'Harry Kane',\n",
       " 'Harry Mcguire',\n",
       " 'Phil Foden',\n",
       " 'Jack Grealish',\n",
       " 'Eric Dier']"
      ]
     },
     "execution_count": 32,
     "metadata": {},
     "output_type": "execute_result"
    }
   ],
   "source": [
    "#Creating a function that explicitly says what I need\n",
    "\n",
    "import operator, functools\n",
    "\n",
    "get_name = operator.itemgetter('player')\n",
    "get_names = functools.partial(map, get_name)\n",
    "all_players = get_names(player_list)\n",
    "list(all_players)"
   ]
  },
  {
   "cell_type": "code",
   "execution_count": 34,
   "id": "d90805fa",
   "metadata": {},
   "outputs": [
    {
     "ename": "SyntaxError",
     "evalue": "invalid syntax (1057549670.py, line 3)",
     "output_type": "error",
     "traceback": [
      "\u001b[1;36m  Input \u001b[1;32mIn [34]\u001b[1;36m\u001b[0m\n\u001b[1;33m    get_name = operator.itemgetter('player' if 'rating' > 80)\u001b[0m\n\u001b[1;37m                                                            ^\u001b[0m\n\u001b[1;31mSyntaxError\u001b[0m\u001b[1;31m:\u001b[0m invalid syntax\n"
     ]
    }
   ],
   "source": [
    "import operator, functools\n",
    "\n",
    "get_name = operator.itemgetter('player' if 'rating' > 80)\n",
    "get_names = functools.partial(map, get_name)\n",
    "all_players = get_names(player_list)\n",
    "list(all_players)"
   ]
  },
  {
   "cell_type": "code",
   "execution_count": 50,
   "id": "e2fe7ad8",
   "metadata": {},
   "outputs": [],
   "source": [
    "world_class = 80\n",
    "\n",
    "def good_players(rating, player_list):\n",
    "    good_player_list = []\n",
    "    for rating in world_class:\n",
    "        for val in player_list.items():\n",
    "            if val['rating'] > world_class:\n",
    "                good_player_list.append(rating)\n",
    "    return good_player_list"
   ]
  },
  {
   "cell_type": "code",
   "execution_count": null,
   "id": "70c366ec",
   "metadata": {},
   "outputs": [],
   "source": []
  },
  {
   "cell_type": "code",
   "execution_count": null,
   "id": "91ff7081",
   "metadata": {},
   "outputs": [],
   "source": []
  },
  {
   "cell_type": "code",
   "execution_count": 47,
   "id": "bddbae23",
   "metadata": {},
   "outputs": [
    {
     "ename": "SyntaxError",
     "evalue": "invalid syntax (3900174837.py, line 1)",
     "output_type": "error",
     "traceback": [
      "\u001b[1;36m  Input \u001b[1;32mIn [47]\u001b[1;36m\u001b[0m\n\u001b[1;33m    good_player_list = list(filter(lambda player_list:'player_list['rating'] >= 80', player_list))\u001b[0m\n\u001b[1;37m                                                                    ^\u001b[0m\n\u001b[1;31mSyntaxError\u001b[0m\u001b[1;31m:\u001b[0m invalid syntax\n"
     ]
    }
   ],
   "source": [
    "good_player_list = list(filter(lambda player_list:player_list['rating'] >= 80, player_list))\n",
    "print(good_player_list)"
   ]
  },
  {
   "cell_type": "code",
   "execution_count": null,
   "id": "aeecbed0",
   "metadata": {},
   "outputs": [],
   "source": []
  },
  {
   "cell_type": "code",
   "execution_count": null,
   "id": "430982d5",
   "metadata": {},
   "outputs": [],
   "source": []
  },
  {
   "cell_type": "code",
   "execution_count": null,
   "id": "e3e2e88a",
   "metadata": {},
   "outputs": [],
   "source": []
  }
 ],
 "metadata": {
  "kernelspec": {
   "display_name": "Python 3 (ipykernel)",
   "language": "python",
   "name": "python3"
  },
  "language_info": {
   "codemirror_mode": {
    "name": "ipython",
    "version": 3
   },
   "file_extension": ".py",
   "mimetype": "text/x-python",
   "name": "python",
   "nbconvert_exporter": "python",
   "pygments_lexer": "ipython3",
   "version": "3.9.12"
  }
 },
 "nbformat": 4,
 "nbformat_minor": 5
}
