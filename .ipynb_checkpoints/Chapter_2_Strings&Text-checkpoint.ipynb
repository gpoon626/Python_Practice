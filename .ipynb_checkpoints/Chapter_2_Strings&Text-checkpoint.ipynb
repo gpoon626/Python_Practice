{
 "cells": [
  {
   "cell_type": "code",
   "execution_count": 31,
   "id": "993cffe0",
   "metadata": {},
   "outputs": [
    {
     "data": {
      "text/plain": [
       "['Jason', 'Kevin', 'Terry', 'Jen']"
      ]
     },
     "execution_count": 31,
     "metadata": {},
     "output_type": "execute_result"
    }
   ],
   "source": [
    "#2.1 Splitting Strings on Any Multiple Delimiters\n",
    "\n",
    "import re\n",
    "\n",
    "line = 'Jason! Kevin,   Terry# Jen'\n",
    "re.split(r'[#,!\\s]\\s*', line)"
   ]
  },
  {
   "cell_type": "code",
   "execution_count": 32,
   "id": "4efc8b3c",
   "metadata": {},
   "outputs": [
    {
     "data": {
      "text/plain": [
       "True"
      ]
     },
     "execution_count": 32,
     "metadata": {},
     "output_type": "execute_result"
    }
   ],
   "source": [
    "#2.2 Matching Text at the Start or End of a String\n",
    "\n",
    "filename = 'passwd_list.txt'\n",
    "filename.startswith('passw')"
   ]
  },
  {
   "cell_type": "code",
   "execution_count": 33,
   "id": "f1ced2ba",
   "metadata": {},
   "outputs": [
    {
     "data": {
      "text/plain": [
       "['.ipynb_checkpoints', 'Chapter_2_Strings&Text.ipynb']"
      ]
     },
     "execution_count": 33,
     "metadata": {},
     "output_type": "execute_result"
    }
   ],
   "source": [
    "import os\n",
    "\n",
    "folder1 = os.listdir('.')\n",
    "folder1"
   ]
  },
  {
   "cell_type": "code",
   "execution_count": 38,
   "id": "9baa1782",
   "metadata": {},
   "outputs": [
    {
     "data": {
      "text/plain": [
       "['Chapter_2_Strings&Text.ipynb']"
      ]
     },
     "execution_count": 38,
     "metadata": {},
     "output_type": "execute_result"
    }
   ],
   "source": [
    "[name for name in folder1 if name.endswith(('.ipynb'))]"
   ]
  },
  {
   "cell_type": "code",
   "execution_count": 47,
   "id": "e9ea0277",
   "metadata": {},
   "outputs": [
    {
     "data": {
      "text/plain": [
       "['passwd.txt', 'passwd_list.txt']"
      ]
     },
     "execution_count": 47,
     "metadata": {},
     "output_type": "execute_result"
    }
   ],
   "source": [
    "#2.3 Matching Strings Using Shell Wildcard Patterns\n",
    "\n",
    "from fnmatch import fnmatch, fnmatchcase\n",
    "\n",
    "etc_files = ['passwd.txt', 'passwd_list.txt', 'shadow.txt', 'shadow1.txt']\n",
    "[name for name in etc_files if fnmatch(name, 'passwd*.txt')]"
   ]
  },
  {
   "cell_type": "code",
   "execution_count": 50,
   "id": "63dc27a4",
   "metadata": {},
   "outputs": [
    {
     "data": {
      "text/plain": [
       "['shadow1.txt']"
      ]
     },
     "execution_count": 50,
     "metadata": {},
     "output_type": "execute_result"
    }
   ],
   "source": [
    "[name for name in etc_files if fnmatch(name,'shadow*[0-9].txt')]"
   ]
  },
  {
   "cell_type": "code",
   "execution_count": 56,
   "id": "1964a24b",
   "metadata": {},
   "outputs": [
    {
     "name": "stdout",
     "output_type": "stream",
     "text": [
      "yes\n"
     ]
    }
   ],
   "source": [
    "#2.4 Matching and Searching for Text Patterns\n",
    "\n",
    "message = 'this is a private pin mumber, 123456, do not disclose confidential information'\n",
    "\n",
    "if re.search(r'\\d', message):\n",
    "    print('yes')\n",
    "else:\n",
    "    print('no')"
   ]
  },
  {
   "cell_type": "code",
   "execution_count": 57,
   "id": "8a010b04",
   "metadata": {},
   "outputs": [
    {
     "data": {
      "text/plain": [
       "['1', '2', '3', '4', '5', '6']"
      ]
     },
     "execution_count": 57,
     "metadata": {},
     "output_type": "execute_result"
    }
   ],
   "source": [
    "pin = re.findall(r'\\d', message)\n",
    "pin"
   ]
  },
  {
   "cell_type": "code",
   "execution_count": 112,
   "id": "b1fba463",
   "metadata": {
    "scrolled": true
   },
   "outputs": [
    {
     "name": "stdout",
     "output_type": "stream",
     "text": [
      "this is a private pin mumber, 654321, do not disclose confidential information\n"
     ]
    }
   ],
   "source": [
    "#2.5 Searching and Replacing Text\n",
    "\n",
    "new_message = message.replace('123456', '654321')\n",
    "print(new_message)"
   ]
  },
  {
   "cell_type": "code",
   "execution_count": 113,
   "id": "e5917e07",
   "metadata": {},
   "outputs": [
    {
     "data": {
      "text/plain": [
       "['CAPS', 'caps', 'Caps']"
      ]
     },
     "execution_count": 113,
     "metadata": {},
     "output_type": "execute_result"
    }
   ],
   "source": [
    "#2.6 Searching and Replacing Case-Insenstitive Text\n",
    "text_1 = 'ALL CAPS, no caps, Some Caps'\n",
    "re.findall('caps', text_1, flags=re.IGNORECASE)"
   ]
  },
  {
   "cell_type": "code",
   "execution_count": 114,
   "id": "791aff82",
   "metadata": {},
   "outputs": [
    {
     "data": {
      "text/plain": [
       "'ALL null, no null, Some null'"
      ]
     },
     "execution_count": 114,
     "metadata": {},
     "output_type": "execute_result"
    }
   ],
   "source": [
    "text_2 = re.sub('caps', 'null', text_1, flags=re.IGNORECASE)\n",
    "text_2"
   ]
  },
  {
   "cell_type": "code",
   "execution_count": 121,
   "id": "456e42a7",
   "metadata": {},
   "outputs": [
    {
     "data": {
      "text/plain": [
       "'ALL Upper case, no Upper case, Some Upper case'"
      ]
     },
     "execution_count": 121,
     "metadata": {},
     "output_type": "execute_result"
    }
   ],
   "source": [
    "def matchcase(word):\n",
    "                     def replace(m):\n",
    "                         text_1 = m.group()\n",
    "                     if text_1.isupper():\n",
    "                         return word.upper()\n",
    "                     elif text_1.islower():\n",
    "                         return word.lower()\n",
    "                     elif text_1[0].isupper():\n",
    "                         return word.capitalize()\n",
    "                     else:\n",
    "                         return word\n",
    "                         return replace\n",
    "\n",
    "new_text_1 = re.sub('caps', matchcase('upper case'), text_1, flags=re.IGNORECASE)\n",
    "new_text_1"
   ]
  },
  {
   "cell_type": "code",
   "execution_count": 133,
   "id": "e495688c",
   "metadata": {},
   "outputs": [
    {
     "data": {
      "text/plain": [
       "['GDawg', '8008135']"
      ]
     },
     "execution_count": 133,
     "metadata": {},
     "output_type": "execute_result"
    }
   ],
   "source": [
    "#2.7 Specifying a Regular Expression for the Shortest Match\n",
    "\n",
    "credentials = 'your username is \"GDawg\" and PIN is \"8008135\"'\n",
    "str_pattern = re.compile(r'\\\"(.*?)\\\"')\n",
    "str_pattern.findall(credentials)"
   ]
  },
  {
   "cell_type": "code",
   "execution_count": 152,
   "id": "8a1b66f9",
   "metadata": {},
   "outputs": [
    {
     "data": {
      "text/plain": [
       "[' username: Tflow\\n                     password: nyancat ']"
      ]
     },
     "execution_count": 152,
     "metadata": {},
     "output_type": "execute_result"
    }
   ],
   "source": [
    "#2.8 Writing a Regular Expression for Multiline Patterns\n",
    "\n",
    "user1 = re.compile((r'/\\*((?:.|\\n)*?)\\*/'))\n",
    "credential_1 = '''/* username: Tflow\n",
    "                     password: nyancat */'''\n",
    "               \n",
    "user1.findall(credential_1)"
   ]
  },
  {
   "cell_type": "code",
   "execution_count": 248,
   "id": "f6d6a020",
   "metadata": {},
   "outputs": [
    {
     "name": "stdout",
     "output_type": "stream",
     "text": [
      "Ivan Perisič\n",
      "Ivan Perisič\n"
     ]
    }
   ],
   "source": [
    "#2.9 Normalizing Unicode Text to a Standard Representation\n",
    "\n",
    "user23 = 'Ivan Perisi\\u010d'\n",
    "user24 = 'Ivan Perisic\\u030c'\n",
    "print(user23)\n",
    "print(user24)"
   ]
  },
  {
   "cell_type": "code",
   "execution_count": 163,
   "id": "32e7d441",
   "metadata": {},
   "outputs": [
    {
     "data": {
      "text/plain": [
       "True"
      ]
     },
     "execution_count": 163,
     "metadata": {},
     "output_type": "execute_result"
    }
   ],
   "source": [
    "import unicodedata\n",
    "\n",
    "t1 = unicodedata.normalize('NFC', user23)\n",
    "t2 = unicodedata.normalize('NFC', user24)\n",
    "t1 == t2"
   ]
  },
  {
   "cell_type": "code",
   "execution_count": 195,
   "id": "a6e10cf0",
   "metadata": {},
   "outputs": [
    {
     "data": {
      "text/plain": [
       "<re.Match object; span=(0, 4), match='0678'>"
      ]
     },
     "execution_count": 195,
     "metadata": {},
     "output_type": "execute_result"
    }
   ],
   "source": [
    "#2.10 Working with Unicode Characters in Regular Expressions\n",
    "\n",
    "num = re.compile('\\d+')\n",
    "num.match('0678')"
   ]
  },
  {
   "cell_type": "code",
   "execution_count": 206,
   "id": "d40d4c8f",
   "metadata": {},
   "outputs": [
    {
     "data": {
      "text/plain": [
       "<re.Match object; span=(0, 2), match='٧٨'>"
      ]
     },
     "execution_count": 206,
     "metadata": {},
     "output_type": "execute_result"
    }
   ],
   "source": [
    "num.match('\\u0667\\u0668')"
   ]
  },
  {
   "cell_type": "code",
   "execution_count": 249,
   "id": "b9fb3e80",
   "metadata": {},
   "outputs": [
    {
     "data": {
      "text/plain": [
       "<re.Match object; span=(0, 12), match='Ivan Perisič'>"
      ]
     },
     "execution_count": 249,
     "metadata": {},
     "output_type": "execute_result"
    }
   ],
   "source": [
    "pat = re.compile('Ivan Perisi\\u010d', re.IGNORECASE)\n",
    "user23 = 'Ivan Perisič'\n",
    "pat.match(user23)"
   ]
  },
  {
   "cell_type": "code",
   "execution_count": 207,
   "id": "47e85276",
   "metadata": {},
   "outputs": [
    {
     "data": {
      "text/plain": [
       "\"The hacker's name is \""
      ]
     },
     "execution_count": 207,
     "metadata": {},
     "output_type": "execute_result"
    }
   ],
   "source": [
    "#2.11 Stripping Unwanted Characters from Strings\n",
    "\n",
    "text_str = \"The hacker's name is Michael\"\n",
    "text_str.strip('Michael')"
   ]
  },
  {
   "cell_type": "code",
   "execution_count": 215,
   "id": "17b2dabc",
   "metadata": {},
   "outputs": [
    {
     "data": {
      "text/plain": [
       "'Hi my name is Michael'"
      ]
     },
     "execution_count": 215,
     "metadata": {},
     "output_type": "execute_result"
    }
   ],
   "source": [
    "#2.12 Sanitizing and Cleaning Up Text\n",
    "\n",
    "messy_str = 'Hi my name$ is #Michael'\n",
    "remap = {\n",
    "    ord('$'): '',\n",
    "    ord('#'): None\n",
    "}\n",
    "clean_str = messy_str.translate(remap)\n",
    "clean_str"
   ]
  },
  {
   "cell_type": "code",
   "execution_count": 220,
   "id": "bcf1cf4d",
   "metadata": {},
   "outputs": [
    {
     "name": "stdout",
     "output_type": "stream",
     "text": [
      "$$$$$$$Don't miss out on the Crypto Boom!!!$$$$$$$\n"
     ]
    }
   ],
   "source": [
    "#2.13 Aligning Text Strings\n",
    "\n",
    "billboard = \"Don't miss out on the Crypto Boom!!!\"\n",
    "new_billboard = format(billboard, '$^50')\n",
    "print(new_billboard)\n"
   ]
  },
  {
   "cell_type": "code",
   "execution_count": 221,
   "id": "e4992e9a",
   "metadata": {},
   "outputs": [
    {
     "data": {
      "text/plain": [
       "'Is Cambridge part of Boston?'"
      ]
     },
     "execution_count": 221,
     "metadata": {},
     "output_type": "execute_result"
    }
   ],
   "source": [
    "#2.14 Combining and Concatenating Strings\n",
    "\n",
    "words = ['Is',\n",
    "         'Cambridge',\n",
    "         'part',\n",
    "         'of',\n",
    "         'Boston?'\n",
    "        ]\n",
    "' '.join(words)\n"
   ]
  },
  {
   "cell_type": "code",
   "execution_count": 224,
   "id": "4784e7f0",
   "metadata": {},
   "outputs": [
    {
     "data": {
      "text/plain": [
       "'Please Login with <Kayla>, your password is <lulzsec>'"
      ]
     },
     "execution_count": 224,
     "metadata": {},
     "output_type": "execute_result"
    }
   ],
   "source": [
    "#2.15 Interpolating Variables in Strings\n",
    "\n",
    "login_info = 'Please Login with {username}, your password is {password}'\n",
    "login_info.format(username='<Kayla>', password='<lulzsec>')"
   ]
  },
  {
   "cell_type": "code",
   "execution_count": 225,
   "id": "4d6985fd",
   "metadata": {},
   "outputs": [
    {
     "data": {
      "text/plain": [
       "'Please Login with <Kayla>, your password is <lulzsec>'"
      ]
     },
     "execution_count": 225,
     "metadata": {},
     "output_type": "execute_result"
    }
   ],
   "source": [
    "class Info:\n",
    "    def __init__(hacker, username, password):\n",
    "        hacker.username = username\n",
    "        hacker.password = password\n",
    "        \n",
    "creds = Info('<Kayla>', '<lulzsec>')\n",
    "login_info.format_map(vars(creds))\n",
    "        "
   ]
  },
  {
   "cell_type": "code",
   "execution_count": 234,
   "id": "ba0922f9",
   "metadata": {},
   "outputs": [
    {
     "name": "stdout",
     "output_type": "stream",
     "text": [
      "Where it began, I can't\n",
      "begin to knowing, But\n",
      "then I know it's growing\n",
      "strong, Was in the\n",
      "spring, And spring became\n",
      "the summer, Who'd have\n",
      "believed you'd come along\n",
      ", Hands, touching hands,\n",
      "Reaching out, touching\n",
      "me, touching you\\Sweet\n",
      "Caroline, Good times\n",
      "never seemed so good,\n",
      "I've been inclined, To\n",
      "believe they never would\n"
     ]
    }
   ],
   "source": [
    "#2.16 Reformating Text to a Fixed Number of Columns\n",
    "\n",
    "lyrics = \"Where it began, I can't begin to knowing, But then I know it's growing strong, Was in the spring, And spring became the summer, Who'd have believed you'd come along , Hands, touching hands, Reaching out, touching me, touching you\\Sweet Caroline, Good times never seemed so good, I've been inclined, To believe they never would\"\n",
    "\n",
    "import textwrap\n",
    "print(textwrap.fill(lyrics,25))"
   ]
  },
  {
   "cell_type": "code",
   "execution_count": 235,
   "id": "cae62b3b",
   "metadata": {},
   "outputs": [
    {
     "name": "stdout",
     "output_type": "stream",
     "text": [
      "You are not on the sudoers list, this incident will be reported &quot;&lt;tag&gt;text&lt;/text&gt;&quot;.\n"
     ]
    }
   ],
   "source": [
    "#2.17 Handling HTML and XML Entities in Text\n",
    "\n",
    "import html\n",
    "\n",
    "warning_msg = 'You are not on the sudoers list, this incident will be reported \"<tag>text</text>\".'\n",
    "print(html.escape(warning_msg))"
   ]
  },
  {
   "cell_type": "code",
   "execution_count": 236,
   "id": "b0ea1fe6",
   "metadata": {},
   "outputs": [
    {
     "name": "stdout",
     "output_type": "stream",
     "text": [
      "You are not on the sudoers list, this incident will be reported \"&lt;tag&gt;text&lt;/text&gt;\".\n"
     ]
    }
   ],
   "source": [
    "print(html.escape(warning_msg, quote=False))"
   ]
  },
  {
   "cell_type": "code",
   "execution_count": 250,
   "id": "fcba8992",
   "metadata": {},
   "outputs": [
    {
     "data": {
      "text/plain": [
       "b'Ivan Perisic&#780;'"
      ]
     },
     "execution_count": 250,
     "metadata": {},
     "output_type": "execute_result"
    }
   ],
   "source": [
    "user24.encode('ascii', errors='xmlcharrefreplace')"
   ]
  },
  {
   "cell_type": "code",
   "execution_count": 251,
   "id": "13a045cc",
   "metadata": {},
   "outputs": [
    {
     "name": "stdout",
     "output_type": "stream",
     "text": [
      "Ivan Perisič\n"
     ]
    }
   ],
   "source": [
    "from html.parser import HTMLParser\n",
    "\n",
    "user25 = 'Ivan Perisic&#780;'\n",
    "parser = html\n",
    "user25 = parser.unescape(user25)\n",
    "print(user25)"
   ]
  },
  {
   "cell_type": "code",
   "execution_count": 252,
   "id": "ca99b76b",
   "metadata": {},
   "outputs": [
    {
     "data": {
      "text/plain": [
       "True"
      ]
     },
     "execution_count": 252,
     "metadata": {},
     "output_type": "execute_result"
    }
   ],
   "source": [
    "user25 == user24"
   ]
  },
  {
   "cell_type": "code",
   "execution_count": 261,
   "id": "148b6ce1",
   "metadata": {},
   "outputs": [
    {
     "data": {
      "text/plain": [
       "<re.Match object; span=(0, 3), match='baz'>"
      ]
     },
     "execution_count": 261,
     "metadata": {},
     "output_type": "execute_result"
    }
   ],
   "source": [
    "#2.18 Tokenizing Text\n",
    "\n",
    "text_a = 'baz = 12 - 6 / 2'\n",
    "\n",
    "tokens = [\n",
    "    ('NAME', 'baz'),\n",
    "    ('EQ', '='),\n",
    "    ('NUM', '12'),\n",
    "    ('MINUS', '-'),\n",
    "    ('NUM', '6'),\n",
    "    ('DIVIDE', '/'),\n",
    "    ('NUM', '2')\n",
    "]\n",
    "\n",
    "NAME = r'(?P<NAME>[a-zA-Z_][a-zA-Z_0-9]*)'\n",
    "NUM = r'(?P<NUM>\\d+)'\n",
    "MINUS = r'(?P<MINUS>\\-)'\n",
    "DIVIDE = r'(?P<DIVIDE>\\/)'\n",
    "EQ = r'(?P<EQ>\\=)'\n",
    "WS = r'(?P<WS>\\s+)'\n",
    "\n",
    "master_pat = re.compile('|'.join([NAME, NUM, MINUS, DIVIDE, EQ, WS]))\n",
    "\n",
    "scanner = master_pat.scanner('baz = 12')\n",
    "scanner.match()"
   ]
  },
  {
   "cell_type": "code",
   "execution_count": 262,
   "id": "caa34766",
   "metadata": {},
   "outputs": [
    {
     "data": {
      "text/plain": [
       "('NAME', 'baz')"
      ]
     },
     "execution_count": 262,
     "metadata": {},
     "output_type": "execute_result"
    }
   ],
   "source": [
    "_.lastgroup,_.group()"
   ]
  },
  {
   "cell_type": "code",
   "execution_count": 263,
   "id": "1933369a",
   "metadata": {},
   "outputs": [
    {
     "data": {
      "text/plain": [
       "<re.Match object; span=(3, 4), match=' '>"
      ]
     },
     "execution_count": 263,
     "metadata": {},
     "output_type": "execute_result"
    }
   ],
   "source": [
    "scanner.match()"
   ]
  },
  {
   "cell_type": "code",
   "execution_count": 264,
   "id": "826ec452",
   "metadata": {},
   "outputs": [
    {
     "data": {
      "text/plain": [
       "('WS', ' ')"
      ]
     },
     "execution_count": 264,
     "metadata": {},
     "output_type": "execute_result"
    }
   ],
   "source": [
    "_.lastgroup,_.group()"
   ]
  },
  {
   "cell_type": "code",
   "execution_count": 265,
   "id": "7aabf4b0",
   "metadata": {},
   "outputs": [
    {
     "data": {
      "text/plain": [
       "<re.Match object; span=(4, 5), match='='>"
      ]
     },
     "execution_count": 265,
     "metadata": {},
     "output_type": "execute_result"
    }
   ],
   "source": [
    "scanner.match()"
   ]
  },
  {
   "cell_type": "code",
   "execution_count": 266,
   "id": "fa292f62",
   "metadata": {},
   "outputs": [
    {
     "data": {
      "text/plain": [
       "('EQ', '=')"
      ]
     },
     "execution_count": 266,
     "metadata": {},
     "output_type": "execute_result"
    }
   ],
   "source": [
    "_.lastgroup,_.group()"
   ]
  },
  {
   "cell_type": "code",
   "execution_count": 267,
   "id": "41ef172a",
   "metadata": {},
   "outputs": [
    {
     "data": {
      "text/plain": [
       "<re.Match object; span=(5, 6), match=' '>"
      ]
     },
     "execution_count": 267,
     "metadata": {},
     "output_type": "execute_result"
    }
   ],
   "source": [
    "scanner.match()"
   ]
  },
  {
   "cell_type": "code",
   "execution_count": 268,
   "id": "5596966c",
   "metadata": {},
   "outputs": [
    {
     "data": {
      "text/plain": [
       "('WS', ' ')"
      ]
     },
     "execution_count": 268,
     "metadata": {},
     "output_type": "execute_result"
    }
   ],
   "source": [
    "_.lastgroup,_.group()"
   ]
  },
  {
   "cell_type": "code",
   "execution_count": 269,
   "id": "32c95cd4",
   "metadata": {},
   "outputs": [
    {
     "data": {
      "text/plain": [
       "<re.Match object; span=(6, 8), match='12'>"
      ]
     },
     "execution_count": 269,
     "metadata": {},
     "output_type": "execute_result"
    }
   ],
   "source": [
    "scanner.match()"
   ]
  },
  {
   "cell_type": "code",
   "execution_count": 270,
   "id": "749e9468",
   "metadata": {},
   "outputs": [
    {
     "data": {
      "text/plain": [
       "('NUM', '12')"
      ]
     },
     "execution_count": 270,
     "metadata": {},
     "output_type": "execute_result"
    }
   ],
   "source": [
    "_.lastgroup,_.group()"
   ]
  },
  {
   "cell_type": "code",
   "execution_count": 271,
   "id": "1f2c01b9",
   "metadata": {},
   "outputs": [
    {
     "name": "stdout",
     "output_type": "stream",
     "text": [
      "Token(type='NAME', value='baz')\n",
      "Token(type='WS', value=' ')\n",
      "Token(type='EQ', value='=')\n",
      "Token(type='WS', value=' ')\n",
      "Token(type='NUM', value='12')\n"
     ]
    }
   ],
   "source": [
    "from collections import namedtuple\n",
    "\n",
    "Token = namedtuple('Token', ['type', 'value'])\n",
    "\n",
    "def generate_tokens(pat, text_a):\n",
    "    scanner = pat.scanner(text_a)\n",
    "    for m in iter(scanner.match, None):\n",
    "        yield Token(m.lastgroup, m.group())\n",
    "        \n",
    "for tok in generate_tokens(master_pat, 'baz = 12'):\n",
    "    print(tok)"
   ]
  },
  {
   "cell_type": "code",
   "execution_count": 272,
   "id": "e02e8bbe",
   "metadata": {},
   "outputs": [
    {
     "name": "stdout",
     "output_type": "stream",
     "text": [
      "Token(type='NAME', value='baz')\n",
      "Token(type='EQ', value='=')\n",
      "Token(type='NUM', value='12')\n",
      "Token(type='MINUS', value='-')\n",
      "Token(type='NUM', value='6')\n",
      "Token(type='DIVIDE', value='/')\n",
      "Token(type='NUM', value='2')\n"
     ]
    }
   ],
   "source": [
    "tokens = (tok for tok in generate_tokens(master_pat, text_a)\n",
    "          if tok.type != 'WS')\n",
    "for tok in tokens:\n",
    "    print(tok)"
   ]
  },
  {
   "cell_type": "code",
   "execution_count": 277,
   "id": "76fd6e2e",
   "metadata": {},
   "outputs": [],
   "source": [
    "#2.19 Writing a Simple Recursive Descent Parser\n",
    "\n",
    "import collections\n",
    "\n",
    "def generate_tokens(text_a):\n",
    "    scanner = master_pat.scanner(text_a)\n",
    "    for m in iter(scanner.match, None):\n",
    "        tok = Token(m.lastgroup, m.group())\n",
    "        if tok.type != 'WS':\n",
    "            yield tok\n",
    "\n",
    "class ExpressionEvaluator:\n",
    "    \n",
    "    def parse(self,text_a):\n",
    "        self.tokens = generate_tokens(text_a)\n",
    "        self.tok = None \n",
    "        self.nexttok = None \n",
    "        self._advance() \n",
    "        return self.expr()\n",
    "    \n",
    "    def _advance(self):\n",
    "        self.tok, self.nexttok = self.nexttok, next(self.tokens, None)\n",
    "        \n",
    "    def _accept(self,toktype):\n",
    "        if self.nexttok and self.nexttok.type == toktype:\n",
    "            self._advance()\n",
    "            return True\n",
    "        else:\n",
    "            return False\n",
    "        \n",
    "def _expect(self,toktype):\n",
    "    if not self._accept(toktype):\n",
    "        raise SyntaxError('Expected ' + toktype)\n",
    "        \n",
    "def expr(self):\n",
    "    \"expression ::= term { ('+'|'-') term }*\"\n",
    "    \n",
    "    exprval = self.term()\n",
    "    while self._accept('PLUS') or self._accept('MINUS'):\n",
    "        op = self.tok.type\n",
    "        right = self.term()\n",
    "        if op == 'PLUS':\n",
    "            exprval += right\n",
    "        elif op == 'MINUS':\n",
    "            exprval -= right\n",
    "    return exprval\n",
    "\n",
    "def term(self):\n",
    "    \"term ::= factor { ('*'|'/') factor }*\"\n",
    " \n",
    "    termval = self.factor()\n",
    "    while self._accept('TIMES') or self._accept('DIVIDE'):\n",
    "        op = self.tok.type\n",
    "        right = self.factor()\n",
    "        if op == 'TIMES':\n",
    "            termval *= right\n",
    "        elif op == 'DIVIDE':\n",
    "            termval /= right\n",
    "    return termval\n",
    "\n",
    "def factor(self):\n",
    "    \"factor ::= NUM | ( expr )\"\n",
    "    \n",
    "    if self._accept('NUM'):\n",
    "        return int(self.tok.value)\n",
    "    elif self._accept('LPAREN'):\n",
    "        exprval = self.expr()\n",
    "        self._expect('RPAREN')\n",
    "        return exprval\n",
    "    else:\n",
    "        raise SyntaxError('Expected NUMBER or LPAREN')"
   ]
  },
  {
   "cell_type": "code",
   "execution_count": 279,
   "id": "3f9970c2",
   "metadata": {},
   "outputs": [
    {
     "ename": "AttributeError",
     "evalue": "'ExpressionEvaluator' object has no attribute 'expr'",
     "output_type": "error",
     "traceback": [
      "\u001b[1;31m---------------------------------------------------------------------------\u001b[0m",
      "\u001b[1;31mAttributeError\u001b[0m                            Traceback (most recent call last)",
      "Input \u001b[1;32mIn [279]\u001b[0m, in \u001b[0;36m<cell line: 2>\u001b[1;34m()\u001b[0m\n\u001b[0;32m      1\u001b[0m e \u001b[38;5;241m=\u001b[39m ExpressionEvaluator()\n\u001b[1;32m----> 2\u001b[0m \u001b[43me\u001b[49m\u001b[38;5;241;43m.\u001b[39;49m\u001b[43mparse\u001b[49m\u001b[43m(\u001b[49m\u001b[38;5;124;43m'\u001b[39;49m\u001b[38;5;124;43m12 - 6 / 2\u001b[39;49m\u001b[38;5;124;43m'\u001b[39;49m\u001b[43m)\u001b[49m\n",
      "Input \u001b[1;32mIn [277]\u001b[0m, in \u001b[0;36mExpressionEvaluator.parse\u001b[1;34m(self, text_a)\u001b[0m\n\u001b[0;32m     17\u001b[0m \u001b[38;5;28mself\u001b[39m\u001b[38;5;241m.\u001b[39mnexttok \u001b[38;5;241m=\u001b[39m \u001b[38;5;28;01mNone\u001b[39;00m \n\u001b[0;32m     18\u001b[0m \u001b[38;5;28mself\u001b[39m\u001b[38;5;241m.\u001b[39m_advance() \n\u001b[1;32m---> 19\u001b[0m \u001b[38;5;28;01mreturn\u001b[39;00m \u001b[38;5;28;43mself\u001b[39;49m\u001b[38;5;241;43m.\u001b[39;49m\u001b[43mexpr\u001b[49m()\n",
      "\u001b[1;31mAttributeError\u001b[0m: 'ExpressionEvaluator' object has no attribute 'expr'"
     ]
    }
   ],
   "source": [
    "e = ExpressionEvaluator()\n",
    "e.parse('12 - 6 / 2')"
   ]
  },
  {
   "cell_type": "code",
   "execution_count": 281,
   "id": "8e338491",
   "metadata": {},
   "outputs": [
    {
     "data": {
      "text/plain": [
       "[b'Gavin', b'Poon']"
      ]
     },
     "execution_count": 281,
     "metadata": {},
     "output_type": "execute_result"
    }
   ],
   "source": [
    "#2.20 Performing Text Operations on Byte Strings\n",
    "\n",
    "my_name = b'Gavin Poon'\n",
    "my_name.split()"
   ]
  },
  {
   "cell_type": "code",
   "execution_count": 282,
   "id": "c02b8ead",
   "metadata": {},
   "outputs": [
    {
     "data": {
      "text/plain": [
       "b'Call me Mr. Poon'"
      ]
     },
     "execution_count": 282,
     "metadata": {},
     "output_type": "execute_result"
    }
   ],
   "source": [
    "my_name.replace(b'Gavin', b'Call me Mr.')"
   ]
  },
  {
   "cell_type": "code",
   "execution_count": null,
   "id": "090d0b78",
   "metadata": {},
   "outputs": [],
   "source": []
  }
 ],
 "metadata": {
  "kernelspec": {
   "display_name": "Python 3 (ipykernel)",
   "language": "python",
   "name": "python3"
  },
  "language_info": {
   "codemirror_mode": {
    "name": "ipython",
    "version": 3
   },
   "file_extension": ".py",
   "mimetype": "text/x-python",
   "name": "python",
   "nbconvert_exporter": "python",
   "pygments_lexer": "ipython3",
   "version": "3.9.12"
  }
 },
 "nbformat": 4,
 "nbformat_minor": 5
}
